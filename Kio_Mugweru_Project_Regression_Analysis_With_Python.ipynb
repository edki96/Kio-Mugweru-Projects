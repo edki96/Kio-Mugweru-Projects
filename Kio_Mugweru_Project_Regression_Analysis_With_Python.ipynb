{
  "nbformat": 4,
  "nbformat_minor": 0,
  "metadata": {
    "kernelspec": {
      "display_name": "Python 3",
      "language": "python",
      "name": "python3"
    },
    "language_info": {
      "codemirror_mode": {
        "name": "ipython",
        "version": 3
      },
      "file_extension": ".py",
      "mimetype": "text/x-python",
      "name": "python",
      "nbconvert_exporter": "python",
      "pygments_lexer": "ipython3",
      "version": "3.7.4"
    },
    "colab": {
      "name": "Kio Mugweru Project_Regression_Analysis_With_Python",
      "provenance": []
    }
  },
  "cells": [
    {
      "cell_type": "markdown",
      "metadata": {
        "id": "meaFX6VfQh5I"
      },
      "source": [
        "## <font color='#2F4F4F'>1. Defining the Question</font>"
      ]
    },
    {
      "cell_type": "markdown",
      "metadata": {
        "id": "mTX4bMspQh5K"
      },
      "source": [
        "### a) Specifying the Data Analysis Question\n",
        "\n",
        "Perform multiple linear regression to predict the price of a house. Make sure to check for assumptions."
      ]
    },
    {
      "cell_type": "markdown",
      "metadata": {
        "id": "5s2gnvcjQh5L"
      },
      "source": [
        "### b) Defining the Metric for Success\n",
        "\n",
        "The project will be a success when we are able to create a multiple linear regression model that fits at least 80% of the training data."
      ]
    },
    {
      "cell_type": "markdown",
      "metadata": {
        "id": "E23qkTvTQh5M"
      },
      "source": [
        "### c) Understanding the Context \n",
        "\n",
        "Knightly Frankly is an estate agency, residential and commercial property consultancy\n",
        "founded in London by John Knight, Howard Frank and William Rutley in 1896.\n",
        "Together with its New York-based affiliate Newmark, Knightly Frankly is one of the\n",
        "world's largest global property consultancies.\n",
        "As a data scientist working for the agency, you have been put to task to help develop a\n",
        "solution that would allow the agency to price its properties."
      ]
    },
    {
      "cell_type": "markdown",
      "metadata": {
        "id": "kk6TpqrfQh5M"
      },
      "source": [
        "### d) Recording the Experimental Design\n",
        "\n",
        "1. Load datasets and libraries\n",
        "2. Clean data\n",
        "3. Perform univariate and bivariate analysis\n",
        "4. Check that the assumptions of multiple linear regression aren't violated\n",
        "5. Perform multiple linear regression\n",
        "6. Summarize findings\n",
        "7. Provide recommendations\n",
        "8. Challenge the solution"
      ]
    },
    {
      "cell_type": "markdown",
      "metadata": {
        "id": "__PaXEtKQh5N"
      },
      "source": [
        "### e) Data Relevance\n",
        "\n",
        "The dataset provided is appropriate and relevant to the research question."
      ]
    },
    {
      "cell_type": "markdown",
      "metadata": {
        "id": "s8rSBtAyQh5O"
      },
      "source": [
        "## <font color='#2F4F4F'>2. Data Cleaning & Preparation</font>"
      ]
    },
    {
      "cell_type": "code",
      "metadata": {
        "id": "PZy6qDmHQh5O"
      },
      "source": [
        "import pandas as pd\n",
        "import numpy as np\n",
        "import matplotlib.pyplot as plt\n",
        "import seaborn as sns\n",
        "\n",
        "pd.set_option('display.max.columns', None)"
      ],
      "execution_count": 36,
      "outputs": []
    },
    {
      "cell_type": "code",
      "metadata": {
        "scrolled": true,
        "id": "GHFyUXltQh5T",
        "colab": {
          "base_uri": "https://localhost:8080/",
          "height": 270
        },
        "outputId": "74a458f4-cc5a-4118-fb5f-92b4fbbc4647"
      },
      "source": [
        "house = pd.read_csv('https://bit.ly/2Ww3f6sPropertiesDs')\n",
        "house.head()"
      ],
      "execution_count": 37,
      "outputs": [
        {
          "output_type": "execute_result",
          "data": {
            "text/html": [
              "\n",
              "  <div id=\"df-39f10857-5776-47ac-b68f-fd22c590adcd\">\n",
              "    <div class=\"colab-df-container\">\n",
              "      <div>\n",
              "<style scoped>\n",
              "    .dataframe tbody tr th:only-of-type {\n",
              "        vertical-align: middle;\n",
              "    }\n",
              "\n",
              "    .dataframe tbody tr th {\n",
              "        vertical-align: top;\n",
              "    }\n",
              "\n",
              "    .dataframe thead th {\n",
              "        text-align: right;\n",
              "    }\n",
              "</style>\n",
              "<table border=\"1\" class=\"dataframe\">\n",
              "  <thead>\n",
              "    <tr style=\"text-align: right;\">\n",
              "      <th></th>\n",
              "      <th>id</th>\n",
              "      <th>date</th>\n",
              "      <th>price</th>\n",
              "      <th>bedrooms</th>\n",
              "      <th>bathrooms</th>\n",
              "      <th>sqft_living</th>\n",
              "      <th>sqft_lot</th>\n",
              "      <th>floors</th>\n",
              "      <th>waterfront</th>\n",
              "      <th>view</th>\n",
              "      <th>condition</th>\n",
              "      <th>grade</th>\n",
              "      <th>sqft_above</th>\n",
              "      <th>sqft_basement</th>\n",
              "      <th>yr_built</th>\n",
              "      <th>yr_renovated</th>\n",
              "      <th>zipcode</th>\n",
              "      <th>lat</th>\n",
              "      <th>long</th>\n",
              "      <th>sqft_living15</th>\n",
              "      <th>sqft_lot15</th>\n",
              "    </tr>\n",
              "  </thead>\n",
              "  <tbody>\n",
              "    <tr>\n",
              "      <th>0</th>\n",
              "      <td>7129300520</td>\n",
              "      <td>20141013T000000</td>\n",
              "      <td>221900.0</td>\n",
              "      <td>3</td>\n",
              "      <td>1.00</td>\n",
              "      <td>1180</td>\n",
              "      <td>5650</td>\n",
              "      <td>1.0</td>\n",
              "      <td>0</td>\n",
              "      <td>0</td>\n",
              "      <td>3</td>\n",
              "      <td>7</td>\n",
              "      <td>1180</td>\n",
              "      <td>0</td>\n",
              "      <td>1955</td>\n",
              "      <td>0</td>\n",
              "      <td>98178</td>\n",
              "      <td>47.5112</td>\n",
              "      <td>-122.257</td>\n",
              "      <td>1340</td>\n",
              "      <td>5650</td>\n",
              "    </tr>\n",
              "    <tr>\n",
              "      <th>1</th>\n",
              "      <td>6414100192</td>\n",
              "      <td>20141209T000000</td>\n",
              "      <td>538000.0</td>\n",
              "      <td>3</td>\n",
              "      <td>2.25</td>\n",
              "      <td>2570</td>\n",
              "      <td>7242</td>\n",
              "      <td>2.0</td>\n",
              "      <td>0</td>\n",
              "      <td>0</td>\n",
              "      <td>3</td>\n",
              "      <td>7</td>\n",
              "      <td>2170</td>\n",
              "      <td>400</td>\n",
              "      <td>1951</td>\n",
              "      <td>1991</td>\n",
              "      <td>98125</td>\n",
              "      <td>47.7210</td>\n",
              "      <td>-122.319</td>\n",
              "      <td>1690</td>\n",
              "      <td>7639</td>\n",
              "    </tr>\n",
              "    <tr>\n",
              "      <th>2</th>\n",
              "      <td>5631500400</td>\n",
              "      <td>20150225T000000</td>\n",
              "      <td>180000.0</td>\n",
              "      <td>2</td>\n",
              "      <td>1.00</td>\n",
              "      <td>770</td>\n",
              "      <td>10000</td>\n",
              "      <td>1.0</td>\n",
              "      <td>0</td>\n",
              "      <td>0</td>\n",
              "      <td>3</td>\n",
              "      <td>6</td>\n",
              "      <td>770</td>\n",
              "      <td>0</td>\n",
              "      <td>1933</td>\n",
              "      <td>0</td>\n",
              "      <td>98028</td>\n",
              "      <td>47.7379</td>\n",
              "      <td>-122.233</td>\n",
              "      <td>2720</td>\n",
              "      <td>8062</td>\n",
              "    </tr>\n",
              "    <tr>\n",
              "      <th>3</th>\n",
              "      <td>2487200875</td>\n",
              "      <td>20141209T000000</td>\n",
              "      <td>604000.0</td>\n",
              "      <td>4</td>\n",
              "      <td>3.00</td>\n",
              "      <td>1960</td>\n",
              "      <td>5000</td>\n",
              "      <td>1.0</td>\n",
              "      <td>0</td>\n",
              "      <td>0</td>\n",
              "      <td>5</td>\n",
              "      <td>7</td>\n",
              "      <td>1050</td>\n",
              "      <td>910</td>\n",
              "      <td>1965</td>\n",
              "      <td>0</td>\n",
              "      <td>98136</td>\n",
              "      <td>47.5208</td>\n",
              "      <td>-122.393</td>\n",
              "      <td>1360</td>\n",
              "      <td>5000</td>\n",
              "    </tr>\n",
              "    <tr>\n",
              "      <th>4</th>\n",
              "      <td>1954400510</td>\n",
              "      <td>20150218T000000</td>\n",
              "      <td>510000.0</td>\n",
              "      <td>3</td>\n",
              "      <td>2.00</td>\n",
              "      <td>1680</td>\n",
              "      <td>8080</td>\n",
              "      <td>1.0</td>\n",
              "      <td>0</td>\n",
              "      <td>0</td>\n",
              "      <td>3</td>\n",
              "      <td>8</td>\n",
              "      <td>1680</td>\n",
              "      <td>0</td>\n",
              "      <td>1987</td>\n",
              "      <td>0</td>\n",
              "      <td>98074</td>\n",
              "      <td>47.6168</td>\n",
              "      <td>-122.045</td>\n",
              "      <td>1800</td>\n",
              "      <td>7503</td>\n",
              "    </tr>\n",
              "  </tbody>\n",
              "</table>\n",
              "</div>\n",
              "      <button class=\"colab-df-convert\" onclick=\"convertToInteractive('df-39f10857-5776-47ac-b68f-fd22c590adcd')\"\n",
              "              title=\"Convert this dataframe to an interactive table.\"\n",
              "              style=\"display:none;\">\n",
              "        \n",
              "  <svg xmlns=\"http://www.w3.org/2000/svg\" height=\"24px\"viewBox=\"0 0 24 24\"\n",
              "       width=\"24px\">\n",
              "    <path d=\"M0 0h24v24H0V0z\" fill=\"none\"/>\n",
              "    <path d=\"M18.56 5.44l.94 2.06.94-2.06 2.06-.94-2.06-.94-.94-2.06-.94 2.06-2.06.94zm-11 1L8.5 8.5l.94-2.06 2.06-.94-2.06-.94L8.5 2.5l-.94 2.06-2.06.94zm10 10l.94 2.06.94-2.06 2.06-.94-2.06-.94-.94-2.06-.94 2.06-2.06.94z\"/><path d=\"M17.41 7.96l-1.37-1.37c-.4-.4-.92-.59-1.43-.59-.52 0-1.04.2-1.43.59L10.3 9.45l-7.72 7.72c-.78.78-.78 2.05 0 2.83L4 21.41c.39.39.9.59 1.41.59.51 0 1.02-.2 1.41-.59l7.78-7.78 2.81-2.81c.8-.78.8-2.07 0-2.86zM5.41 20L4 18.59l7.72-7.72 1.47 1.35L5.41 20z\"/>\n",
              "  </svg>\n",
              "      </button>\n",
              "      \n",
              "  <style>\n",
              "    .colab-df-container {\n",
              "      display:flex;\n",
              "      flex-wrap:wrap;\n",
              "      gap: 12px;\n",
              "    }\n",
              "\n",
              "    .colab-df-convert {\n",
              "      background-color: #E8F0FE;\n",
              "      border: none;\n",
              "      border-radius: 50%;\n",
              "      cursor: pointer;\n",
              "      display: none;\n",
              "      fill: #1967D2;\n",
              "      height: 32px;\n",
              "      padding: 0 0 0 0;\n",
              "      width: 32px;\n",
              "    }\n",
              "\n",
              "    .colab-df-convert:hover {\n",
              "      background-color: #E2EBFA;\n",
              "      box-shadow: 0px 1px 2px rgba(60, 64, 67, 0.3), 0px 1px 3px 1px rgba(60, 64, 67, 0.15);\n",
              "      fill: #174EA6;\n",
              "    }\n",
              "\n",
              "    [theme=dark] .colab-df-convert {\n",
              "      background-color: #3B4455;\n",
              "      fill: #D2E3FC;\n",
              "    }\n",
              "\n",
              "    [theme=dark] .colab-df-convert:hover {\n",
              "      background-color: #434B5C;\n",
              "      box-shadow: 0px 1px 3px 1px rgba(0, 0, 0, 0.15);\n",
              "      filter: drop-shadow(0px 1px 2px rgba(0, 0, 0, 0.3));\n",
              "      fill: #FFFFFF;\n",
              "    }\n",
              "  </style>\n",
              "\n",
              "      <script>\n",
              "        const buttonEl =\n",
              "          document.querySelector('#df-39f10857-5776-47ac-b68f-fd22c590adcd button.colab-df-convert');\n",
              "        buttonEl.style.display =\n",
              "          google.colab.kernel.accessAllowed ? 'block' : 'none';\n",
              "\n",
              "        async function convertToInteractive(key) {\n",
              "          const element = document.querySelector('#df-39f10857-5776-47ac-b68f-fd22c590adcd');\n",
              "          const dataTable =\n",
              "            await google.colab.kernel.invokeFunction('convertToInteractive',\n",
              "                                                     [key], {});\n",
              "          if (!dataTable) return;\n",
              "\n",
              "          const docLinkHtml = 'Like what you see? Visit the ' +\n",
              "            '<a target=\"_blank\" href=https://colab.research.google.com/notebooks/data_table.ipynb>data table notebook</a>'\n",
              "            + ' to learn more about interactive tables.';\n",
              "          element.innerHTML = '';\n",
              "          dataTable['output_type'] = 'display_data';\n",
              "          await google.colab.output.renderOutput(dataTable, element);\n",
              "          const docLink = document.createElement('div');\n",
              "          docLink.innerHTML = docLinkHtml;\n",
              "          element.appendChild(docLink);\n",
              "        }\n",
              "      </script>\n",
              "    </div>\n",
              "  </div>\n",
              "  "
            ],
            "text/plain": [
              "           id             date     price  bedrooms  bathrooms  sqft_living  \\\n",
              "0  7129300520  20141013T000000  221900.0         3       1.00         1180   \n",
              "1  6414100192  20141209T000000  538000.0         3       2.25         2570   \n",
              "2  5631500400  20150225T000000  180000.0         2       1.00          770   \n",
              "3  2487200875  20141209T000000  604000.0         4       3.00         1960   \n",
              "4  1954400510  20150218T000000  510000.0         3       2.00         1680   \n",
              "\n",
              "   sqft_lot  floors  waterfront  view  condition  grade  sqft_above  \\\n",
              "0      5650     1.0           0     0          3      7        1180   \n",
              "1      7242     2.0           0     0          3      7        2170   \n",
              "2     10000     1.0           0     0          3      6         770   \n",
              "3      5000     1.0           0     0          5      7        1050   \n",
              "4      8080     1.0           0     0          3      8        1680   \n",
              "\n",
              "   sqft_basement  yr_built  yr_renovated  zipcode      lat     long  \\\n",
              "0              0      1955             0    98178  47.5112 -122.257   \n",
              "1            400      1951          1991    98125  47.7210 -122.319   \n",
              "2              0      1933             0    98028  47.7379 -122.233   \n",
              "3            910      1965             0    98136  47.5208 -122.393   \n",
              "4              0      1987             0    98074  47.6168 -122.045   \n",
              "\n",
              "   sqft_living15  sqft_lot15  \n",
              "0           1340        5650  \n",
              "1           1690        7639  \n",
              "2           2720        8062  \n",
              "3           1360        5000  \n",
              "4           1800        7503  "
            ]
          },
          "metadata": {},
          "execution_count": 37
        }
      ]
    },
    {
      "cell_type": "code",
      "metadata": {
        "id": "8Tu6IRTPQh5Z",
        "colab": {
          "base_uri": "https://localhost:8080/"
        },
        "outputId": "23c5c9ca-12b7-415d-c4ba-c17c51e92890"
      },
      "source": [
        "# check dataset shape\n",
        "house.shape"
      ],
      "execution_count": 38,
      "outputs": [
        {
          "output_type": "execute_result",
          "data": {
            "text/plain": [
              "(21613, 21)"
            ]
          },
          "metadata": {},
          "execution_count": 38
        }
      ]
    },
    {
      "cell_type": "code",
      "metadata": {
        "id": "-0oolCubQh5d",
        "colab": {
          "base_uri": "https://localhost:8080/"
        },
        "outputId": "7d389dc9-3f87-415d-80f0-76971a460ade"
      },
      "source": [
        "# chekc data types\n",
        "house.dtypes"
      ],
      "execution_count": 39,
      "outputs": [
        {
          "output_type": "execute_result",
          "data": {
            "text/plain": [
              "id                 int64\n",
              "date              object\n",
              "price            float64\n",
              "bedrooms           int64\n",
              "bathrooms        float64\n",
              "sqft_living        int64\n",
              "sqft_lot           int64\n",
              "floors           float64\n",
              "waterfront         int64\n",
              "view               int64\n",
              "condition          int64\n",
              "grade              int64\n",
              "sqft_above         int64\n",
              "sqft_basement      int64\n",
              "yr_built           int64\n",
              "yr_renovated       int64\n",
              "zipcode            int64\n",
              "lat              float64\n",
              "long             float64\n",
              "sqft_living15      int64\n",
              "sqft_lot15         int64\n",
              "dtype: object"
            ]
          },
          "metadata": {},
          "execution_count": 39
        }
      ]
    },
    {
      "cell_type": "markdown",
      "metadata": {
        "id": "wlarjfW3Qh5g"
      },
      "source": [
        "We will drop the 'id' and 'date' variables and then drop any duplicated values so that it will be easier to work with the dataset."
      ]
    },
    {
      "cell_type": "code",
      "metadata": {
        "id": "-pyGVuJoQh5h"
      },
      "source": [
        "house = house.drop(columns = ['id', 'date'])"
      ],
      "execution_count": 40,
      "outputs": []
    },
    {
      "cell_type": "code",
      "metadata": {
        "id": "DDhro9kWQh5p",
        "colab": {
          "base_uri": "https://localhost:8080/"
        },
        "outputId": "7cc2d48f-b5d0-4fa9-f1d5-02eb09152fee"
      },
      "source": [
        "# dropping duplicates, if any\n",
        "house.drop_duplicates(inplace = True)\n",
        "house.shape"
      ],
      "execution_count": 41,
      "outputs": [
        {
          "output_type": "execute_result",
          "data": {
            "text/plain": [
              "(21608, 19)"
            ]
          },
          "metadata": {},
          "execution_count": 41
        }
      ]
    },
    {
      "cell_type": "code",
      "metadata": {
        "id": "uBlNxg15Qh5t",
        "colab": {
          "base_uri": "https://localhost:8080/"
        },
        "outputId": "55451da3-5e06-4fc5-9c39-68725419b373"
      },
      "source": [
        "# check for missing data\n",
        "house.isna().sum()"
      ],
      "execution_count": 42,
      "outputs": [
        {
          "output_type": "execute_result",
          "data": {
            "text/plain": [
              "price            0\n",
              "bedrooms         0\n",
              "bathrooms        0\n",
              "sqft_living      0\n",
              "sqft_lot         0\n",
              "floors           0\n",
              "waterfront       0\n",
              "view             0\n",
              "condition        0\n",
              "grade            0\n",
              "sqft_above       0\n",
              "sqft_basement    0\n",
              "yr_built         0\n",
              "yr_renovated     0\n",
              "zipcode          0\n",
              "lat              0\n",
              "long             0\n",
              "sqft_living15    0\n",
              "sqft_lot15       0\n",
              "dtype: int64"
            ]
          },
          "metadata": {},
          "execution_count": 42
        }
      ]
    },
    {
      "cell_type": "markdown",
      "metadata": {
        "id": "zgtiibCgQh5w"
      },
      "source": [
        "There are no missing values."
      ]
    },
    {
      "cell_type": "markdown",
      "metadata": {
        "id": "xTiv2tLCQh5x"
      },
      "source": [
        "## <font color='#2F4F4F'>3. Data Analysis</font>"
      ]
    },
    {
      "cell_type": "markdown",
      "metadata": {
        "id": "LtX54cfZQh5x"
      },
      "source": [
        "For our analysis, we will check the assumptions of multiple linear regression which include:\n",
        "1. There must be a linear relationship between the independent variables and the target variable.\n",
        "2. Few or no outliers.\n",
        "3. Little to no multicollinearity.\n",
        "4. Homoscedasticity - variance of error terms must be similar across the independent variables.\n",
        "5. All residuals must be normally distributed. "
      ]
    },
    {
      "cell_type": "markdown",
      "metadata": {
        "id": "tUcQJF-9Qh5y"
      },
      "source": [
        "### 3.1 Checking linearity"
      ]
    },
    {
      "cell_type": "code",
      "metadata": {
        "id": "BztUQ5vMQh5z",
        "colab": {
          "base_uri": "https://localhost:8080/"
        },
        "outputId": "fe5de7e5-2fc4-4f87-dc2c-df90437e708d"
      },
      "source": [
        "# create list to store column names to test against 'price'\n",
        "house_columns = house.columns.to_list()\n",
        "house_columns.remove('price')\n",
        "len(house_columns)"
      ],
      "execution_count": 43,
      "outputs": [
        {
          "output_type": "execute_result",
          "data": {
            "text/plain": [
              "18"
            ]
          },
          "metadata": {},
          "execution_count": 43
        }
      ]
    },
    {
      "cell_type": "code",
      "metadata": {
        "scrolled": false,
        "id": "okBGvNGsQh52"
      },
      "source": [
        "# creating scatterplots to observe the relationship between price and the variables\n",
        "fig, axes = plt.subplots(nrows = 9, ncols = 2, figsize = (12, 30))\n",
        "\n",
        "for ax, col in zip(axes.flatten(), house_columns):\n",
        "    sns.scatterplot(house[col], house['price'], ax = ax)\n",
        "    plt.xlabel(\"{}\".format(col))\n",
        "    plt.ylabel(\"price\")\n",
        "    \n",
        "plt.tight_layout()"
      ],
      "execution_count": null,
      "outputs": []
    },
    {
      "cell_type": "markdown",
      "metadata": {
        "id": "pSklY_jFQh56"
      },
      "source": [
        "What have you noticed? What will you do next?"
      ]
    },
    {
      "cell_type": "markdown",
      "metadata": {
        "id": "wZX1cZ1SQh57"
      },
      "source": [
        "### 3.2 Checking for outliers"
      ]
    },
    {
      "cell_type": "code",
      "metadata": {
        "id": "BCVFY0n2Qh57",
        "colab": {
          "base_uri": "https://localhost:8080/",
          "height": 435
        },
        "outputId": "058e886d-b210-44e3-9288-495b562b4a39"
      },
      "source": [
        "# create a boxplot to visualize the outliers\n",
        "num_cols = house.columns.to_list()\n",
        "plt.figure(figsize = (14, 6))\n",
        "house.boxplot(num_cols)\n",
        "plt.xticks(rotation = 45)\n",
        "plt.show()"
      ],
      "execution_count": 45,
      "outputs": [
        {
          "output_type": "display_data",
          "data": {
            "image/png": "[encoded data removed]",
            "text/plain": [
              "<Figure size 1008x432 with 1 Axes>"
            ]
          },
          "metadata": {
            "needs_background": "light"
          }
        }
      ]
    },
    {
      "cell_type": "markdown",
      "metadata": {
        "id": "En57sZF4Qh5-"
      },
      "source": [
        "What observations can you make? What actions are you going to take next? We have outliers for the price"
      ]
    },
    {
      "cell_type": "markdown",
      "metadata": {
        "id": "WNOZq_cEQh6B"
      },
      "source": [
        "### 3.3 Checking multicollinearity"
      ]
    },
    {
      "cell_type": "code",
      "metadata": {
        "id": "EhKDgzytQh6C"
      },
      "source": [
        "# create a heatmap of the correlations\n",
        "corrMatrix = house.corr()\n",
        "corrMatrix\n",
        "# plotting the correlations onto a heatmap\n",
        "import seaborn as sns\n",
        "plt.figure(figsize=(10, 10)) \n",
        "sns.heatmap(corrMatrix, annot = True) "
      ],
      "execution_count": null,
      "outputs": []
    },
    {
      "cell_type": "code",
      "metadata": {
        "id": "P6xUq7fKQh6I"
      },
      "source": [
        "# # check VIF scores\n",
        "# from statsmodels.stats.outliers_influence import variance_inflation_factor\n",
        "# from statsmodels.tools.tools import add_constant\n",
        "# vif = add_constant(house)\n",
        "# pd.Series([variance_inflation_factor(house.values, i) \n",
        "#                for i in range(house.shape[1])], \n",
        "#               index=house.columns)\n",
        "# print(vif)"
      ],
      "execution_count": null,
      "outputs": []
    },
    {
      "cell_type": "code",
      "source": [
        "# # check VIF scores\n",
        "pd.DataFrame(np.linalg.inv(corrMatrix.values), index = corrMatrix.index, columns=corrMatrix.columns)"
      ],
      "metadata": {
        "colab": {
          "base_uri": "https://localhost:8080/",
          "height": 709
        },
        "id": "c4Jj5sGXtdqB",
        "outputId": "09c0f39c-ea5c-4cdb-999b-cc85b7619d4e"
      },
      "execution_count": 98,
      "outputs": [
        {
          "output_type": "execute_result",
          "data": {
            "text/html": [
              "\n",
              "  <div id=\"df-2546eb27-92fe-45ed-922c-890cd96f50b8\">\n",
              "    <div class=\"colab-df-container\">\n",
              "      <div>\n",
              "<style scoped>\n",
              "    .dataframe tbody tr th:only-of-type {\n",
              "        vertical-align: middle;\n",
              "    }\n",
              "\n",
              "    .dataframe tbody tr th {\n",
              "        vertical-align: top;\n",
              "    }\n",
              "\n",
              "    .dataframe thead th {\n",
              "        text-align: right;\n",
              "    }\n",
              "</style>\n",
              "<table border=\"1\" class=\"dataframe\">\n",
              "  <thead>\n",
              "    <tr style=\"text-align: right;\">\n",
              "      <th></th>\n",
              "      <th>price</th>\n",
              "      <th>bedrooms</th>\n",
              "      <th>bathrooms</th>\n",
              "      <th>sqft_living</th>\n",
              "      <th>sqft_lot</th>\n",
              "      <th>floors</th>\n",
              "      <th>waterfront</th>\n",
              "      <th>view</th>\n",
              "      <th>condition</th>\n",
              "      <th>grade</th>\n",
              "      <th>sqft_above</th>\n",
              "      <th>sqft_basement</th>\n",
              "      <th>yr_built</th>\n",
              "      <th>yr_renovated</th>\n",
              "      <th>zipcode</th>\n",
              "      <th>lat</th>\n",
              "      <th>long</th>\n",
              "      <th>sqft_living15</th>\n",
              "      <th>sqft_lot15</th>\n",
              "    </tr>\n",
              "  </thead>\n",
              "  <tbody>\n",
              "    <tr>\n",
              "      <th>price</th>\n",
              "      <td>3.331092</td>\n",
              "      <td>0.301623</td>\n",
              "      <td>-0.286971</td>\n",
              "      <td>-1.077810e+00</td>\n",
              "      <td>-0.048227</td>\n",
              "      <td>-0.033114</td>\n",
              "      <td>-0.457305</td>\n",
              "      <td>-0.368223</td>\n",
              "      <td>-0.156008</td>\n",
              "      <td>-1.022823</td>\n",
              "      <td>-3.888755e-01</td>\n",
              "      <td>-8.297101e-02</td>\n",
              "      <td>0.698134</td>\n",
              "      <td>-0.072944</td>\n",
              "      <td>0.282779</td>\n",
              "      <td>-0.757889</td>\n",
              "      <td>0.274074</td>\n",
              "      <td>-0.134830</td>\n",
              "      <td>0.094769</td>\n",
              "    </tr>\n",
              "    <tr>\n",
              "      <th>bedrooms</th>\n",
              "      <td>0.301623</td>\n",
              "      <td>1.679342</td>\n",
              "      <td>-0.487410</td>\n",
              "      <td>-1.185423e+00</td>\n",
              "      <td>0.044962</td>\n",
              "      <td>0.046901</td>\n",
              "      <td>0.021666</td>\n",
              "      <td>0.081088</td>\n",
              "      <td>-0.064743</td>\n",
              "      <td>0.214177</td>\n",
              "      <td>7.085935e-02</td>\n",
              "      <td>3.089459e-02</td>\n",
              "      <td>0.197696</td>\n",
              "      <td>0.039193</td>\n",
              "      <td>0.105770</td>\n",
              "      <td>-0.017767</td>\n",
              "      <td>0.042348</td>\n",
              "      <td>0.013144</td>\n",
              "      <td>0.093995</td>\n",
              "    </tr>\n",
              "    <tr>\n",
              "      <th>bathrooms</th>\n",
              "      <td>-0.286971</td>\n",
              "      <td>-0.487410</td>\n",
              "      <td>3.376072</td>\n",
              "      <td>-1.759863e+00</td>\n",
              "      <td>-0.019898</td>\n",
              "      <td>-0.672697</td>\n",
              "      <td>0.049489</td>\n",
              "      <td>-0.010635</td>\n",
              "      <td>-0.123841</td>\n",
              "      <td>-0.180144</td>\n",
              "      <td>4.319381e-01</td>\n",
              "      <td>-1.794426e-01</td>\n",
              "      <td>-0.995911</td>\n",
              "      <td>-0.254160</td>\n",
              "      <td>0.017424</td>\n",
              "      <td>0.024248</td>\n",
              "      <td>0.030229</td>\n",
              "      <td>0.103719</td>\n",
              "      <td>0.063258</td>\n",
              "    </tr>\n",
              "    <tr>\n",
              "      <th>sqft_living</th>\n",
              "      <td>-1.072701</td>\n",
              "      <td>-1.182913</td>\n",
              "      <td>-1.758681</td>\n",
              "      <td>-1.600869e+13</td>\n",
              "      <td>-0.156711</td>\n",
              "      <td>0.551965</td>\n",
              "      <td>-0.274632</td>\n",
              "      <td>0.519922</td>\n",
              "      <td>-0.461818</td>\n",
              "      <td>-1.354609</td>\n",
              "      <td>1.443372e+13</td>\n",
              "      <td>7.714318e+12</td>\n",
              "      <td>0.436137</td>\n",
              "      <td>-0.108265</td>\n",
              "      <td>-0.379164</td>\n",
              "      <td>0.251202</td>\n",
              "      <td>-0.064684</td>\n",
              "      <td>-0.924346</td>\n",
              "      <td>-0.116983</td>\n",
              "    </tr>\n",
              "    <tr>\n",
              "      <th>sqft_lot</th>\n",
              "      <td>-0.048227</td>\n",
              "      <td>0.044962</td>\n",
              "      <td>-0.019898</td>\n",
              "      <td>-1.567591e-01</td>\n",
              "      <td>2.103205</td>\n",
              "      <td>0.045699</td>\n",
              "      <td>0.033990</td>\n",
              "      <td>-0.053783</td>\n",
              "      <td>0.032783</td>\n",
              "      <td>-0.038992</td>\n",
              "      <td>-3.836687e-02</td>\n",
              "      <td>4.165686e-02</td>\n",
              "      <td>0.088636</td>\n",
              "      <td>0.022352</td>\n",
              "      <td>-0.006673</td>\n",
              "      <td>0.064305</td>\n",
              "      <td>-0.137182</td>\n",
              "      <td>0.165860</td>\n",
              "      <td>-1.460656</td>\n",
              "    </tr>\n",
              "    <tr>\n",
              "      <th>floors</th>\n",
              "      <td>-0.033114</td>\n",
              "      <td>0.046901</td>\n",
              "      <td>-0.672697</td>\n",
              "      <td>5.529587e-01</td>\n",
              "      <td>0.045699</td>\n",
              "      <td>2.012191</td>\n",
              "      <td>-0.000966</td>\n",
              "      <td>-0.036471</td>\n",
              "      <td>0.091410</td>\n",
              "      <td>-0.219726</td>\n",
              "      <td>-9.903935e-01</td>\n",
              "      <td>3.545564e-01</td>\n",
              "      <td>-0.487865</td>\n",
              "      <td>-0.079223</td>\n",
              "      <td>-0.173584</td>\n",
              "      <td>-0.120052</td>\n",
              "      <td>0.161257</td>\n",
              "      <td>0.273684</td>\n",
              "      <td>0.071751</td>\n",
              "    </tr>\n",
              "    <tr>\n",
              "      <th>waterfront</th>\n",
              "      <td>-0.457305</td>\n",
              "      <td>0.021666</td>\n",
              "      <td>0.049489</td>\n",
              "      <td>-2.738098e-01</td>\n",
              "      <td>0.033990</td>\n",
              "      <td>-0.000966</td>\n",
              "      <td>1.266749</td>\n",
              "      <td>-0.442303</td>\n",
              "      <td>0.008598</td>\n",
              "      <td>0.189706</td>\n",
              "      <td>3.217509e-01</td>\n",
              "      <td>2.109995e-01</td>\n",
              "      <td>-0.116938</td>\n",
              "      <td>-0.055836</td>\n",
              "      <td>-0.016259</td>\n",
              "      <td>0.113858</td>\n",
              "      <td>-0.010390</td>\n",
              "      <td>0.072897</td>\n",
              "      <td>-0.031489</td>\n",
              "    </tr>\n",
              "    <tr>\n",
              "      <th>view</th>\n",
              "      <td>-0.368223</td>\n",
              "      <td>0.081088</td>\n",
              "      <td>-0.010635</td>\n",
              "      <td>5.204064e-01</td>\n",
              "      <td>-0.053783</td>\n",
              "      <td>-0.036471</td>\n",
              "      <td>-0.442303</td>\n",
              "      <td>1.476024</td>\n",
              "      <td>-0.003882</td>\n",
              "      <td>-0.072345</td>\n",
              "      <td>-2.791635e-01</td>\n",
              "      <td>-4.404273e-01</td>\n",
              "      <td>0.074461</td>\n",
              "      <td>-0.031058</td>\n",
              "      <td>-0.171896</td>\n",
              "      <td>0.202430</td>\n",
              "      <td>0.041660</td>\n",
              "      <td>-0.310415</td>\n",
              "      <td>-0.017950</td>\n",
              "    </tr>\n",
              "    <tr>\n",
              "      <th>condition</th>\n",
              "      <td>-0.156008</td>\n",
              "      <td>-0.064743</td>\n",
              "      <td>-0.123841</td>\n",
              "      <td>-4.623401e-01</td>\n",
              "      <td>0.032783</td>\n",
              "      <td>0.091410</td>\n",
              "      <td>0.008598</td>\n",
              "      <td>-0.003882</td>\n",
              "      <td>1.256766</td>\n",
              "      <td>-0.006580</td>\n",
              "      <td>5.361209e-01</td>\n",
              "      <td>1.535563e-01</td>\n",
              "      <td>0.528766</td>\n",
              "      <td>0.210327</td>\n",
              "      <td>0.148029</td>\n",
              "      <td>0.099220</td>\n",
              "      <td>-0.019728</td>\n",
              "      <td>0.082221</td>\n",
              "      <td>-0.032677</td>\n",
              "    </tr>\n",
              "    <tr>\n",
              "      <th>grade</th>\n",
              "      <td>-1.022823</td>\n",
              "      <td>0.214177</td>\n",
              "      <td>-0.180144</td>\n",
              "      <td>-1.352130e+00</td>\n",
              "      <td>-0.038992</td>\n",
              "      <td>-0.219726</td>\n",
              "      <td>0.189706</td>\n",
              "      <td>-0.072345</td>\n",
              "      <td>-0.006580</td>\n",
              "      <td>3.732586</td>\n",
              "      <td>2.576094e-02</td>\n",
              "      <td>3.503300e-01</td>\n",
              "      <td>-0.852705</td>\n",
              "      <td>-0.049037</td>\n",
              "      <td>-0.003656</td>\n",
              "      <td>-0.098379</td>\n",
              "      <td>0.309177</td>\n",
              "      <td>-0.870775</td>\n",
              "      <td>0.042830</td>\n",
              "    </tr>\n",
              "    <tr>\n",
              "      <th>sqft_above</th>\n",
              "      <td>-0.394207</td>\n",
              "      <td>0.068226</td>\n",
              "      <td>0.430262</td>\n",
              "      <td>1.443372e+13</td>\n",
              "      <td>-0.038372</td>\n",
              "      <td>-0.989270</td>\n",
              "      <td>0.322489</td>\n",
              "      <td>-0.278814</td>\n",
              "      <td>0.535610</td>\n",
              "      <td>0.028228</td>\n",
              "      <td>-1.301370e+13</td>\n",
              "      <td>-6.955366e+12</td>\n",
              "      <td>-0.159139</td>\n",
              "      <td>0.126263</td>\n",
              "      <td>0.150641</td>\n",
              "      <td>0.264463</td>\n",
              "      <td>-0.395061</td>\n",
              "      <td>-0.646482</td>\n",
              "      <td>-0.109030</td>\n",
              "    </tr>\n",
              "    <tr>\n",
              "      <th>sqft_basement</th>\n",
              "      <td>-0.085790</td>\n",
              "      <td>0.031093</td>\n",
              "      <td>-0.179993</td>\n",
              "      <td>7.714318e+12</td>\n",
              "      <td>0.041659</td>\n",
              "      <td>0.355075</td>\n",
              "      <td>0.211417</td>\n",
              "      <td>-0.440329</td>\n",
              "      <td>0.153258</td>\n",
              "      <td>0.351592</td>\n",
              "      <td>-6.955366e+12</td>\n",
              "      <td>-3.717401e+12</td>\n",
              "      <td>-0.091250</td>\n",
              "      <td>0.051308</td>\n",
              "      <td>0.050274</td>\n",
              "      <td>-0.065120</td>\n",
              "      <td>0.129322</td>\n",
              "      <td>-0.001290</td>\n",
              "      <td>-0.020340</td>\n",
              "    </tr>\n",
              "    <tr>\n",
              "      <th>yr_built</th>\n",
              "      <td>0.698134</td>\n",
              "      <td>0.197696</td>\n",
              "      <td>-0.995911</td>\n",
              "      <td>4.323302e-01</td>\n",
              "      <td>0.088636</td>\n",
              "      <td>-0.487865</td>\n",
              "      <td>-0.116938</td>\n",
              "      <td>0.074461</td>\n",
              "      <td>0.528766</td>\n",
              "      <td>-0.852705</td>\n",
              "      <td>-1.557062e-01</td>\n",
              "      <td>-8.941568e-02</td>\n",
              "      <td>2.576241</td>\n",
              "      <td>0.518399</td>\n",
              "      <td>0.316043</td>\n",
              "      <td>0.151498</td>\n",
              "      <td>-0.448077</td>\n",
              "      <td>0.049277</td>\n",
              "      <td>-0.013860</td>\n",
              "    </tr>\n",
              "    <tr>\n",
              "      <th>yr_renovated</th>\n",
              "      <td>-0.072944</td>\n",
              "      <td>0.039193</td>\n",
              "      <td>-0.254160</td>\n",
              "      <td>-1.087797e-01</td>\n",
              "      <td>0.022352</td>\n",
              "      <td>-0.079223</td>\n",
              "      <td>-0.055836</td>\n",
              "      <td>-0.031058</td>\n",
              "      <td>0.210327</td>\n",
              "      <td>-0.049037</td>\n",
              "      <td>1.267265e-01</td>\n",
              "      <td>5.155606e-02</td>\n",
              "      <td>0.518399</td>\n",
              "      <td>1.152092</td>\n",
              "      <td>0.030614</td>\n",
              "      <td>0.062738</td>\n",
              "      <td>-0.060108</td>\n",
              "      <td>0.102203</td>\n",
              "      <td>-0.024269</td>\n",
              "    </tr>\n",
              "    <tr>\n",
              "      <th>zipcode</th>\n",
              "      <td>0.282779</td>\n",
              "      <td>0.105770</td>\n",
              "      <td>0.017424</td>\n",
              "      <td>-3.806479e-01</td>\n",
              "      <td>-0.006673</td>\n",
              "      <td>-0.173584</td>\n",
              "      <td>-0.016259</td>\n",
              "      <td>-0.171896</td>\n",
              "      <td>0.148029</td>\n",
              "      <td>-0.003656</td>\n",
              "      <td>1.519783e-01</td>\n",
              "      <td>5.098903e-02</td>\n",
              "      <td>0.316043</td>\n",
              "      <td>0.030614</td>\n",
              "      <td>1.686087</td>\n",
              "      <td>-0.372444</td>\n",
              "      <td>0.757114</td>\n",
              "      <td>0.198769</td>\n",
              "      <td>-0.007442</td>\n",
              "    </tr>\n",
              "    <tr>\n",
              "      <th>lat</th>\n",
              "      <td>-0.757889</td>\n",
              "      <td>-0.017767</td>\n",
              "      <td>0.024248</td>\n",
              "      <td>2.520503e-01</td>\n",
              "      <td>0.064305</td>\n",
              "      <td>-0.120052</td>\n",
              "      <td>0.113858</td>\n",
              "      <td>0.202430</td>\n",
              "      <td>0.099220</td>\n",
              "      <td>-0.098379</td>\n",
              "      <td>2.636982e-01</td>\n",
              "      <td>-6.552855e-02</td>\n",
              "      <td>0.151498</td>\n",
              "      <td>0.062738</td>\n",
              "      <td>-0.372444</td>\n",
              "      <td>1.353108</td>\n",
              "      <td>-0.163131</td>\n",
              "      <td>-0.064018</td>\n",
              "      <td>0.015086</td>\n",
              "    </tr>\n",
              "    <tr>\n",
              "      <th>long</th>\n",
              "      <td>0.274074</td>\n",
              "      <td>0.042348</td>\n",
              "      <td>0.030229</td>\n",
              "      <td>-6.490860e-02</td>\n",
              "      <td>-0.137182</td>\n",
              "      <td>0.161257</td>\n",
              "      <td>-0.010390</td>\n",
              "      <td>0.041660</td>\n",
              "      <td>-0.019728</td>\n",
              "      <td>0.309177</td>\n",
              "      <td>-3.948593e-01</td>\n",
              "      <td>1.294305e-01</td>\n",
              "      <td>-0.448077</td>\n",
              "      <td>-0.060108</td>\n",
              "      <td>0.757114</td>\n",
              "      <td>-0.163131</td>\n",
              "      <td>1.848071</td>\n",
              "      <td>-0.365458</td>\n",
              "      <td>-0.153085</td>\n",
              "    </tr>\n",
              "    <tr>\n",
              "      <th>sqft_living15</th>\n",
              "      <td>-0.134830</td>\n",
              "      <td>0.013144</td>\n",
              "      <td>0.103719</td>\n",
              "      <td>-9.304491e-01</td>\n",
              "      <td>0.165860</td>\n",
              "      <td>0.273684</td>\n",
              "      <td>0.072897</td>\n",
              "      <td>-0.310415</td>\n",
              "      <td>0.082221</td>\n",
              "      <td>-0.870775</td>\n",
              "      <td>-6.409787e-01</td>\n",
              "      <td>1.651425e-03</td>\n",
              "      <td>0.049277</td>\n",
              "      <td>0.102203</td>\n",
              "      <td>0.198769</td>\n",
              "      <td>-0.064018</td>\n",
              "      <td>-0.365458</td>\n",
              "      <td>2.985050</td>\n",
              "      <td>-0.129440</td>\n",
              "    </tr>\n",
              "    <tr>\n",
              "      <th>sqft_lot15</th>\n",
              "      <td>0.094769</td>\n",
              "      <td>0.093995</td>\n",
              "      <td>0.063258</td>\n",
              "      <td>-1.179056e-01</td>\n",
              "      <td>-1.460656</td>\n",
              "      <td>0.071751</td>\n",
              "      <td>-0.031489</td>\n",
              "      <td>-0.017950</td>\n",
              "      <td>-0.032677</td>\n",
              "      <td>0.042830</td>\n",
              "      <td>-1.081980e-01</td>\n",
              "      <td>-1.989528e-02</td>\n",
              "      <td>-0.013860</td>\n",
              "      <td>-0.024269</td>\n",
              "      <td>-0.007442</td>\n",
              "      <td>0.015086</td>\n",
              "      <td>-0.153085</td>\n",
              "      <td>-0.129440</td>\n",
              "      <td>2.138323</td>\n",
              "    </tr>\n",
              "  </tbody>\n",
              "</table>\n",
              "</div>\n",
              "      <button class=\"colab-df-convert\" onclick=\"convertToInteractive('df-2546eb27-92fe-45ed-922c-890cd96f50b8')\"\n",
              "              title=\"Convert this dataframe to an interactive table.\"\n",
              "              style=\"display:none;\">\n",
              "        \n",
              "  <svg xmlns=\"http://www.w3.org/2000/svg\" height=\"24px\"viewBox=\"0 0 24 24\"\n",
              "       width=\"24px\">\n",
              "    <path d=\"M0 0h24v24H0V0z\" fill=\"none\"/>\n",
              "    <path d=\"M18.56 5.44l.94 2.06.94-2.06 2.06-.94-2.06-.94-.94-2.06-.94 2.06-2.06.94zm-11 1L8.5 8.5l.94-2.06 2.06-.94-2.06-.94L8.5 2.5l-.94 2.06-2.06.94zm10 10l.94 2.06.94-2.06 2.06-.94-2.06-.94-.94-2.06-.94 2.06-2.06.94z\"/><path d=\"M17.41 7.96l-1.37-1.37c-.4-.4-.92-.59-1.43-.59-.52 0-1.04.2-1.43.59L10.3 9.45l-7.72 7.72c-.78.78-.78 2.05 0 2.83L4 21.41c.39.39.9.59 1.41.59.51 0 1.02-.2 1.41-.59l7.78-7.78 2.81-2.81c.8-.78.8-2.07 0-2.86zM5.41 20L4 18.59l7.72-7.72 1.47 1.35L5.41 20z\"/>\n",
              "  </svg>\n",
              "      </button>\n",
              "      \n",
              "  <style>\n",
              "    .colab-df-container {\n",
              "      display:flex;\n",
              "      flex-wrap:wrap;\n",
              "      gap: 12px;\n",
              "    }\n",
              "\n",
              "    .colab-df-convert {\n",
              "      background-color: #E8F0FE;\n",
              "      border: none;\n",
              "      border-radius: 50%;\n",
              "      cursor: pointer;\n",
              "      display: none;\n",
              "      fill: #1967D2;\n",
              "      height: 32px;\n",
              "      padding: 0 0 0 0;\n",
              "      width: 32px;\n",
              "    }\n",
              "\n",
              "    .colab-df-convert:hover {\n",
              "      background-color: #E2EBFA;\n",
              "      box-shadow: 0px 1px 2px rgba(60, 64, 67, 0.3), 0px 1px 3px 1px rgba(60, 64, 67, 0.15);\n",
              "      fill: #174EA6;\n",
              "    }\n",
              "\n",
              "    [theme=dark] .colab-df-convert {\n",
              "      background-color: #3B4455;\n",
              "      fill: #D2E3FC;\n",
              "    }\n",
              "\n",
              "    [theme=dark] .colab-df-convert:hover {\n",
              "      background-color: #434B5C;\n",
              "      box-shadow: 0px 1px 3px 1px rgba(0, 0, 0, 0.15);\n",
              "      filter: drop-shadow(0px 1px 2px rgba(0, 0, 0, 0.3));\n",
              "      fill: #FFFFFF;\n",
              "    }\n",
              "  </style>\n",
              "\n",
              "      <script>\n",
              "        const buttonEl =\n",
              "          document.querySelector('#df-2546eb27-92fe-45ed-922c-890cd96f50b8 button.colab-df-convert');\n",
              "        buttonEl.style.display =\n",
              "          google.colab.kernel.accessAllowed ? 'block' : 'none';\n",
              "\n",
              "        async function convertToInteractive(key) {\n",
              "          const element = document.querySelector('#df-2546eb27-92fe-45ed-922c-890cd96f50b8');\n",
              "          const dataTable =\n",
              "            await google.colab.kernel.invokeFunction('convertToInteractive',\n",
              "                                                     [key], {});\n",
              "          if (!dataTable) return;\n",
              "\n",
              "          const docLinkHtml = 'Like what you see? Visit the ' +\n",
              "            '<a target=\"_blank\" href=https://colab.research.google.com/notebooks/data_table.ipynb>data table notebook</a>'\n",
              "            + ' to learn more about interactive tables.';\n",
              "          element.innerHTML = '';\n",
              "          dataTable['output_type'] = 'display_data';\n",
              "          await google.colab.output.renderOutput(dataTable, element);\n",
              "          const docLink = document.createElement('div');\n",
              "          docLink.innerHTML = docLinkHtml;\n",
              "          element.appendChild(docLink);\n",
              "        }\n",
              "      </script>\n",
              "    </div>\n",
              "  </div>\n",
              "  "
            ],
            "text/plain": [
              "                  price  bedrooms  bathrooms   sqft_living  sqft_lot  \\\n",
              "price          3.331092  0.301623  -0.286971 -1.077810e+00 -0.048227   \n",
              "bedrooms       0.301623  1.679342  -0.487410 -1.185423e+00  0.044962   \n",
              "bathrooms     -0.286971 -0.487410   3.376072 -1.759863e+00 -0.019898   \n",
              "sqft_living   -1.072701 -1.182913  -1.758681 -1.600869e+13 -0.156711   \n",
              "sqft_lot      -0.048227  0.044962  -0.019898 -1.567591e-01  2.103205   \n",
              "floors        -0.033114  0.046901  -0.672697  5.529587e-01  0.045699   \n",
              "waterfront    -0.457305  0.021666   0.049489 -2.738098e-01  0.033990   \n",
              "view          -0.368223  0.081088  -0.010635  5.204064e-01 -0.053783   \n",
              "condition     -0.156008 -0.064743  -0.123841 -4.623401e-01  0.032783   \n",
              "grade         -1.022823  0.214177  -0.180144 -1.352130e+00 -0.038992   \n",
              "sqft_above    -0.394207  0.068226   0.430262  1.443372e+13 -0.038372   \n",
              "sqft_basement -0.085790  0.031093  -0.179993  7.714318e+12  0.041659   \n",
              "yr_built       0.698134  0.197696  -0.995911  4.323302e-01  0.088636   \n",
              "yr_renovated  -0.072944  0.039193  -0.254160 -1.087797e-01  0.022352   \n",
              "zipcode        0.282779  0.105770   0.017424 -3.806479e-01 -0.006673   \n",
              "lat           -0.757889 -0.017767   0.024248  2.520503e-01  0.064305   \n",
              "long           0.274074  0.042348   0.030229 -6.490860e-02 -0.137182   \n",
              "sqft_living15 -0.134830  0.013144   0.103719 -9.304491e-01  0.165860   \n",
              "sqft_lot15     0.094769  0.093995   0.063258 -1.179056e-01 -1.460656   \n",
              "\n",
              "                 floors  waterfront      view  condition     grade  \\\n",
              "price         -0.033114   -0.457305 -0.368223  -0.156008 -1.022823   \n",
              "bedrooms       0.046901    0.021666  0.081088  -0.064743  0.214177   \n",
              "bathrooms     -0.672697    0.049489 -0.010635  -0.123841 -0.180144   \n",
              "sqft_living    0.551965   -0.274632  0.519922  -0.461818 -1.354609   \n",
              "sqft_lot       0.045699    0.033990 -0.053783   0.032783 -0.038992   \n",
              "floors         2.012191   -0.000966 -0.036471   0.091410 -0.219726   \n",
              "waterfront    -0.000966    1.266749 -0.442303   0.008598  0.189706   \n",
              "view          -0.036471   -0.442303  1.476024  -0.003882 -0.072345   \n",
              "condition      0.091410    0.008598 -0.003882   1.256766 -0.006580   \n",
              "grade         -0.219726    0.189706 -0.072345  -0.006580  3.732586   \n",
              "sqft_above    -0.989270    0.322489 -0.278814   0.535610  0.028228   \n",
              "sqft_basement  0.355075    0.211417 -0.440329   0.153258  0.351592   \n",
              "yr_built      -0.487865   -0.116938  0.074461   0.528766 -0.852705   \n",
              "yr_renovated  -0.079223   -0.055836 -0.031058   0.210327 -0.049037   \n",
              "zipcode       -0.173584   -0.016259 -0.171896   0.148029 -0.003656   \n",
              "lat           -0.120052    0.113858  0.202430   0.099220 -0.098379   \n",
              "long           0.161257   -0.010390  0.041660  -0.019728  0.309177   \n",
              "sqft_living15  0.273684    0.072897 -0.310415   0.082221 -0.870775   \n",
              "sqft_lot15     0.071751   -0.031489 -0.017950  -0.032677  0.042830   \n",
              "\n",
              "                 sqft_above  sqft_basement  yr_built  yr_renovated   zipcode  \\\n",
              "price         -3.888755e-01  -8.297101e-02  0.698134     -0.072944  0.282779   \n",
              "bedrooms       7.085935e-02   3.089459e-02  0.197696      0.039193  0.105770   \n",
              "bathrooms      4.319381e-01  -1.794426e-01 -0.995911     -0.254160  0.017424   \n",
              "sqft_living    1.443372e+13   7.714318e+12  0.436137     -0.108265 -0.379164   \n",
              "sqft_lot      -3.836687e-02   4.165686e-02  0.088636      0.022352 -0.006673   \n",
              "floors        -9.903935e-01   3.545564e-01 -0.487865     -0.079223 -0.173584   \n",
              "waterfront     3.217509e-01   2.109995e-01 -0.116938     -0.055836 -0.016259   \n",
              "view          -2.791635e-01  -4.404273e-01  0.074461     -0.031058 -0.171896   \n",
              "condition      5.361209e-01   1.535563e-01  0.528766      0.210327  0.148029   \n",
              "grade          2.576094e-02   3.503300e-01 -0.852705     -0.049037 -0.003656   \n",
              "sqft_above    -1.301370e+13  -6.955366e+12 -0.159139      0.126263  0.150641   \n",
              "sqft_basement -6.955366e+12  -3.717401e+12 -0.091250      0.051308  0.050274   \n",
              "yr_built      -1.557062e-01  -8.941568e-02  2.576241      0.518399  0.316043   \n",
              "yr_renovated   1.267265e-01   5.155606e-02  0.518399      1.152092  0.030614   \n",
              "zipcode        1.519783e-01   5.098903e-02  0.316043      0.030614  1.686087   \n",
              "lat            2.636982e-01  -6.552855e-02  0.151498      0.062738 -0.372444   \n",
              "long          -3.948593e-01   1.294305e-01 -0.448077     -0.060108  0.757114   \n",
              "sqft_living15 -6.409787e-01   1.651425e-03  0.049277      0.102203  0.198769   \n",
              "sqft_lot15    -1.081980e-01  -1.989528e-02 -0.013860     -0.024269 -0.007442   \n",
              "\n",
              "                    lat      long  sqft_living15  sqft_lot15  \n",
              "price         -0.757889  0.274074      -0.134830    0.094769  \n",
              "bedrooms      -0.017767  0.042348       0.013144    0.093995  \n",
              "bathrooms      0.024248  0.030229       0.103719    0.063258  \n",
              "sqft_living    0.251202 -0.064684      -0.924346   -0.116983  \n",
              "sqft_lot       0.064305 -0.137182       0.165860   -1.460656  \n",
              "floors        -0.120052  0.161257       0.273684    0.071751  \n",
              "waterfront     0.113858 -0.010390       0.072897   -0.031489  \n",
              "view           0.202430  0.041660      -0.310415   -0.017950  \n",
              "condition      0.099220 -0.019728       0.082221   -0.032677  \n",
              "grade         -0.098379  0.309177      -0.870775    0.042830  \n",
              "sqft_above     0.264463 -0.395061      -0.646482   -0.109030  \n",
              "sqft_basement -0.065120  0.129322      -0.001290   -0.020340  \n",
              "yr_built       0.151498 -0.448077       0.049277   -0.013860  \n",
              "yr_renovated   0.062738 -0.060108       0.102203   -0.024269  \n",
              "zipcode       -0.372444  0.757114       0.198769   -0.007442  \n",
              "lat            1.353108 -0.163131      -0.064018    0.015086  \n",
              "long          -0.163131  1.848071      -0.365458   -0.153085  \n",
              "sqft_living15 -0.064018 -0.365458       2.985050   -0.129440  \n",
              "sqft_lot15     0.015086 -0.153085      -0.129440    2.138323  "
            ]
          },
          "metadata": {},
          "execution_count": 98
        }
      ]
    },
    {
      "cell_type": "markdown",
      "metadata": {
        "id": "7IUUV10uQh6N"
      },
      "source": [
        "What have you noticed? What actions are you going to take next regarding this?"
      ]
    },
    {
      "cell_type": "markdown",
      "metadata": {
        "id": "g-dNNwsMQh6N"
      },
      "source": [
        "## <font color='#2F4F4F'>4. Data Modeling</font>"
      ]
    },
    {
      "cell_type": "code",
      "source": [
        "house"
      ],
      "metadata": {
        "colab": {
          "base_uri": "https://localhost:8080/",
          "height": 487
        },
        "id": "hwzC9WWZjRN6",
        "outputId": "ba143b6c-8db7-4926-bfd3-bdc9eca2e644"
      },
      "execution_count": 48,
      "outputs": [
        {
          "output_type": "execute_result",
          "data": {
            "text/html": [
              "\n",
              "  <div id=\"df-45bd7efc-466e-413f-a58d-2a0788de7fba\">\n",
              "    <div class=\"colab-df-container\">\n",
              "      <div>\n",
              "<style scoped>\n",
              "    .dataframe tbody tr th:only-of-type {\n",
              "        vertical-align: middle;\n",
              "    }\n",
              "\n",
              "    .dataframe tbody tr th {\n",
              "        vertical-align: top;\n",
              "    }\n",
              "\n",
              "    .dataframe thead th {\n",
              "        text-align: right;\n",
              "    }\n",
              "</style>\n",
              "<table border=\"1\" class=\"dataframe\">\n",
              "  <thead>\n",
              "    <tr style=\"text-align: right;\">\n",
              "      <th></th>\n",
              "      <th>price</th>\n",
              "      <th>bedrooms</th>\n",
              "      <th>bathrooms</th>\n",
              "      <th>sqft_living</th>\n",
              "      <th>sqft_lot</th>\n",
              "      <th>floors</th>\n",
              "      <th>waterfront</th>\n",
              "      <th>view</th>\n",
              "      <th>condition</th>\n",
              "      <th>grade</th>\n",
              "      <th>sqft_above</th>\n",
              "      <th>sqft_basement</th>\n",
              "      <th>yr_built</th>\n",
              "      <th>yr_renovated</th>\n",
              "      <th>zipcode</th>\n",
              "      <th>lat</th>\n",
              "      <th>long</th>\n",
              "      <th>sqft_living15</th>\n",
              "      <th>sqft_lot15</th>\n",
              "    </tr>\n",
              "  </thead>\n",
              "  <tbody>\n",
              "    <tr>\n",
              "      <th>0</th>\n",
              "      <td>221900.0</td>\n",
              "      <td>3</td>\n",
              "      <td>1.00</td>\n",
              "      <td>1180</td>\n",
              "      <td>5650</td>\n",
              "      <td>1.0</td>\n",
              "      <td>0</td>\n",
              "      <td>0</td>\n",
              "      <td>3</td>\n",
              "      <td>7</td>\n",
              "      <td>1180</td>\n",
              "      <td>0</td>\n",
              "      <td>1955</td>\n",
              "      <td>0</td>\n",
              "      <td>98178</td>\n",
              "      <td>47.5112</td>\n",
              "      <td>-122.257</td>\n",
              "      <td>1340</td>\n",
              "      <td>5650</td>\n",
              "    </tr>\n",
              "    <tr>\n",
              "      <th>1</th>\n",
              "      <td>538000.0</td>\n",
              "      <td>3</td>\n",
              "      <td>2.25</td>\n",
              "      <td>2570</td>\n",
              "      <td>7242</td>\n",
              "      <td>2.0</td>\n",
              "      <td>0</td>\n",
              "      <td>0</td>\n",
              "      <td>3</td>\n",
              "      <td>7</td>\n",
              "      <td>2170</td>\n",
              "      <td>400</td>\n",
              "      <td>1951</td>\n",
              "      <td>1991</td>\n",
              "      <td>98125</td>\n",
              "      <td>47.7210</td>\n",
              "      <td>-122.319</td>\n",
              "      <td>1690</td>\n",
              "      <td>7639</td>\n",
              "    </tr>\n",
              "    <tr>\n",
              "      <th>2</th>\n",
              "      <td>180000.0</td>\n",
              "      <td>2</td>\n",
              "      <td>1.00</td>\n",
              "      <td>770</td>\n",
              "      <td>10000</td>\n",
              "      <td>1.0</td>\n",
              "      <td>0</td>\n",
              "      <td>0</td>\n",
              "      <td>3</td>\n",
              "      <td>6</td>\n",
              "      <td>770</td>\n",
              "      <td>0</td>\n",
              "      <td>1933</td>\n",
              "      <td>0</td>\n",
              "      <td>98028</td>\n",
              "      <td>47.7379</td>\n",
              "      <td>-122.233</td>\n",
              "      <td>2720</td>\n",
              "      <td>8062</td>\n",
              "    </tr>\n",
              "    <tr>\n",
              "      <th>3</th>\n",
              "      <td>604000.0</td>\n",
              "      <td>4</td>\n",
              "      <td>3.00</td>\n",
              "      <td>1960</td>\n",
              "      <td>5000</td>\n",
              "      <td>1.0</td>\n",
              "      <td>0</td>\n",
              "      <td>0</td>\n",
              "      <td>5</td>\n",
              "      <td>7</td>\n",
              "      <td>1050</td>\n",
              "      <td>910</td>\n",
              "      <td>1965</td>\n",
              "      <td>0</td>\n",
              "      <td>98136</td>\n",
              "      <td>47.5208</td>\n",
              "      <td>-122.393</td>\n",
              "      <td>1360</td>\n",
              "      <td>5000</td>\n",
              "    </tr>\n",
              "    <tr>\n",
              "      <th>4</th>\n",
              "      <td>510000.0</td>\n",
              "      <td>3</td>\n",
              "      <td>2.00</td>\n",
              "      <td>1680</td>\n",
              "      <td>8080</td>\n",
              "      <td>1.0</td>\n",
              "      <td>0</td>\n",
              "      <td>0</td>\n",
              "      <td>3</td>\n",
              "      <td>8</td>\n",
              "      <td>1680</td>\n",
              "      <td>0</td>\n",
              "      <td>1987</td>\n",
              "      <td>0</td>\n",
              "      <td>98074</td>\n",
              "      <td>47.6168</td>\n",
              "      <td>-122.045</td>\n",
              "      <td>1800</td>\n",
              "      <td>7503</td>\n",
              "    </tr>\n",
              "    <tr>\n",
              "      <th>...</th>\n",
              "      <td>...</td>\n",
              "      <td>...</td>\n",
              "      <td>...</td>\n",
              "      <td>...</td>\n",
              "      <td>...</td>\n",
              "      <td>...</td>\n",
              "      <td>...</td>\n",
              "      <td>...</td>\n",
              "      <td>...</td>\n",
              "      <td>...</td>\n",
              "      <td>...</td>\n",
              "      <td>...</td>\n",
              "      <td>...</td>\n",
              "      <td>...</td>\n",
              "      <td>...</td>\n",
              "      <td>...</td>\n",
              "      <td>...</td>\n",
              "      <td>...</td>\n",
              "      <td>...</td>\n",
              "    </tr>\n",
              "    <tr>\n",
              "      <th>21608</th>\n",
              "      <td>360000.0</td>\n",
              "      <td>3</td>\n",
              "      <td>2.50</td>\n",
              "      <td>1530</td>\n",
              "      <td>1131</td>\n",
              "      <td>3.0</td>\n",
              "      <td>0</td>\n",
              "      <td>0</td>\n",
              "      <td>3</td>\n",
              "      <td>8</td>\n",
              "      <td>1530</td>\n",
              "      <td>0</td>\n",
              "      <td>2009</td>\n",
              "      <td>0</td>\n",
              "      <td>98103</td>\n",
              "      <td>47.6993</td>\n",
              "      <td>-122.346</td>\n",
              "      <td>1530</td>\n",
              "      <td>1509</td>\n",
              "    </tr>\n",
              "    <tr>\n",
              "      <th>21609</th>\n",
              "      <td>400000.0</td>\n",
              "      <td>4</td>\n",
              "      <td>2.50</td>\n",
              "      <td>2310</td>\n",
              "      <td>5813</td>\n",
              "      <td>2.0</td>\n",
              "      <td>0</td>\n",
              "      <td>0</td>\n",
              "      <td>3</td>\n",
              "      <td>8</td>\n",
              "      <td>2310</td>\n",
              "      <td>0</td>\n",
              "      <td>2014</td>\n",
              "      <td>0</td>\n",
              "      <td>98146</td>\n",
              "      <td>47.5107</td>\n",
              "      <td>-122.362</td>\n",
              "      <td>1830</td>\n",
              "      <td>7200</td>\n",
              "    </tr>\n",
              "    <tr>\n",
              "      <th>21610</th>\n",
              "      <td>402101.0</td>\n",
              "      <td>2</td>\n",
              "      <td>0.75</td>\n",
              "      <td>1020</td>\n",
              "      <td>1350</td>\n",
              "      <td>2.0</td>\n",
              "      <td>0</td>\n",
              "      <td>0</td>\n",
              "      <td>3</td>\n",
              "      <td>7</td>\n",
              "      <td>1020</td>\n",
              "      <td>0</td>\n",
              "      <td>2009</td>\n",
              "      <td>0</td>\n",
              "      <td>98144</td>\n",
              "      <td>47.5944</td>\n",
              "      <td>-122.299</td>\n",
              "      <td>1020</td>\n",
              "      <td>2007</td>\n",
              "    </tr>\n",
              "    <tr>\n",
              "      <th>21611</th>\n",
              "      <td>400000.0</td>\n",
              "      <td>3</td>\n",
              "      <td>2.50</td>\n",
              "      <td>1600</td>\n",
              "      <td>2388</td>\n",
              "      <td>2.0</td>\n",
              "      <td>0</td>\n",
              "      <td>0</td>\n",
              "      <td>3</td>\n",
              "      <td>8</td>\n",
              "      <td>1600</td>\n",
              "      <td>0</td>\n",
              "      <td>2004</td>\n",
              "      <td>0</td>\n",
              "      <td>98027</td>\n",
              "      <td>47.5345</td>\n",
              "      <td>-122.069</td>\n",
              "      <td>1410</td>\n",
              "      <td>1287</td>\n",
              "    </tr>\n",
              "    <tr>\n",
              "      <th>21612</th>\n",
              "      <td>325000.0</td>\n",
              "      <td>2</td>\n",
              "      <td>0.75</td>\n",
              "      <td>1020</td>\n",
              "      <td>1076</td>\n",
              "      <td>2.0</td>\n",
              "      <td>0</td>\n",
              "      <td>0</td>\n",
              "      <td>3</td>\n",
              "      <td>7</td>\n",
              "      <td>1020</td>\n",
              "      <td>0</td>\n",
              "      <td>2008</td>\n",
              "      <td>0</td>\n",
              "      <td>98144</td>\n",
              "      <td>47.5941</td>\n",
              "      <td>-122.299</td>\n",
              "      <td>1020</td>\n",
              "      <td>1357</td>\n",
              "    </tr>\n",
              "  </tbody>\n",
              "</table>\n",
              "<p>21608 rows × 19 columns</p>\n",
              "</div>\n",
              "      <button class=\"colab-df-convert\" onclick=\"convertToInteractive('df-45bd7efc-466e-413f-a58d-2a0788de7fba')\"\n",
              "              title=\"Convert this dataframe to an interactive table.\"\n",
              "              style=\"display:none;\">\n",
              "        \n",
              "  <svg xmlns=\"http://www.w3.org/2000/svg\" height=\"24px\"viewBox=\"0 0 24 24\"\n",
              "       width=\"24px\">\n",
              "    <path d=\"M0 0h24v24H0V0z\" fill=\"none\"/>\n",
              "    <path d=\"M18.56 5.44l.94 2.06.94-2.06 2.06-.94-2.06-.94-.94-2.06-.94 2.06-2.06.94zm-11 1L8.5 8.5l.94-2.06 2.06-.94-2.06-.94L8.5 2.5l-.94 2.06-2.06.94zm10 10l.94 2.06.94-2.06 2.06-.94-2.06-.94-.94-2.06-.94 2.06-2.06.94z\"/><path d=\"M17.41 7.96l-1.37-1.37c-.4-.4-.92-.59-1.43-.59-.52 0-1.04.2-1.43.59L10.3 9.45l-7.72 7.72c-.78.78-.78 2.05 0 2.83L4 21.41c.39.39.9.59 1.41.59.51 0 1.02-.2 1.41-.59l7.78-7.78 2.81-2.81c.8-.78.8-2.07 0-2.86zM5.41 20L4 18.59l7.72-7.72 1.47 1.35L5.41 20z\"/>\n",
              "  </svg>\n",
              "      </button>\n",
              "      \n",
              "  <style>\n",
              "    .colab-df-container {\n",
              "      display:flex;\n",
              "      flex-wrap:wrap;\n",
              "      gap: 12px;\n",
              "    }\n",
              "\n",
              "    .colab-df-convert {\n",
              "      background-color: #E8F0FE;\n",
              "      border: none;\n",
              "      border-radius: 50%;\n",
              "      cursor: pointer;\n",
              "      display: none;\n",
              "      fill: #1967D2;\n",
              "      height: 32px;\n",
              "      padding: 0 0 0 0;\n",
              "      width: 32px;\n",
              "    }\n",
              "\n",
              "    .colab-df-convert:hover {\n",
              "      background-color: #E2EBFA;\n",
              "      box-shadow: 0px 1px 2px rgba(60, 64, 67, 0.3), 0px 1px 3px 1px rgba(60, 64, 67, 0.15);\n",
              "      fill: #174EA6;\n",
              "    }\n",
              "\n",
              "    [theme=dark] .colab-df-convert {\n",
              "      background-color: #3B4455;\n",
              "      fill: #D2E3FC;\n",
              "    }\n",
              "\n",
              "    [theme=dark] .colab-df-convert:hover {\n",
              "      background-color: #434B5C;\n",
              "      box-shadow: 0px 1px 3px 1px rgba(0, 0, 0, 0.15);\n",
              "      filter: drop-shadow(0px 1px 2px rgba(0, 0, 0, 0.3));\n",
              "      fill: #FFFFFF;\n",
              "    }\n",
              "  </style>\n",
              "\n",
              "      <script>\n",
              "        const buttonEl =\n",
              "          document.querySelector('#df-45bd7efc-466e-413f-a58d-2a0788de7fba button.colab-df-convert');\n",
              "        buttonEl.style.display =\n",
              "          google.colab.kernel.accessAllowed ? 'block' : 'none';\n",
              "\n",
              "        async function convertToInteractive(key) {\n",
              "          const element = document.querySelector('#df-45bd7efc-466e-413f-a58d-2a0788de7fba');\n",
              "          const dataTable =\n",
              "            await google.colab.kernel.invokeFunction('convertToInteractive',\n",
              "                                                     [key], {});\n",
              "          if (!dataTable) return;\n",
              "\n",
              "          const docLinkHtml = 'Like what you see? Visit the ' +\n",
              "            '<a target=\"_blank\" href=https://colab.research.google.com/notebooks/data_table.ipynb>data table notebook</a>'\n",
              "            + ' to learn more about interactive tables.';\n",
              "          element.innerHTML = '';\n",
              "          dataTable['output_type'] = 'display_data';\n",
              "          await google.colab.output.renderOutput(dataTable, element);\n",
              "          const docLink = document.createElement('div');\n",
              "          docLink.innerHTML = docLinkHtml;\n",
              "          element.appendChild(docLink);\n",
              "        }\n",
              "      </script>\n",
              "    </div>\n",
              "  </div>\n",
              "  "
            ],
            "text/plain": [
              "          price  bedrooms  bathrooms  sqft_living  sqft_lot  floors  \\\n",
              "0      221900.0         3       1.00         1180      5650     1.0   \n",
              "1      538000.0         3       2.25         2570      7242     2.0   \n",
              "2      180000.0         2       1.00          770     10000     1.0   \n",
              "3      604000.0         4       3.00         1960      5000     1.0   \n",
              "4      510000.0         3       2.00         1680      8080     1.0   \n",
              "...         ...       ...        ...          ...       ...     ...   \n",
              "21608  360000.0         3       2.50         1530      1131     3.0   \n",
              "21609  400000.0         4       2.50         2310      5813     2.0   \n",
              "21610  402101.0         2       0.75         1020      1350     2.0   \n",
              "21611  400000.0         3       2.50         1600      2388     2.0   \n",
              "21612  325000.0         2       0.75         1020      1076     2.0   \n",
              "\n",
              "       waterfront  view  condition  grade  sqft_above  sqft_basement  \\\n",
              "0               0     0          3      7        1180              0   \n",
              "1               0     0          3      7        2170            400   \n",
              "2               0     0          3      6         770              0   \n",
              "3               0     0          5      7        1050            910   \n",
              "4               0     0          3      8        1680              0   \n",
              "...           ...   ...        ...    ...         ...            ...   \n",
              "21608           0     0          3      8        1530              0   \n",
              "21609           0     0          3      8        2310              0   \n",
              "21610           0     0          3      7        1020              0   \n",
              "21611           0     0          3      8        1600              0   \n",
              "21612           0     0          3      7        1020              0   \n",
              "\n",
              "       yr_built  yr_renovated  zipcode      lat     long  sqft_living15  \\\n",
              "0          1955             0    98178  47.5112 -122.257           1340   \n",
              "1          1951          1991    98125  47.7210 -122.319           1690   \n",
              "2          1933             0    98028  47.7379 -122.233           2720   \n",
              "3          1965             0    98136  47.5208 -122.393           1360   \n",
              "4          1987             0    98074  47.6168 -122.045           1800   \n",
              "...         ...           ...      ...      ...      ...            ...   \n",
              "21608      2009             0    98103  47.6993 -122.346           1530   \n",
              "21609      2014             0    98146  47.5107 -122.362           1830   \n",
              "21610      2009             0    98144  47.5944 -122.299           1020   \n",
              "21611      2004             0    98027  47.5345 -122.069           1410   \n",
              "21612      2008             0    98144  47.5941 -122.299           1020   \n",
              "\n",
              "       sqft_lot15  \n",
              "0            5650  \n",
              "1            7639  \n",
              "2            8062  \n",
              "3            5000  \n",
              "4            7503  \n",
              "...           ...  \n",
              "21608        1509  \n",
              "21609        7200  \n",
              "21610        2007  \n",
              "21611        1287  \n",
              "21612        1357  \n",
              "\n",
              "[21608 rows x 19 columns]"
            ]
          },
          "metadata": {},
          "execution_count": 48
        }
      ]
    },
    {
      "cell_type": "code",
      "metadata": {
        "id": "E5MnZUDwQh6P"
      },
      "source": [
        "# split into features (X) and label (Y)\n",
        "X = house[['bedrooms', 'bathrooms', 'sqft_living','sqft_lot', 'floors', 'waterfront', 'view','condition', 'grade','sqft_above','sqft_basement','yr_built','yr_renovated','lat','long','sqft_living15', 'sqft_lot15']]\n",
        "y = house['price']"
      ],
      "execution_count": 54,
      "outputs": []
    },
    {
      "cell_type": "code",
      "source": [
        "x"
      ],
      "metadata": {
        "colab": {
          "base_uri": "https://localhost:8080/"
        },
        "id": "gMa1mRZNpnyA",
        "outputId": "ee03de86-8cdb-48a4-fd07-7debf10262c6"
      },
      "execution_count": 55,
      "outputs": [
        {
          "output_type": "execute_result",
          "data": {
            "text/plain": [
              "array([[3],\n",
              "       [3],\n",
              "       [2],\n",
              "       ...,\n",
              "       [2],\n",
              "       [3],\n",
              "       [2]])"
            ]
          },
          "metadata": {},
          "execution_count": 55
        }
      ]
    },
    {
      "cell_type": "code",
      "source": [
        "y"
      ],
      "metadata": {
        "colab": {
          "base_uri": "https://localhost:8080/"
        },
        "id": "itM3jfJ1ppfo",
        "outputId": "aa163f50-aadd-49e7-f1c3-0454bd0a656e"
      },
      "execution_count": 56,
      "outputs": [
        {
          "output_type": "execute_result",
          "data": {
            "text/plain": [
              "0        221900.0\n",
              "1        538000.0\n",
              "2        180000.0\n",
              "3        604000.0\n",
              "4        510000.0\n",
              "           ...   \n",
              "21608    360000.0\n",
              "21609    400000.0\n",
              "21610    402101.0\n",
              "21611    400000.0\n",
              "21612    325000.0\n",
              "Name: price, Length: 21608, dtype: float64"
            ]
          },
          "metadata": {},
          "execution_count": 56
        }
      ]
    },
    {
      "cell_type": "code",
      "metadata": {
        "id": "qUYhwTDxQh6X"
      },
      "source": [
        "# split into 80-20 train and test sets\n",
        "from sklearn.model_selection import train_test_split\n",
        "x_train, x_test, y_train, y_test = train_test_split(x, y, test_size = 0.2, random_state = 0)"
      ],
      "execution_count": 57,
      "outputs": []
    },
    {
      "cell_type": "code",
      "metadata": {
        "id": "WPyFrF8XQh6k",
        "colab": {
          "base_uri": "https://localhost:8080/"
        },
        "outputId": "79e8fcef-c226-4aca-8678-f18efd57ff50"
      },
      "source": [
        "# fit regressor to data and make predictions\n",
        "from sklearn.linear_model import LinearRegression\n",
        "\n",
        "# Training the algorithm\n",
        "\n",
        "regressor = LinearRegression()\n",
        "regressor.fit(x_train, y_train)"
      ],
      "execution_count": 59,
      "outputs": [
        {
          "output_type": "execute_result",
          "data": {
            "text/plain": [
              "LinearRegression()"
            ]
          },
          "metadata": {},
          "execution_count": 59
        }
      ]
    },
    {
      "cell_type": "code",
      "source": [
        "# Making Predictions\n",
        "y_pred = regressor.predict(x_test)"
      ],
      "metadata": {
        "id": "dtqB8NTZgCTs"
      },
      "execution_count": 61,
      "outputs": []
    },
    {
      "cell_type": "code",
      "metadata": {
        "id": "y5e63GziQh6s",
        "colab": {
          "base_uri": "https://localhost:8080/"
        },
        "outputId": "6697b357-05ab-4343-b389-47d3b0cc430e"
      },
      "source": [
        "# evaluate RMSE and r-squared scores\n",
        "from sklearn import metrics \n",
        "from sklearn.metrics import r2_score\n",
        "print('Root Mean Squared Error:', np.sqrt(metrics.mean_squared_error(y_test, y_pred)))\n",
        "r_squared = r2_score(y_test, y_pred)\n",
        "print('r_squared:', np.sqrt(metrics.r2_score(y_test, y_pred)))"
      ],
      "execution_count": 67,
      "outputs": [
        {
          "output_type": "stream",
          "name": "stdout",
          "text": [
            "Root Mean Squared Error: 330404.0860386136\n",
            "r_squared: 0.31843200889883577\n"
          ]
        }
      ]
    },
    {
      "cell_type": "markdown",
      "metadata": {
        "id": "70ZaR5nfQh6x"
      },
      "source": [
        "What conclusions have you drawn?"
      ]
    },
    {
      "cell_type": "markdown",
      "metadata": {
        "id": "dYZpWqulQh6y"
      },
      "source": [
        "### 4.1 Test for normality and homoscedasticity"
      ]
    },
    {
      "cell_type": "code",
      "metadata": {
        "id": "xXzW5UAcQh6y",
        "colab": {
          "base_uri": "https://localhost:8080/"
        },
        "outputId": "530e3e2f-5a7b-429b-bbcc-14c2ed8c9597"
      },
      "source": [
        "revised = house.drop(columns=['price'])\n",
        "\n",
        "corr = revised.corr()\n",
        "pd.DataFrame(np.linalg.inv(corr.values), index = corr.index, columns=corr.columns)\n",
        "\n",
        "# create a dataframe of residuals\n",
        "X = revised.values\n",
        "y = house['price'].values\n",
        "\n",
        "X_train, X_test, price_train, price_test = train_test_split(X, y, test_size=0.2, random_state=0)\n",
        "\n",
        "regressor = LinearRegression()\n",
        "regressor.fit(X_train, price_train)\n",
        "\n",
        "# Our prediction for admission based on our model\n",
        "price_predict = regressor.predict(X_test)\n",
        "\n",
        "#Creating residual \n",
        "residuals = np.subtract(price_predict, price_test)\n",
        "\n",
        "# Let's describe our residual:\n",
        "pd.DataFrame(residuals).describe()\n",
        "\n",
        "residuals.mean()"
      ],
      "execution_count": 91,
      "outputs": [
        {
          "output_type": "execute_result",
          "data": {
            "text/plain": [
              "3969.619190352723"
            ]
          },
          "metadata": {},
          "execution_count": 91
        }
      ]
    },
    {
      "cell_type": "code",
      "source": [
        "# plotting our residuals\n",
        "plt.scatter(price_predict, residuals, color='black')\n",
        "plt.ylabel('Residual')\n",
        "plt.xlabel('Fitted values')\n",
        "plt.axhline(y= residuals.mean(), color='green', linewidth=1)\n",
        "plt.show()"
      ],
      "metadata": {
        "colab": {
          "base_uri": "https://localhost:8080/",
          "height": 290
        },
        "id": "vJlOvX31rxoC",
        "outputId": "225e5a8d-df36-495d-a2a6-b47641bb2ee8"
      },
      "execution_count": 93,
      "outputs": [
        {
          "output_type": "display_data",
          "data": {
            "image/png": "[encoded data removed]",
            "text/plain": [
              "<Figure size 432x288 with 1 Axes>"
            ]
          },
          "metadata": {
            "needs_background": "light"
          }
        }
      ]
    },
    {
      "cell_type": "markdown",
      "metadata": {
        "id": "AzXLIpY3Qh62"
      },
      "source": [
        "What is your interpretation of the residual plot? Our residuals are focused around zero and no obvious patterns"
      ]
    },
    {
      "cell_type": "code",
      "metadata": {
        "scrolled": true,
        "id": "S1rRnmZ6Qh62",
        "colab": {
          "base_uri": "https://localhost:8080/"
        },
        "outputId": "3e335a71-3a48-4bdb-e607-799c5e8ebb1d"
      },
      "source": [
        "import scipy as sp\n",
        "\n",
        "# using the scipy bartlett function to get our test result and p-value\n",
        "test_result, p_value = sp.stats.bartlett(price_predict, residuals)\n",
        "\n",
        "# computing the critical value of a chi-squared distribution\n",
        "degree_of_freedom = len(y_pred) - 1\n",
        "prob = 1 - p_value\n",
        "critical_value = sp.stats.chi2.ppf(prob, degree_of_freedom)\n",
        "\n",
        "print(\"Critical value:\", critical_value)"
      ],
      "execution_count": 95,
      "outputs": [
        {
          "output_type": "stream",
          "name": "stdout",
          "text": [
            "Critical value: inf\n"
          ]
        }
      ]
    },
    {
      "cell_type": "markdown",
      "metadata": {
        "id": "6SG5NrEkQh66"
      },
      "source": [
        "If the test result of our Bartlett test is greater than the critical value of the chi-squared distribution, then we will reject our null value and conclude that the variances in our dataset are not equal, i.e., they are heterogeneous. Otherwise, we will accept that this dataset's variances are homogeneous."
      ]
    },
    {
      "cell_type": "code",
      "metadata": {
        "id": "Us_BSW8IQh66",
        "colab": {
          "base_uri": "https://localhost:8080/"
        },
        "outputId": "8b79ec08-cb44-40be-afd6-f041e2e70598"
      },
      "source": [
        "if (test_result > critical_value):\n",
        "    print(\" The variances are heterogeneous (unequal), and the model needs to be reassessed.\")\n",
        "else:\n",
        "    print('The variances are homogeneous (equal).')"
      ],
      "execution_count": 96,
      "outputs": [
        {
          "output_type": "stream",
          "name": "stdout",
          "text": [
            "The variances are homogeneous (equal).\n"
          ]
        }
      ]
    },
    {
      "cell_type": "markdown",
      "metadata": {
        "id": "DAUKeNzSQh6-"
      },
      "source": [
        "### 4.2 Boosting"
      ]
    },
    {
      "cell_type": "markdown",
      "metadata": {
        "id": "VnvFvtd7Qh6-"
      },
      "source": [
        "We can try boosting to see if it will improve our model. We will experiment with 3 types of boosting:\n",
        "- Ada Boosting\n",
        "- Gradient Boosting\n",
        "- eXtreme Gradient (XG) Boosting"
      ]
    },
    {
      "cell_type": "code",
      "metadata": {
        "id": "NE1xdEIFQh6_",
        "colab": {
          "base_uri": "https://localhost:8080/"
        },
        "outputId": "ec884a14-6047-48a8-e07e-474fbb302903"
      },
      "source": [
        "from sklearn.ensemble import AdaBoostRegressor, GradientBoostingRegressor\n",
        "from xgboost import XGBRegressor\n",
        "\n",
        "# creating a list of learning rates to use as hyperparameters\n",
        "learning_rates = [0.1, 0.2,0.3, 0.4, 0.5, 0.6, 0.7, 0.8, 0.9]\n",
        "\n",
        "# setting up our Ada booster\n",
        "for lr in learning_rates:\n",
        "    ada = AdaBoostRegressor(learning_rate = lr, random_state = 0)\n",
        "    ada.fit(X_train, y_train)\n",
        "    ada_predict = ada.predict(X_test)\n",
        "    print(\"Ada Boosting Regression with Learning Rate:\", lr)\n",
        "    print(\"RMSE Score:\", np.sqrt(metrics.mean_squared_error(y_test, ada_predict)))\n",
        "    print()\n",
        "    \n",
        "print(\"***************************************************\") \n",
        "\n",
        "# setting up our Gradient booster\n",
        "for lr in learning_rates:\n",
        "    gradient = GradientBoostingRegressor(learning_rate = lr, random_state = 0)\n",
        "    gradient.fit(X_train, y_train)\n",
        "    gradient_predict = gradient.predict(X_test)\n",
        "    print(\"Gradient Boosting Regression with Learning Rate:\", lr)\n",
        "    print(\"RMSE Score:\", np.sqrt(metrics.mean_squared_error(y_test, gradient_predict)))\n",
        "    print()\n",
        "\n",
        "print(\"***************************************************\")\n",
        "\n",
        "# setting up our XG booster\n",
        "for lr in learning_rates:\n",
        "    xgbr = XGBRegressor(learning_rate = lr, random_state = 0)\n",
        "    xgbr.fit(X_train, y_train)\n",
        "    xgbr_predict = xgbr.predict(X_test)\n",
        "    print(\"XG Boosting Regression with Learning Rate:\", lr)\n",
        "    print(\"RMSE Score:\", np.sqrt(metrics.mean_squared_error(y_test, xgbr_predict)))\n",
        "    print()"
      ],
      "execution_count": 97,
      "outputs": [
        {
          "output_type": "stream",
          "name": "stdout",
          "text": [
            "Ada Boosting Regression with Learning Rate: 0.1\n",
            "RMSE Score: 202440.9424180919\n",
            "\n",
            "Ada Boosting Regression with Learning Rate: 0.2\n",
            "RMSE Score: 222141.54239257495\n",
            "\n",
            "Ada Boosting Regression with Learning Rate: 0.3\n",
            "RMSE Score: 227746.7466572356\n",
            "\n",
            "Ada Boosting Regression with Learning Rate: 0.4\n",
            "RMSE Score: 237770.6405667392\n",
            "\n",
            "Ada Boosting Regression with Learning Rate: 0.5\n",
            "RMSE Score: 250629.88383088305\n",
            "\n",
            "Ada Boosting Regression with Learning Rate: 0.6\n",
            "RMSE Score: 266721.36738110107\n",
            "\n",
            "Ada Boosting Regression with Learning Rate: 0.7\n",
            "RMSE Score: 290128.0715574675\n",
            "\n",
            "Ada Boosting Regression with Learning Rate: 0.8\n",
            "RMSE Score: 289968.4479334681\n",
            "\n",
            "Ada Boosting Regression with Learning Rate: 0.9\n",
            "RMSE Score: 288069.97760697996\n",
            "\n",
            "***************************************************\n",
            "Gradient Boosting Regression with Learning Rate: 0.1\n",
            "RMSE Score: 125192.43156254945\n",
            "\n",
            "Gradient Boosting Regression with Learning Rate: 0.2\n",
            "RMSE Score: 121117.05072812104\n",
            "\n",
            "Gradient Boosting Regression with Learning Rate: 0.3\n",
            "RMSE Score: 119210.40312315947\n",
            "\n",
            "Gradient Boosting Regression with Learning Rate: 0.4\n",
            "RMSE Score: 119139.41342811099\n",
            "\n",
            "Gradient Boosting Regression with Learning Rate: 0.5\n",
            "RMSE Score: 122294.48360094256\n",
            "\n",
            "Gradient Boosting Regression with Learning Rate: 0.6\n",
            "RMSE Score: 121406.31887307524\n",
            "\n",
            "Gradient Boosting Regression with Learning Rate: 0.7\n",
            "RMSE Score: 126409.02836528751\n",
            "\n",
            "Gradient Boosting Regression with Learning Rate: 0.8\n",
            "RMSE Score: 136214.03303074362\n",
            "\n",
            "Gradient Boosting Regression with Learning Rate: 0.9\n",
            "RMSE Score: 135793.49728604953\n",
            "\n",
            "***************************************************\n",
            "[06:50:56] WARNING: /workspace/src/objective/regression_obj.cu:152: reg:linear is now deprecated in favor of reg:squarederror.\n",
            "XG Boosting Regression with Learning Rate: 0.1\n",
            "RMSE Score: 125782.92587414653\n",
            "\n",
            "[06:50:58] WARNING: /workspace/src/objective/regression_obj.cu:152: reg:linear is now deprecated in favor of reg:squarederror.\n",
            "XG Boosting Regression with Learning Rate: 0.2\n",
            "RMSE Score: 118104.72511021302\n",
            "\n",
            "[06:50:59] WARNING: /workspace/src/objective/regression_obj.cu:152: reg:linear is now deprecated in favor of reg:squarederror.\n",
            "XG Boosting Regression with Learning Rate: 0.3\n",
            "RMSE Score: 118483.83095408611\n",
            "\n",
            "[06:51:00] WARNING: /workspace/src/objective/regression_obj.cu:152: reg:linear is now deprecated in favor of reg:squarederror.\n",
            "XG Boosting Regression with Learning Rate: 0.4\n",
            "RMSE Score: 120197.09178480471\n",
            "\n",
            "[06:51:01] WARNING: /workspace/src/objective/regression_obj.cu:152: reg:linear is now deprecated in favor of reg:squarederror.\n",
            "XG Boosting Regression with Learning Rate: 0.5\n",
            "RMSE Score: 123106.62474773575\n",
            "\n",
            "[06:51:02] WARNING: /workspace/src/objective/regression_obj.cu:152: reg:linear is now deprecated in favor of reg:squarederror.\n",
            "XG Boosting Regression with Learning Rate: 0.6\n",
            "RMSE Score: 117279.85960413875\n",
            "\n",
            "[06:51:04] WARNING: /workspace/src/objective/regression_obj.cu:152: reg:linear is now deprecated in favor of reg:squarederror.\n",
            "XG Boosting Regression with Learning Rate: 0.7\n",
            "RMSE Score: 122925.91111282365\n",
            "\n",
            "[06:51:05] WARNING: /workspace/src/objective/regression_obj.cu:152: reg:linear is now deprecated in favor of reg:squarederror.\n",
            "XG Boosting Regression with Learning Rate: 0.8\n",
            "RMSE Score: 123999.8199451181\n",
            "\n",
            "[06:51:06] WARNING: /workspace/src/objective/regression_obj.cu:152: reg:linear is now deprecated in favor of reg:squarederror.\n",
            "XG Boosting Regression with Learning Rate: 0.9\n",
            "RMSE Score: 135583.75543669637\n",
            "\n"
          ]
        }
      ]
    },
    {
      "cell_type": "code",
      "metadata": {
        "id": "HjArZYttQh7C"
      },
      "source": [
        "print(\"Ada Boosting R-squared Score:\", metrics.r2_score(y_test, ada_predict))\n",
        "print(\"Gradient Boosting R-squared Score:\", metrics.r2_score(y_test, gradient_predict))\n",
        "print(\"XG Boosting R-squared Score:\", metrics.r2_score(y_test, xgbr_predict))"
      ],
      "execution_count": null,
      "outputs": []
    },
    {
      "cell_type": "markdown",
      "metadata": {
        "id": "gccFwmX3Qh7K"
      },
      "source": [
        "From the above analysis, we see that XG Boosting with a learning rate of 0.1 returned the lowest RMSE score (125,974). Although still higher than 10% of the target variable mean, it is a better score than that of the original linear regression. Also, the r-squared score of XG Boosting is 0.8 which means it fits about 80% of our data, which is much better than for linear regression."
      ]
    },
    {
      "cell_type": "markdown",
      "metadata": {
        "id": "FI8eUGi1Qh7K"
      },
      "source": [
        "## <font color='#2F4F4F'>5. Summary of Findings</font>\n",
        "\n",
        "Our dataset met most of the assumptions for multiple linear regression such as normality and homoscedasticity. However, the assumptions on linearity, multicollinearity, and outliers were not fully met, thereby proving to be a poor data for multiple linear regression.\n",
        "\n",
        "With XG Boosting, the model fit to about 80% of the data, thereby meeting our metric for success."
      ]
    },
    {
      "cell_type": "markdown",
      "metadata": {
        "id": "P75v8gwNQh7L"
      },
      "source": [
        "## <font color='#2F4F4F'>6. Recommendations</font>\n",
        "\n",
        "I would recommend that Knightly Frankly use XG Boost Regressor rather than Multiple Linear Regression to predict the prices of the houses."
      ]
    },
    {
      "cell_type": "markdown",
      "metadata": {
        "id": "KRNNw7WVQh7M"
      },
      "source": [
        "## <font color='#2F4F4F'>7. Challenging your Solution</font>\n",
        "\n",
        "#### a) Did we have the right question?\n",
        "Yes.\n",
        "\n",
        "#### b) Did we have the right data?\n",
        "Yes.\n",
        "\n",
        "#### c) What can be done to improve the solution?\n",
        "Apart from carrying out hyperparameter tuning, we can implement cross validation. Alternatively, we can try out other regression analysis models."
      ]
    }
  ]
}