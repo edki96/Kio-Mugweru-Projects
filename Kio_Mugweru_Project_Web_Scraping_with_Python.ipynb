{
  "nbformat": 4,
  "nbformat_minor": 0,
  "metadata": {
    "colab": {
      "name": "Kio Mugweru Project Web Scraping with Python",
      "provenance": [],
      "collapsed_sections": [
        "Tcso2rJCNAGq",
        "CRmt1rRHgZRG",
        "h7iRb8U8hHNw",
        "_OxuOAIXhPl5",
        "7ePXABAihaKn"
      ],
      "toc_visible": true
    },
    "kernelspec": {
      "name": "python3",
      "display_name": "Python 3"
    }
  },
  "cells": [
    {
      "cell_type": "markdown",
      "metadata": {
        "id": "7i5A-UY4Yruf"
      },
      "source": [
        "<font color='#2F4F4F'>To use this notebook on Colaboratory, you will need to make a copy of it. Go to File > Save a Copy in Drive. You can then use the new copy that will appear in the new tab.</font>\n"
      ]
    },
    {
      "cell_type": "markdown",
      "metadata": {
        "id": "0rOdcI2Nzhky"
      },
      "source": [
        "# <font color='#2F4F4F'>AfterWork Data Science: Web Scraping with Python</font>"
      ]
    },
    {
      "cell_type": "markdown",
      "metadata": {
        "id": "Tcso2rJCNAGq"
      },
      "source": [
        "## <font color='#2F4F4F'>Prerequisites</font>"
      ]
    },
    {
      "cell_type": "code",
      "metadata": {
        "id": "QSHljMZTNCRI"
      },
      "source": [
        "# We first import the required libraries\n",
        "# ---\n",
        "#\n",
        "import pandas as pd             # library for data manupation\n",
        "import requests                 # library for fetching a web page \n",
        "from bs4 import BeautifulSoup   # library for extrating contents from a webpage "
      ],
      "execution_count": 28,
      "outputs": []
    },
    {
      "cell_type": "markdown",
      "metadata": {
        "id": "CRmt1rRHgZRG"
      },
      "source": [
        "## <font color='#2F4F4F'>Step 1: Obtaining our Data</font>"
      ]
    },
    {
      "cell_type": "code",
      "metadata": {
        "id": "cM5TKD-P1h7Z",
        "colab": {
          "base_uri": "https://localhost:8080/"
        },
        "outputId": "352a7c76-3595-4e00-e5e9-3f30f6d9bc47"
      },
      "source": [
        "# PigiaMe: https://www.pigiame.co.ke/it-software-jobs\n",
        "# ---\n",
        "#\n",
        "pigia_me = requests.get('https://www.pigiame.co.ke/it-software-jobs')\n",
        "pigia_me"
      ],
      "execution_count": 29,
      "outputs": [
        {
          "output_type": "execute_result",
          "data": {
            "text/plain": [
              "<Response [200]>"
            ]
          },
          "metadata": {},
          "execution_count": 29
        }
      ]
    },
    {
      "cell_type": "code",
      "metadata": {
        "id": "OfUvfxrD1nQC",
        "colab": {
          "base_uri": "https://localhost:8080/"
        },
        "outputId": "01a98352-3dd1-47c7-bd21-46ec5d1a3fe7"
      },
      "source": [
        "# MyJobMag: https://www.myjobmag.co.ke/jobs-by-field/information-technology\n",
        "# ---\n",
        "#\n",
        "MyJobMag = requests.get('https://www.myjobmag.co.ke/jobs-by-field/information-technology')\n",
        "MyJobMag"
      ],
      "execution_count": 30,
      "outputs": [
        {
          "output_type": "execute_result",
          "data": {
            "text/plain": [
              "<Response [200]>"
            ]
          },
          "metadata": {},
          "execution_count": 30
        }
      ]
    },
    {
      "cell_type": "code",
      "metadata": {
        "id": "psWrYhRUQDJC",
        "colab": {
          "base_uri": "https://localhost:8080/"
        },
        "outputId": "30924d5e-a54b-4a25-a600-c943fb1ead73"
      },
      "source": [
        "# KenyanJob: https://www.kenyajob.com/job-vacancies-search-kenya?f%5B0%5D=im_field_offre_secteur%3A133\n",
        "# ---\n",
        "#\n",
        "KenyanJob = requests.get('https://www.kenyajob.com/job-vacancies-search-kenya?f%5B0%5D=im_field_offre_secteur%3A133')\n",
        "KenyanJob"
      ],
      "execution_count": 31,
      "outputs": [
        {
          "output_type": "execute_result",
          "data": {
            "text/plain": [
              "<Response [200]>"
            ]
          },
          "metadata": {},
          "execution_count": 31
        }
      ]
    },
    {
      "cell_type": "markdown",
      "metadata": {
        "id": "h7iRb8U8hHNw"
      },
      "source": [
        "## <font color='#2F4F4F'>Step 2: Parsing</font>"
      ]
    },
    {
      "cell_type": "code",
      "metadata": {
        "id": "AXWSK1kD2oeN"
      },
      "source": [
        "# Parsing our document: pigia_me\n",
        "pigia_me_soup = BeautifulSoup(pigia_me.text, \"html.parser\")"
      ],
      "execution_count": 32,
      "outputs": []
    },
    {
      "cell_type": "code",
      "metadata": {
        "id": "lrH9mgR82pzg"
      },
      "source": [
        "# Parsing our document: my_job_mag\n",
        "my_job_mag_soup = BeautifulSoup(MyJobMag.text, \"html.parser\")"
      ],
      "execution_count": 33,
      "outputs": []
    },
    {
      "cell_type": "code",
      "metadata": {
        "id": "O0x-Wz03QP5O"
      },
      "source": [
        "# Parsing our document: kenyan_job\n",
        "kenyan_job_soup = BeautifulSoup(KenyanJob.text, \"html.parser\")"
      ],
      "execution_count": 34,
      "outputs": []
    },
    {
      "cell_type": "markdown",
      "metadata": {
        "id": "_OxuOAIXhPl5"
      },
      "source": [
        "## <font color='#2F4F4F'>Step 3: Extracting Required Elements</font>"
      ]
    },
    {
      "cell_type": "code",
      "metadata": {
        "id": "e2p147_LICKn"
      },
      "source": [
        "# 1.Extracting Links from the pigia me page\n",
        "from urllib.request import Request, urlopen\n",
        "import re\n",
        "pigia_me = []\n",
        "url = 'https://www.pigiame.co.ke/it-software-jobs'\n",
        "reqs = requests.get(url)\n",
        "for link in pigia_me_soup.find_all('a'):\n",
        " print(link.get('href'))"
      ],
      "execution_count": null,
      "outputs": []
    },
    {
      "cell_type": "code",
      "source": [
        "#Extracting the job titles from pigia me \n",
        "pigia_me_heading = []\n",
        "results = pigia_me_soup.find_all('div',attrs={'class': 'listing-card__header__title'})\n",
        "for result in results:\n",
        "    text = result.get_text().strip()\n",
        "    pigia_me_heading.append(text)\n",
        "pigia_me_heading"
      ],
      "metadata": {
        "id": "6Q5h7IdOhoSA"
      },
      "execution_count": null,
      "outputs": []
    },
    {
      "cell_type": "code",
      "metadata": {
        "id": "NNLbrng_3QfA"
      },
      "source": [
        "# 2. Extracting Links from my_job_mag \n",
        "url = 'https://www.myjobmag.co.ke/jobs-by-field/information-technology'\n",
        "my_job_mag_=my_job_mag_soup.find_all('h2')\n",
        "my_job_mag = []\n",
        "for link in my_job_mag_soup.find_all('a'):\n",
        "    print(link.get('href'))"
      ],
      "execution_count": null,
      "outputs": []
    },
    {
      "cell_type": "code",
      "source": [
        "jobmag_jobs=my_job_mag_soup.find_all('h2')\n",
        "jobmag_jobs\n",
        "\n",
        "job=[]\n",
        "\n",
        "for j in jobmag_jobs:\n",
        "  jobtitle=j.get_text()\n",
        "  job.append(jobtitle)\n",
        "job "
      ],
      "metadata": {
        "id": "gty-A4T4QPq-"
      },
      "execution_count": null,
      "outputs": []
    },
    {
      "cell_type": "code",
      "source": [
        "#Extracting the job titles from my_job_mag  \n",
        "results= my_job_mag_soup.find_all('h2')\n",
        "results\n",
        "\n",
        "job_mag=[]\n",
        "\n",
        "for result in results:\n",
        "    job_mag_title=result.get_text()\n",
        "    job_mag.append(job_mag_title)\n",
        "job_mag"
      ],
      "metadata": {
        "id": "f15d4DG8_h4D"
      },
      "execution_count": null,
      "outputs": []
    },
    {
      "cell_type": "code",
      "metadata": {
        "id": "I0fQKn63QV0R"
      },
      "source": [
        "#3. Extracting Links from kenya_job\n",
        "url = 'https://www.kenyajob.com/job-vacancies-search-kenya?f%5B0%5D=im_field_offre_secteur%3A133'\n",
        "reqs = requests.get(url)\n",
        "urls = []\n",
        "for link in soup3.find_all('a'):\n",
        "    print(link.get('href'))\n"
      ],
      "execution_count": null,
      "outputs": []
    },
    {
      "cell_type": "code",
      "source": [
        "#4. Extracting job titles from Kenya \n",
        "results= kenyan_job_soup.find_all('h5')\n",
        "results\n",
        "\n",
        "kenyan_job=[]\n",
        "\n",
        "for result in results:\n",
        "    kenyan_job_title=result.get_text()\n",
        "    kenyan_job.append(kenyan_job_title)\n",
        "kenyan_job"
      ],
      "metadata": {
        "id": "bZkN93ieNMsN"
      },
      "execution_count": null,
      "outputs": []
    },
    {
      "cell_type": "markdown",
      "metadata": {
        "id": "7ePXABAihaKn"
      },
      "source": [
        "## <font color='#2F4F4F'>Step 4: Saving our Data</font>"
      ]
    },
    {
      "cell_type": "code",
      "metadata": {
        "id": "fsG9pQXk5f8y",
        "colab": {
          "base_uri": "https://localhost:8080/",
          "height": 877
        },
        "outputId": "6cd7856e-a74b-4998-d9be-cef193da9668"
      },
      "source": [
        "# Saving the scraped contents in a dataframe and preview our data\n",
        "all_jobs = {'pigiame':pigia_me,'pigiamejob_title':pigia_me_heading, 'myjobmag_jobs':job,'kenyanjobs':kenyan_job}\n",
        "\n",
        "df = pd.DataFrame.from_dict(all_jobs, orient= 'index')\n",
        "df\n",
        "\n",
        "df=df.transpose()\n",
        "df"
      ],
      "execution_count": 61,
      "outputs": [
        {
          "output_type": "execute_result",
          "data": {
            "text/html": [
              "\n",
              "  <div id=\"df-5f9e05f2-fb75-4a28-b4a7-53551d68add9\">\n",
              "    <div class=\"colab-df-container\">\n",
              "      <div>\n",
              "<style scoped>\n",
              "    .dataframe tbody tr th:only-of-type {\n",
              "        vertical-align: middle;\n",
              "    }\n",
              "\n",
              "    .dataframe tbody tr th {\n",
              "        vertical-align: top;\n",
              "    }\n",
              "\n",
              "    .dataframe thead th {\n",
              "        text-align: right;\n",
              "    }\n",
              "</style>\n",
              "<table border=\"1\" class=\"dataframe\">\n",
              "  <thead>\n",
              "    <tr style=\"text-align: right;\">\n",
              "      <th></th>\n",
              "      <th>pigiame</th>\n",
              "      <th>pigiamejob_title</th>\n",
              "      <th>myjobmag_jobs</th>\n",
              "      <th>kenyanjobs</th>\n",
              "    </tr>\n",
              "  </thead>\n",
              "  <tbody>\n",
              "    <tr>\n",
              "      <th>0</th>\n",
              "      <td>None</td>\n",
              "      <td>Senior Software Engineer</td>\n",
              "      <td>Information, Communication and Technology Offi...</td>\n",
              "      <td>Senior Software Engineer- Substrate App Platform</td>\n",
              "    </tr>\n",
              "    <tr>\n",
              "      <th>1</th>\n",
              "      <td>None</td>\n",
              "      <td>Academic Cloud Advocate – Machine Learning and...</td>\n",
              "      <td>Information Communication Technology Officer I...</td>\n",
              "      <td>Consulting Account Manager</td>\n",
              "    </tr>\n",
              "    <tr>\n",
              "      <th>2</th>\n",
              "      <td>None</td>\n",
              "      <td>Academic Cloud Advocate – Developer tools and ...</td>\n",
              "      <td>Information Communication Technology Officer I...</td>\n",
              "      <td>Busine`ss Development Manager - International ...</td>\n",
              "    </tr>\n",
              "    <tr>\n",
              "      <th>3</th>\n",
              "      <td>None</td>\n",
              "      <td>Computer literate</td>\n",
              "      <td>Network Administrator at Britam</td>\n",
              "      <td>Company Telephone Receptionist</td>\n",
              "    </tr>\n",
              "    <tr>\n",
              "      <th>4</th>\n",
              "      <td>None</td>\n",
              "      <td>Software Engineer – Karen, Kenya</td>\n",
              "      <td>Cloud Solution Architecture at Microsoft</td>\n",
              "      <td>Enterprise Architect</td>\n",
              "    </tr>\n",
              "    <tr>\n",
              "      <th>5</th>\n",
              "      <td>None</td>\n",
              "      <td>Full Stack Software Developer</td>\n",
              "      <td>Flexible Remote Opportunity at Appen</td>\n",
              "      <td>Mid Level Data Scientist</td>\n",
              "    </tr>\n",
              "    <tr>\n",
              "      <th>6</th>\n",
              "      <td>None</td>\n",
              "      <td>Database Administrator I</td>\n",
              "      <td>Android Mobile Application Developers at Extra...</td>\n",
              "      <td>Senior Data Engineer</td>\n",
              "    </tr>\n",
              "    <tr>\n",
              "      <th>7</th>\n",
              "      <td>None</td>\n",
              "      <td>Mobile App Developer</td>\n",
              "      <td>Graphic Designer at One Acre Fund</td>\n",
              "      <td>HR Business Partner (Operations)</td>\n",
              "    </tr>\n",
              "    <tr>\n",
              "      <th>8</th>\n",
              "      <td>None</td>\n",
              "      <td>Junior Data Analyst (Agriculture) – Nairobi, K...</td>\n",
              "      <td>IT Support Technician at Kenya Airways</td>\n",
              "      <td>HR Operations Associate</td>\n",
              "    </tr>\n",
              "    <tr>\n",
              "      <th>9</th>\n",
              "      <td>None</td>\n",
              "      <td>Software Systems Supervisor - Urgent</td>\n",
              "      <td>Senior Software Engineer at DT One</td>\n",
              "      <td>Group Head - IT Infrastructure</td>\n",
              "    </tr>\n",
              "    <tr>\n",
              "      <th>10</th>\n",
              "      <td>None</td>\n",
              "      <td>None</td>\n",
              "      <td>Senior Data Scientist at GOODINFO</td>\n",
              "      <td>Mid Level Process Analyst</td>\n",
              "    </tr>\n",
              "    <tr>\n",
              "      <th>11</th>\n",
              "      <td>None</td>\n",
              "      <td>None</td>\n",
              "      <td>Lead Software Architect at GOODINFO</td>\n",
              "      <td>Core Banking Application Developer (Finacle)</td>\n",
              "    </tr>\n",
              "    <tr>\n",
              "      <th>12</th>\n",
              "      <td>None</td>\n",
              "      <td>None</td>\n",
              "      <td>Technology Operations Lead at GOODINFO</td>\n",
              "      <td>Sales Support Executive</td>\n",
              "    </tr>\n",
              "    <tr>\n",
              "      <th>13</th>\n",
              "      <td>None</td>\n",
              "      <td>None</td>\n",
              "      <td>Support Engineer (Financial Services IT) at Sa...</td>\n",
              "      <td>Director of Chaos Engineering - Ubuntu &amp; Distr...</td>\n",
              "    </tr>\n",
              "    <tr>\n",
              "      <th>14</th>\n",
              "      <td>None</td>\n",
              "      <td>None</td>\n",
              "      <td>Information Systems Auditor at Metropol Corpor...</td>\n",
              "      <td>Software Engineer, Ceph &amp; Distributed Storage</td>\n",
              "    </tr>\n",
              "    <tr>\n",
              "      <th>15</th>\n",
              "      <td>None</td>\n",
              "      <td>None</td>\n",
              "      <td>Digital Programming Lead at Plan International</td>\n",
              "      <td>Global Head of Performance Engineering</td>\n",
              "    </tr>\n",
              "    <tr>\n",
              "      <th>16</th>\n",
              "      <td>None</td>\n",
              "      <td>None</td>\n",
              "      <td>Digital Transformation Manager at Plan Interna...</td>\n",
              "      <td>Distributed Systems Golang Engineer</td>\n",
              "    </tr>\n",
              "    <tr>\n",
              "      <th>17</th>\n",
              "      <td>None</td>\n",
              "      <td>None</td>\n",
              "      <td>Assistant Director ICT at Embu County</td>\n",
              "      <td>Dedicated Linux Engineer, EMEA</td>\n",
              "    </tr>\n",
              "    <tr>\n",
              "      <th>18</th>\n",
              "      <td>None</td>\n",
              "      <td>None</td>\n",
              "      <td>Subscribe to Job Alert</td>\n",
              "      <td>Embedded Linux Consulting Engineering Director</td>\n",
              "    </tr>\n",
              "    <tr>\n",
              "      <th>19</th>\n",
              "      <td>None</td>\n",
              "      <td>None</td>\n",
              "      <td>Career Advice</td>\n",
              "      <td>BootStack APAC Engineering Manager</td>\n",
              "    </tr>\n",
              "    <tr>\n",
              "      <th>20</th>\n",
              "      <td>None</td>\n",
              "      <td>None</td>\n",
              "      <td>Subscribe to Job Alert</td>\n",
              "      <td>Growth Engineer - Marketing Automation</td>\n",
              "    </tr>\n",
              "    <tr>\n",
              "      <th>21</th>\n",
              "      <td>None</td>\n",
              "      <td>None</td>\n",
              "      <td>Job Vacancies in ICT / Computer</td>\n",
              "      <td>Director, DevOps Engineering</td>\n",
              "    </tr>\n",
              "    <tr>\n",
              "      <th>22</th>\n",
              "      <td>None</td>\n",
              "      <td>None</td>\n",
              "      <td>None</td>\n",
              "      <td>DevOps Engineer</td>\n",
              "    </tr>\n",
              "    <tr>\n",
              "      <th>23</th>\n",
              "      <td>None</td>\n",
              "      <td>None</td>\n",
              "      <td>None</td>\n",
              "      <td>Go Software Engineer, Commercial Systems</td>\n",
              "    </tr>\n",
              "    <tr>\n",
              "      <th>24</th>\n",
              "      <td>None</td>\n",
              "      <td>None</td>\n",
              "      <td>None</td>\n",
              "      <td>Site Reliability Engineering Manager</td>\n",
              "    </tr>\n",
              "  </tbody>\n",
              "</table>\n",
              "</div>\n",
              "      <button class=\"colab-df-convert\" onclick=\"convertToInteractive('df-5f9e05f2-fb75-4a28-b4a7-53551d68add9')\"\n",
              "              title=\"Convert this dataframe to an interactive table.\"\n",
              "              style=\"display:none;\">\n",
              "        \n",
              "  <svg xmlns=\"http://www.w3.org/2000/svg\" height=\"24px\"viewBox=\"0 0 24 24\"\n",
              "       width=\"24px\">\n",
              "    <path d=\"M0 0h24v24H0V0z\" fill=\"none\"/>\n",
              "    <path d=\"M18.56 5.44l.94 2.06.94-2.06 2.06-.94-2.06-.94-.94-2.06-.94 2.06-2.06.94zm-11 1L8.5 8.5l.94-2.06 2.06-.94-2.06-.94L8.5 2.5l-.94 2.06-2.06.94zm10 10l.94 2.06.94-2.06 2.06-.94-2.06-.94-.94-2.06-.94 2.06-2.06.94z\"/><path d=\"M17.41 7.96l-1.37-1.37c-.4-.4-.92-.59-1.43-.59-.52 0-1.04.2-1.43.59L10.3 9.45l-7.72 7.72c-.78.78-.78 2.05 0 2.83L4 21.41c.39.39.9.59 1.41.59.51 0 1.02-.2 1.41-.59l7.78-7.78 2.81-2.81c.8-.78.8-2.07 0-2.86zM5.41 20L4 18.59l7.72-7.72 1.47 1.35L5.41 20z\"/>\n",
              "  </svg>\n",
              "      </button>\n",
              "      \n",
              "  <style>\n",
              "    .colab-df-container {\n",
              "      display:flex;\n",
              "      flex-wrap:wrap;\n",
              "      gap: 12px;\n",
              "    }\n",
              "\n",
              "    .colab-df-convert {\n",
              "      background-color: #E8F0FE;\n",
              "      border: none;\n",
              "      border-radius: 50%;\n",
              "      cursor: pointer;\n",
              "      display: none;\n",
              "      fill: #1967D2;\n",
              "      height: 32px;\n",
              "      padding: 0 0 0 0;\n",
              "      width: 32px;\n",
              "    }\n",
              "\n",
              "    .colab-df-convert:hover {\n",
              "      background-color: #E2EBFA;\n",
              "      box-shadow: 0px 1px 2px rgba(60, 64, 67, 0.3), 0px 1px 3px 1px rgba(60, 64, 67, 0.15);\n",
              "      fill: #174EA6;\n",
              "    }\n",
              "\n",
              "    [theme=dark] .colab-df-convert {\n",
              "      background-color: #3B4455;\n",
              "      fill: #D2E3FC;\n",
              "    }\n",
              "\n",
              "    [theme=dark] .colab-df-convert:hover {\n",
              "      background-color: #434B5C;\n",
              "      box-shadow: 0px 1px 3px 1px rgba(0, 0, 0, 0.15);\n",
              "      filter: drop-shadow(0px 1px 2px rgba(0, 0, 0, 0.3));\n",
              "      fill: #FFFFFF;\n",
              "    }\n",
              "  </style>\n",
              "\n",
              "      <script>\n",
              "        const buttonEl =\n",
              "          document.querySelector('#df-5f9e05f2-fb75-4a28-b4a7-53551d68add9 button.colab-df-convert');\n",
              "        buttonEl.style.display =\n",
              "          google.colab.kernel.accessAllowed ? 'block' : 'none';\n",
              "\n",
              "        async function convertToInteractive(key) {\n",
              "          const element = document.querySelector('#df-5f9e05f2-fb75-4a28-b4a7-53551d68add9');\n",
              "          const dataTable =\n",
              "            await google.colab.kernel.invokeFunction('convertToInteractive',\n",
              "                                                     [key], {});\n",
              "          if (!dataTable) return;\n",
              "\n",
              "          const docLinkHtml = 'Like what you see? Visit the ' +\n",
              "            '<a target=\"_blank\" href=https://colab.research.google.com/notebooks/data_table.ipynb>data table notebook</a>'\n",
              "            + ' to learn more about interactive tables.';\n",
              "          element.innerHTML = '';\n",
              "          dataTable['output_type'] = 'display_data';\n",
              "          await google.colab.output.renderOutput(dataTable, element);\n",
              "          const docLink = document.createElement('div');\n",
              "          docLink.innerHTML = docLinkHtml;\n",
              "          element.appendChild(docLink);\n",
              "        }\n",
              "      </script>\n",
              "    </div>\n",
              "  </div>\n",
              "  "
            ],
            "text/plain": [
              "   pigiame  ...                                         kenyanjobs\n",
              "0     None  ...   Senior Software Engineer- Substrate App Platform\n",
              "1     None  ...                         Consulting Account Manager\n",
              "2     None  ...  Busine`ss Development Manager - International ...\n",
              "3     None  ...                    Company Telephone Receptionist \n",
              "4     None  ...                               Enterprise Architect\n",
              "5     None  ...                           Mid Level Data Scientist\n",
              "6     None  ...                               Senior Data Engineer\n",
              "7     None  ...                   HR Business Partner (Operations)\n",
              "8     None  ...                            HR Operations Associate\n",
              "9     None  ...                     Group Head - IT Infrastructure\n",
              "10    None  ...                          Mid Level Process Analyst\n",
              "11    None  ...       Core Banking Application Developer (Finacle)\n",
              "12    None  ...                            Sales Support Executive\n",
              "13    None  ...  Director of Chaos Engineering - Ubuntu & Distr...\n",
              "14    None  ...      Software Engineer, Ceph & Distributed Storage\n",
              "15    None  ...             Global Head of Performance Engineering\n",
              "16    None  ...                Distributed Systems Golang Engineer\n",
              "17    None  ...                     Dedicated Linux Engineer, EMEA\n",
              "18    None  ...     Embedded Linux Consulting Engineering Director\n",
              "19    None  ...                 BootStack APAC Engineering Manager\n",
              "20    None  ...             Growth Engineer - Marketing Automation\n",
              "21    None  ...                       Director, DevOps Engineering\n",
              "22    None  ...                                    DevOps Engineer\n",
              "23    None  ...           Go Software Engineer, Commercial Systems\n",
              "24    None  ...               Site Reliability Engineering Manager\n",
              "\n",
              "[25 rows x 4 columns]"
            ]
          },
          "metadata": {},
          "execution_count": 61
        }
      ]
    }
  ]
}