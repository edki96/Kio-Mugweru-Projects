{
  "nbformat": 4,
  "nbformat_minor": 0,
  "metadata": {
    "colab": {
      "name": "Kio Project_Classification_Analysis_with_Python",
      "provenance": [],
      "collapsed_sections": [
        "XecOwPNorl2W",
        "J4wfHZwQrs-t",
        "a9BPYqunry97",
        "7KMRBJ7zr9HD",
        "zSGyg6kWsBUl",
        "vTbdjSrhVIiT",
        "noZz5YRQXKzi",
        "xrmHVMVsVS--"
      ],
      "toc_visible": true
    },
    "kernelspec": {
      "display_name": "Python 3",
      "language": "python",
      "name": "python3"
    },
    "language_info": {
      "codemirror_mode": {
        "name": "ipython",
        "version": 3
      },
      "file_extension": ".py",
      "mimetype": "text/x-python",
      "name": "python",
      "nbconvert_exporter": "python",
      "pygments_lexer": "ipython3",
      "version": "3.7.4"
    }
  },
  "cells": [
    {
      "cell_type": "markdown",
      "metadata": {
        "id": "kLG2VTrnTvYL"
      },
      "source": [
        "## <font color='#2F4F4F'>1. Defining the Question</font>"
      ]
    },
    {
      "cell_type": "markdown",
      "metadata": {
        "id": "XecOwPNorl2W"
      },
      "source": [
        "### a) Specifying the Data Analysis Question\n",
        "\n",
        "What is your research question? What problem is it that you are trying to solve?"
      ]
    },
    {
      "cell_type": "markdown",
      "metadata": {
        "id": "J4wfHZwQrs-t"
      },
      "source": [
        "### b) Defining the Metric for Success\n",
        "\n",
        "What will convince you that your project has succeeded?"
      ]
    },
    {
      "cell_type": "markdown",
      "metadata": {
        "id": "a9BPYqunry97"
      },
      "source": [
        "### c) Understanding the Context \n",
        "\n",
        "The background information surrounding the problem or research question."
      ]
    },
    {
      "cell_type": "markdown",
      "metadata": {
        "id": "7KMRBJ7zr9HD"
      },
      "source": [
        "### d) Recording the Experimental Design\n",
        "\n",
        "The steps you will take from the beginning to the end of this project."
      ]
    },
    {
      "cell_type": "markdown",
      "metadata": {
        "id": "zSGyg6kWsBUl"
      },
      "source": [
        "### e) Data Relevance\n",
        "\n",
        "Is the provided data relevant to the problem or research question?"
      ]
    },
    {
      "cell_type": "markdown",
      "metadata": {
        "id": "iUNbvIvnT7ep"
      },
      "source": [
        "## <font color='#2F4F4F'>2. Data Cleaning & Preparation</font>"
      ]
    },
    {
      "cell_type": "code",
      "metadata": {
        "id": "0mdPO_JOasC1"
      },
      "source": [
        "# load libraries\n",
        "import pandas as pd\n",
        "import numpy as np\n",
        "import matplotlib.pyplot as plt\n",
        "import seaborn as sns\n",
        "\n",
        "%matplotlib inline\n",
        "\n",
        "# to display all columns\n",
        "pd.set_option('display.max.columns', None)\n",
        "\n",
        "# to display the entire contents of a cell\n",
        "pd.set_option('display.max_colwidth', None)"
      ],
      "execution_count": 1,
      "outputs": []
    },
    {
      "cell_type": "code",
      "metadata": {
        "id": "XJn2KjW-WMlG",
        "colab": {
          "base_uri": "https://localhost:8080/",
          "height": 207
        },
        "outputId": "086fc967-c2a5-4c21-c2d2-bee8b4ab7260"
      },
      "source": [
        "# load and preview dataset\n",
        "df = pd.read_csv('https://bit.ly/MTNTelcoDataset')\n",
        "df.sample(3)"
      ],
      "execution_count": 2,
      "outputs": [
        {
          "output_type": "execute_result",
          "data": {
            "text/html": [
              "\n",
              "  <div id=\"df-7741630a-312d-42c1-9145-0661dc92e477\">\n",
              "    <div class=\"colab-df-container\">\n",
              "      <div>\n",
              "<style scoped>\n",
              "    .dataframe tbody tr th:only-of-type {\n",
              "        vertical-align: middle;\n",
              "    }\n",
              "\n",
              "    .dataframe tbody tr th {\n",
              "        vertical-align: top;\n",
              "    }\n",
              "\n",
              "    .dataframe thead th {\n",
              "        text-align: right;\n",
              "    }\n",
              "</style>\n",
              "<table border=\"1\" class=\"dataframe\">\n",
              "  <thead>\n",
              "    <tr style=\"text-align: right;\">\n",
              "      <th></th>\n",
              "      <th>recordid</th>\n",
              "      <th>customer_id</th>\n",
              "      <th>account_length</th>\n",
              "      <th>area_code</th>\n",
              "      <th>international_plan</th>\n",
              "      <th>total_intl_minutes</th>\n",
              "      <th>total_intl_calls</th>\n",
              "      <th>voice_mail_plan</th>\n",
              "      <th>number_vmail_messages</th>\n",
              "      <th>total_day_minutes</th>\n",
              "      <th>total_day_calls</th>\n",
              "      <th>total_day_charge</th>\n",
              "      <th>total_eve_minutes</th>\n",
              "      <th>total_eve_calls</th>\n",
              "      <th>total_eve_charge</th>\n",
              "      <th>total_night_minutes</th>\n",
              "      <th>total_night_calls</th>\n",
              "      <th>total_night_charge</th>\n",
              "      <th>total_intl_minutes_2</th>\n",
              "      <th>total_intl_calls_2</th>\n",
              "      <th>total_intl_charge</th>\n",
              "      <th>number_customer_service_calls</th>\n",
              "      <th>churn</th>\n",
              "    </tr>\n",
              "  </thead>\n",
              "  <tbody>\n",
              "    <tr>\n",
              "      <th>10597</th>\n",
              "      <td>10598</td>\n",
              "      <td>37521127.0</td>\n",
              "      <td>18</td>\n",
              "      <td>408</td>\n",
              "      <td>False</td>\n",
              "      <td>8.7</td>\n",
              "      <td>3</td>\n",
              "      <td>False</td>\n",
              "      <td>0</td>\n",
              "      <td>197.0</td>\n",
              "      <td>97</td>\n",
              "      <td>33.49</td>\n",
              "      <td>203.7</td>\n",
              "      <td>107</td>\n",
              "      <td>17.31</td>\n",
              "      <td>202.0</td>\n",
              "      <td>105</td>\n",
              "      <td>9.09</td>\n",
              "      <td>8.7</td>\n",
              "      <td>3</td>\n",
              "      <td>2.35</td>\n",
              "      <td>3</td>\n",
              "      <td>False</td>\n",
              "    </tr>\n",
              "    <tr>\n",
              "      <th>8948</th>\n",
              "      <td>8949</td>\n",
              "      <td>24838849.0</td>\n",
              "      <td>48</td>\n",
              "      <td>510</td>\n",
              "      <td>False</td>\n",
              "      <td>8.0</td>\n",
              "      <td>5</td>\n",
              "      <td>True</td>\n",
              "      <td>43</td>\n",
              "      <td>172.0</td>\n",
              "      <td>111</td>\n",
              "      <td>29.24</td>\n",
              "      <td>200.2</td>\n",
              "      <td>64</td>\n",
              "      <td>17.02</td>\n",
              "      <td>233.1</td>\n",
              "      <td>96</td>\n",
              "      <td>10.49</td>\n",
              "      <td>8.0</td>\n",
              "      <td>5</td>\n",
              "      <td>2.16</td>\n",
              "      <td>1</td>\n",
              "      <td>False</td>\n",
              "    </tr>\n",
              "    <tr>\n",
              "      <th>453</th>\n",
              "      <td>454</td>\n",
              "      <td>56019011.0</td>\n",
              "      <td>77</td>\n",
              "      <td>510</td>\n",
              "      <td>False</td>\n",
              "      <td>13.7</td>\n",
              "      <td>3</td>\n",
              "      <td>False</td>\n",
              "      <td>0</td>\n",
              "      <td>124.1</td>\n",
              "      <td>92</td>\n",
              "      <td>21.10</td>\n",
              "      <td>214.9</td>\n",
              "      <td>131</td>\n",
              "      <td>18.27</td>\n",
              "      <td>241.3</td>\n",
              "      <td>132</td>\n",
              "      <td>10.86</td>\n",
              "      <td>13.7</td>\n",
              "      <td>3</td>\n",
              "      <td>3.70</td>\n",
              "      <td>0</td>\n",
              "      <td>False</td>\n",
              "    </tr>\n",
              "  </tbody>\n",
              "</table>\n",
              "</div>\n",
              "      <button class=\"colab-df-convert\" onclick=\"convertToInteractive('df-7741630a-312d-42c1-9145-0661dc92e477')\"\n",
              "              title=\"Convert this dataframe to an interactive table.\"\n",
              "              style=\"display:none;\">\n",
              "        \n",
              "  <svg xmlns=\"http://www.w3.org/2000/svg\" height=\"24px\"viewBox=\"0 0 24 24\"\n",
              "       width=\"24px\">\n",
              "    <path d=\"M0 0h24v24H0V0z\" fill=\"none\"/>\n",
              "    <path d=\"M18.56 5.44l.94 2.06.94-2.06 2.06-.94-2.06-.94-.94-2.06-.94 2.06-2.06.94zm-11 1L8.5 8.5l.94-2.06 2.06-.94-2.06-.94L8.5 2.5l-.94 2.06-2.06.94zm10 10l.94 2.06.94-2.06 2.06-.94-2.06-.94-.94-2.06-.94 2.06-2.06.94z\"/><path d=\"M17.41 7.96l-1.37-1.37c-.4-.4-.92-.59-1.43-.59-.52 0-1.04.2-1.43.59L10.3 9.45l-7.72 7.72c-.78.78-.78 2.05 0 2.83L4 21.41c.39.39.9.59 1.41.59.51 0 1.02-.2 1.41-.59l7.78-7.78 2.81-2.81c.8-.78.8-2.07 0-2.86zM5.41 20L4 18.59l7.72-7.72 1.47 1.35L5.41 20z\"/>\n",
              "  </svg>\n",
              "      </button>\n",
              "      \n",
              "  <style>\n",
              "    .colab-df-container {\n",
              "      display:flex;\n",
              "      flex-wrap:wrap;\n",
              "      gap: 12px;\n",
              "    }\n",
              "\n",
              "    .colab-df-convert {\n",
              "      background-color: #E8F0FE;\n",
              "      border: none;\n",
              "      border-radius: 50%;\n",
              "      cursor: pointer;\n",
              "      display: none;\n",
              "      fill: #1967D2;\n",
              "      height: 32px;\n",
              "      padding: 0 0 0 0;\n",
              "      width: 32px;\n",
              "    }\n",
              "\n",
              "    .colab-df-convert:hover {\n",
              "      background-color: #E2EBFA;\n",
              "      box-shadow: 0px 1px 2px rgba(60, 64, 67, 0.3), 0px 1px 3px 1px rgba(60, 64, 67, 0.15);\n",
              "      fill: #174EA6;\n",
              "    }\n",
              "\n",
              "    [theme=dark] .colab-df-convert {\n",
              "      background-color: #3B4455;\n",
              "      fill: #D2E3FC;\n",
              "    }\n",
              "\n",
              "    [theme=dark] .colab-df-convert:hover {\n",
              "      background-color: #434B5C;\n",
              "      box-shadow: 0px 1px 3px 1px rgba(0, 0, 0, 0.15);\n",
              "      filter: drop-shadow(0px 1px 2px rgba(0, 0, 0, 0.3));\n",
              "      fill: #FFFFFF;\n",
              "    }\n",
              "  </style>\n",
              "\n",
              "      <script>\n",
              "        const buttonEl =\n",
              "          document.querySelector('#df-7741630a-312d-42c1-9145-0661dc92e477 button.colab-df-convert');\n",
              "        buttonEl.style.display =\n",
              "          google.colab.kernel.accessAllowed ? 'block' : 'none';\n",
              "\n",
              "        async function convertToInteractive(key) {\n",
              "          const element = document.querySelector('#df-7741630a-312d-42c1-9145-0661dc92e477');\n",
              "          const dataTable =\n",
              "            await google.colab.kernel.invokeFunction('convertToInteractive',\n",
              "                                                     [key], {});\n",
              "          if (!dataTable) return;\n",
              "\n",
              "          const docLinkHtml = 'Like what you see? Visit the ' +\n",
              "            '<a target=\"_blank\" href=https://colab.research.google.com/notebooks/data_table.ipynb>data table notebook</a>'\n",
              "            + ' to learn more about interactive tables.';\n",
              "          element.innerHTML = '';\n",
              "          dataTable['output_type'] = 'display_data';\n",
              "          await google.colab.output.renderOutput(dataTable, element);\n",
              "          const docLink = document.createElement('div');\n",
              "          docLink.innerHTML = docLinkHtml;\n",
              "          element.appendChild(docLink);\n",
              "        }\n",
              "      </script>\n",
              "    </div>\n",
              "  </div>\n",
              "  "
            ],
            "text/plain": [
              "       recordid  customer_id  account_length  area_code  international_plan  \\\n",
              "10597     10598   37521127.0              18        408               False   \n",
              "8948       8949   24838849.0              48        510               False   \n",
              "453         454   56019011.0              77        510               False   \n",
              "\n",
              "       total_intl_minutes  total_intl_calls  voice_mail_plan  \\\n",
              "10597                 8.7                 3            False   \n",
              "8948                  8.0                 5             True   \n",
              "453                  13.7                 3            False   \n",
              "\n",
              "       number_vmail_messages  total_day_minutes  total_day_calls  \\\n",
              "10597                      0              197.0               97   \n",
              "8948                      43              172.0              111   \n",
              "453                        0              124.1               92   \n",
              "\n",
              "       total_day_charge  total_eve_minutes  total_eve_calls  total_eve_charge  \\\n",
              "10597             33.49              203.7              107             17.31   \n",
              "8948              29.24              200.2               64             17.02   \n",
              "453               21.10              214.9              131             18.27   \n",
              "\n",
              "       total_night_minutes  total_night_calls  total_night_charge  \\\n",
              "10597                202.0                105                9.09   \n",
              "8948                 233.1                 96               10.49   \n",
              "453                  241.3                132               10.86   \n",
              "\n",
              "       total_intl_minutes_2  total_intl_calls_2  total_intl_charge  \\\n",
              "10597                   8.7                   3               2.35   \n",
              "8948                    8.0                   5               2.16   \n",
              "453                    13.7                   3               3.70   \n",
              "\n",
              "       number_customer_service_calls  churn  \n",
              "10597                              3  False  \n",
              "8948                               1  False  \n",
              "453                                0  False  "
            ]
          },
          "metadata": {},
          "execution_count": 2
        }
      ]
    },
    {
      "cell_type": "code",
      "metadata": {
        "id": "rUCMVxAVasDI"
      },
      "source": [
        "# load glossary\n",
        "glossary = pd.read_csv('https://bit.ly/3gTideq',header = None)\n",
        "glossary"
      ],
      "execution_count": null,
      "outputs": []
    },
    {
      "cell_type": "code",
      "metadata": {
        "id": "T3nO8Pr0asDa",
        "colab": {
          "base_uri": "https://localhost:8080/"
        },
        "outputId": "164917e0-20d2-42ba-b652-54a86bdc4e6f"
      },
      "source": [
        "# check dataset shape\n",
        "df.shape"
      ],
      "execution_count": 4,
      "outputs": [
        {
          "output_type": "execute_result",
          "data": {
            "text/plain": [
              "(12892, 23)"
            ]
          },
          "metadata": {},
          "execution_count": 4
        }
      ]
    },
    {
      "cell_type": "markdown",
      "metadata": {
        "id": "V0L7v6F2asDt"
      },
      "source": [
        "Our dataset has 12,892 records and 23 variables."
      ]
    },
    {
      "cell_type": "markdown",
      "metadata": {
        "id": "Wj_MLc33asDv"
      },
      "source": [
        "We will drop 'recordid' and 'customer_id' since we have no need of them and they would interfere with our analysis."
      ]
    },
    {
      "cell_type": "code",
      "metadata": {
        "id": "OK4RrExBasD4"
      },
      "source": [
        "df.drop(columns = ['recordid', 'customer_id'], inplace = True)"
      ],
      "execution_count": 5,
      "outputs": []
    },
    {
      "cell_type": "code",
      "metadata": {
        "id": "t8WGzIueasEB",
        "colab": {
          "base_uri": "https://localhost:8080/"
        },
        "outputId": "1b90e9dc-1992-4406-ce6d-d86e7f20f0ef"
      },
      "source": [
        "# preview variable datatypes\n",
        "df.dtypes"
      ],
      "execution_count": 6,
      "outputs": [
        {
          "output_type": "execute_result",
          "data": {
            "text/plain": [
              "account_length                     int64\n",
              "area_code                          int64\n",
              "international_plan                  bool\n",
              "total_intl_minutes               float64\n",
              "total_intl_calls                   int64\n",
              "voice_mail_plan                     bool\n",
              "number_vmail_messages              int64\n",
              "total_day_minutes                float64\n",
              "total_day_calls                    int64\n",
              "total_day_charge                 float64\n",
              "total_eve_minutes                float64\n",
              "total_eve_calls                    int64\n",
              "total_eve_charge                 float64\n",
              "total_night_minutes              float64\n",
              "total_night_calls                  int64\n",
              "total_night_charge               float64\n",
              "total_intl_minutes_2             float64\n",
              "total_intl_calls_2                 int64\n",
              "total_intl_charge                float64\n",
              "number_customer_service_calls      int64\n",
              "churn                               bool\n",
              "dtype: object"
            ]
          },
          "metadata": {},
          "execution_count": 6
        }
      ]
    },
    {
      "cell_type": "markdown",
      "metadata": {
        "id": "W0swT5hLasEU"
      },
      "source": [
        "With the exception of the 'international_plan', 'voice_mail_plan', and 'churn' variables which are boolean, this dataset is numerical."
      ]
    },
    {
      "cell_type": "code",
      "metadata": {
        "id": "Lncux1rmasEW",
        "colab": {
          "base_uri": "https://localhost:8080/"
        },
        "outputId": "945ad2f7-920b-4dcd-9a41-2f7b0504b6ae"
      },
      "source": [
        "# check for duplicates\n",
        "df.duplicated().sum()"
      ],
      "execution_count": 7,
      "outputs": [
        {
          "output_type": "execute_result",
          "data": {
            "text/plain": [
              "7892"
            ]
          },
          "metadata": {},
          "execution_count": 7
        }
      ]
    },
    {
      "cell_type": "markdown",
      "metadata": {
        "id": "sEH9EDx-asEZ"
      },
      "source": [
        "7,892 duplicated records are found. We will drop them."
      ]
    },
    {
      "cell_type": "code",
      "metadata": {
        "id": "UzmhHpehasEa",
        "colab": {
          "base_uri": "https://localhost:8080/"
        },
        "outputId": "d4057f83-de7b-4f59-d63d-ad4d85f5fc5b"
      },
      "source": [
        "df = df.drop_duplicates()\n",
        "df.shape"
      ],
      "execution_count": 8,
      "outputs": [
        {
          "output_type": "execute_result",
          "data": {
            "text/plain": [
              "(5000, 21)"
            ]
          },
          "metadata": {},
          "execution_count": 8
        }
      ]
    },
    {
      "cell_type": "code",
      "metadata": {
        "id": "7tOe_SdmasEd",
        "colab": {
          "base_uri": "https://localhost:8080/"
        },
        "outputId": "3843e0b7-7164-442f-d3b4-3a54044cdcb9"
      },
      "source": [
        "# check for missing values\n",
        "df.isna().sum()"
      ],
      "execution_count": 9,
      "outputs": [
        {
          "output_type": "execute_result",
          "data": {
            "text/plain": [
              "account_length                   0\n",
              "area_code                        0\n",
              "international_plan               0\n",
              "total_intl_minutes               0\n",
              "total_intl_calls                 0\n",
              "voice_mail_plan                  0\n",
              "number_vmail_messages            0\n",
              "total_day_minutes                0\n",
              "total_day_calls                  0\n",
              "total_day_charge                 0\n",
              "total_eve_minutes                0\n",
              "total_eve_calls                  0\n",
              "total_eve_charge                 0\n",
              "total_night_minutes              0\n",
              "total_night_calls                0\n",
              "total_night_charge               0\n",
              "total_intl_minutes_2             0\n",
              "total_intl_calls_2               0\n",
              "total_intl_charge                0\n",
              "number_customer_service_calls    0\n",
              "churn                            0\n",
              "dtype: int64"
            ]
          },
          "metadata": {},
          "execution_count": 9
        }
      ]
    },
    {
      "cell_type": "markdown",
      "metadata": {
        "id": "VUq1Soc9asEh"
      },
      "source": [
        "No missing values found. We will look at the unique values in each variable just to be safe."
      ]
    },
    {
      "cell_type": "code",
      "metadata": {
        "id": "Sc73gdLSasEi",
        "colab": {
          "base_uri": "https://localhost:8080/"
        },
        "outputId": "04e9955b-1c8f-449d-ae4f-c0c1bea8d66e"
      },
      "source": [
        "columns = df.columns\n",
        "\n",
        "for col in columns:\n",
        "    print(\"Variable:\", col)\n",
        "    print(\"Number of unique values:\", df[col].nunique())\n",
        "    print(df[col].unique())\n",
        "    print()"
      ],
      "execution_count": 10,
      "outputs": [
        {
          "output_type": "stream",
          "name": "stdout",
          "text": [
            "Variable: account_length\n",
            "Number of unique values: 218\n",
            "[101 137 103  99 108 117  63  94 138 128 113 140 102  60  96 178  75 106\n",
            " 158 111  92  42  69  76  72 115  68  97  90  73  54 161 125 194 141  98\n",
            " 110  70  66  79  61  77 105 159  83  93 163 169  57  85 132 190  39  84\n",
            "  71 114 135  82  64 112 166 120 187 100  45  43  52  74  40  56 133 119\n",
            " 131 118 107 109 127  33 145  47  53 148  55 143 170  65 157  89  91 104\n",
            " 130  80 146  29  78 185 144  59 139  12 150 156  17 176  95 136 165 149\n",
            " 124  87  51 126  62  48  58  81  36 177  25 171 122  44 167  41 184  88\n",
            " 151 160 152  49  13 142   3  23  19 154 116 173  24  15  86 147  21 174\n",
            " 162 186  14   7   1  18  20  11 192 121 134  67 164 180  35 155  32 123\n",
            " 182 129  38  37  50  27 188 175   5  26   4  31 193 238  28 195 153 201\n",
            " 216 183 168 222 232 233  22  46  34   8 217   2 200 172  16  30 202 181\n",
            "  10   6 179 208 215 199 196 209 224 189 243 205   9 210 212 197 225 191\n",
            " 204 221]\n",
            "\n",
            "Variable: area_code\n",
            "Number of unique values: 3\n",
            "[510 408 415]\n",
            "\n",
            "Variable: international_plan\n",
            "Number of unique values: 2\n",
            "[False  True]\n",
            "\n",
            "Variable: total_intl_minutes\n",
            "Number of unique values: 170\n",
            "[10.6  9.5 13.7 15.7  7.7  6.9 12.9 11.1  9.9 11.9  9.  10.5  7.2  7.4\n",
            " 14.3 11.7 13.9  7.1 14.7  9.8  9.3 11.   5.2  9.2 10.1 12.3  9.1 12.6\n",
            " 10.  12.  10.7 13.4  8.3 13.6 12.5 10.2  4.4  8.6  6.8 11.8 16.2 13.2\n",
            "  8.  11.4 12.4 10.4  7.5 12.8 18.9  7.6  0.  11.3 13.8  7.   9.6  8.8\n",
            "  7.3 15.1  7.9 11.6  6.1  8.7 13.3 10.3  5.7 10.9  7.8  5.6 13.5  9.7\n",
            " 14.8  8.9  9.4  8.5 12.7 15.4  5.4 14.   8.2  6.6 11.5 12.1 13.1 11.2\n",
            "  8.4 14.9  6.   6.3  4.5  8.1  6.2  3.9  4.6 12.2 13.   6.7 15.6 14.2\n",
            " 18.7 10.8  5.8 15.   5.9  4.3  5.5 16.8 14.5  4.8  5.3  4.7 16.1 14.1\n",
            " 15.2 15.3 16.5 16.3  3.1  5.1  6.5  3.7  3.8 17.2  4.2  0.4 19.3 14.6\n",
            " 19.2  6.4 16.6  2.2 15.9  5.  14.4 15.5  4.9 19.7 16.  15.8 17.8  3.4\n",
            " 18.5  3.5  4.1 16.4  4.   1.1  2.  17.7 20.  17.6  2.7 18.  17.5 18.2\n",
            "  3.6 16.7  1.3 16.9 17.  17.1 17.9 17.3 18.4  2.9  3.3  2.6 18.3  2.1\n",
            "  2.4  2.5]\n",
            "\n",
            "Variable: total_intl_calls\n",
            "Number of unique values: 21\n",
            "[ 3  7  6  2  4  5  1  9  8 13  0 12 10 19 16 11 15 18 17 14 20]\n",
            "\n",
            "Variable: voice_mail_plan\n",
            "Number of unique values: 2\n",
            "[False  True]\n",
            "\n",
            "Variable: number_vmail_messages\n",
            "Number of unique values: 48\n",
            "[ 0 29 32 43 39 22 25 35 31 38 41  6 37 30 40 33 36 12 21 46 27 20 18 24\n",
            " 28 34 15 26 45 49 19 17 16 14 23 42 10 47 48 52 44 51 11  8  4 13 50  9]\n",
            "\n",
            "Variable: total_day_minutes\n",
            "Number of unique values: 1961\n",
            "[ 70.9 223.6 294.7 ... 224.1 124.9 321.1]\n",
            "\n",
            "Variable: total_day_calls\n",
            "Number of unique values: 123\n",
            "[123  86  95  78  85 124  97 117 100  77 109  93  66 105 121 142  88  99\n",
            " 101 111  94 110 125 106  74 131 112 104  76 113 122 127  65  91  48 120\n",
            " 102 103  81 108  83  56 118  75  57 132 114  92 126  98 119  87  82  96\n",
            " 107  90  64 133  89 115 147  58  72  80  53 128 130 149  79  68 143 141\n",
            "  61 116 148  84  62  60  51  73 135 137 151 136 134  50  71  70 129  52\n",
            " 138  69  59  67 144  63  47  34  39 156 157 146  44  46 140 152 139 160\n",
            "  49 145  55 158 163  54  36  40 150 165  30  42   0  45  35]\n",
            "\n",
            "Variable: total_day_charge\n",
            "Number of unique values: 1961\n",
            "[12.05 38.01 50.1  ... 38.1  21.23 54.59]\n",
            "\n",
            "Variable: total_eve_minutes\n",
            "Number of unique values: 1879\n",
            "[211.9 244.8 237.3 ... 153.4 288.8 265.9]\n",
            "\n",
            "Variable: total_eve_calls\n",
            "Number of unique values: 126\n",
            "[ 73 139 105  88 101  68 125 112  46  89  90 116  97 107 100  81 108 104\n",
            " 106 120  71  70 131 128  91 109 126  75  87  78  94 127  62 103 110  96\n",
            " 136  67 148 117  95  98  92 111  99  63 119 123  93 102  86 121  56 118\n",
            " 114 133  76  79  65  85  72 113 115 132  84 143 130  83 124 142 150  74\n",
            " 129 138  61 122  80  77 134  82 151 147  58  69 141  66  55  64  47 144\n",
            " 169 149  53 140 152  54 154  60 135 145 155  51  52 137  38  57  44 146\n",
            "  49 164  59  48 168  42  37  12  50 157  45  36 156 153  43   0 159 170]\n",
            "\n",
            "Variable: total_eve_charge\n",
            "Number of unique values: 1659\n",
            "[18.01 20.81 20.17 ... 13.04 24.55 22.6 ]\n",
            "\n",
            "Variable: total_night_minutes\n",
            "Number of unique values: 1853\n",
            "[236.   94.2 300.3 ... 131.9 280.9 279.1]\n",
            "\n",
            "Variable: total_night_calls\n",
            "Number of unique values: 131\n",
            "[ 73  81 127  82 107  90 120 106  71  92 100  94 124 119  89 114  99  98\n",
            "  95 104 121  80 125  78 105  96 103 115  79 101 132  72  85 110  83  84\n",
            " 109 118 134 116  64 113  88 123 135  56  68 148  76  93  91  97 141 102\n",
            " 139 136 131  58 129 112  49  48 128 122  77 151 145 108 130 117  69  53\n",
            "  66  40  87  70  75 111 168 149 137 161 133  67 138  65  60  74 126  61\n",
            " 150 143 140 146 159 142 160  57  86 170 158  63  62  52 147 154  42  41\n",
            "  59  50  38  46 155  12  55 165  54  43  51   0 152  44 153 175 157 144\n",
            " 166  33 156  36 164]\n",
            "\n",
            "Variable: total_night_charge\n",
            "Number of unique values: 1028\n",
            "[10.62  4.24 13.51 ...  5.12  5.65 12.37]\n",
            "\n",
            "Variable: total_intl_minutes_2\n",
            "Number of unique values: 170\n",
            "[10.6  9.5 13.7 15.7  7.7  6.9 12.9 11.1  9.9 11.9  9.  10.5  7.2  7.4\n",
            " 14.3 11.7 13.9  7.1 14.7  9.8  9.3 11.   5.2  9.2 10.1 12.3  9.1 12.6\n",
            " 10.  12.  10.7 13.4  8.3 13.6 12.5 10.2  4.4  8.6  6.8 11.8 16.2 13.2\n",
            "  8.  11.4 12.4 10.4  7.5 12.8 18.9  7.6  0.  11.3 13.8  7.   9.6  8.8\n",
            "  7.3 15.1  7.9 11.6  6.1  8.7 13.3 10.3  5.7 10.9  7.8  5.6 13.5  9.7\n",
            " 14.8  8.9  9.4  8.5 12.7 15.4  5.4 14.   8.2  6.6 11.5 12.1 13.1 11.2\n",
            "  8.4 14.9  6.   6.3  4.5  8.1  6.2  3.9  4.6 12.2 13.   6.7 15.6 14.2\n",
            " 18.7 10.8  5.8 15.   5.9  4.3  5.5 16.8 14.5  4.8  5.3  4.7 16.1 14.1\n",
            " 15.2 15.3 16.5 16.3  3.1  5.1  6.5  3.7  3.8 17.2  4.2  0.4 19.3 14.6\n",
            " 19.2  6.4 16.6  2.2 15.9  5.  14.4 15.5  4.9 19.7 16.  15.8 17.8  3.4\n",
            " 18.5  3.5  4.1 16.4  4.   1.1  2.  17.7 20.  17.6  2.7 18.  17.5 18.2\n",
            "  3.6 16.7  1.3 16.9 17.  17.1 17.9 17.3 18.4  2.9  3.3  2.6 18.3  2.1\n",
            "  2.4  2.5]\n",
            "\n",
            "Variable: total_intl_calls_2\n",
            "Number of unique values: 21\n",
            "[ 3  7  6  2  4  5  1  9  8 13  0 12 10 19 16 11 15 18 17 14 20]\n",
            "\n",
            "Variable: total_intl_charge\n",
            "Number of unique values: 170\n",
            "[2.86 2.57 3.7  4.24 2.08 1.86 3.48 3.   2.67 3.21 2.43 2.84 1.94 2.\n",
            " 3.86 3.16 3.75 1.92 3.97 2.65 2.51 2.97 1.4  2.48 2.73 3.32 2.46 3.4\n",
            " 2.7  3.24 2.89 3.62 2.24 3.67 3.38 2.75 1.19 2.32 1.84 3.19 4.37 3.56\n",
            " 2.16 3.08 3.35 2.81 2.03 3.46 5.1  2.05 0.   3.05 3.73 1.89 2.59 2.38\n",
            " 1.97 4.08 2.13 3.13 1.65 2.35 3.59 2.78 1.54 2.94 2.11 1.51 3.65 2.62\n",
            " 4.   2.4  2.54 2.3  3.43 4.16 1.46 3.78 2.21 1.78 3.11 3.27 3.54 3.02\n",
            " 2.27 4.02 1.62 1.7  1.22 2.19 1.67 1.05 1.24 3.29 3.51 1.81 4.21 3.83\n",
            " 5.05 2.92 1.57 4.05 1.59 1.16 1.49 4.54 3.92 1.3  1.43 1.27 4.35 3.81\n",
            " 4.1  4.13 4.46 4.4  0.84 1.38 1.76 1.   1.03 4.64 1.13 0.11 5.21 3.94\n",
            " 5.18 1.73 4.48 0.59 4.29 1.35 3.89 4.19 1.32 5.32 4.32 4.27 4.81 0.92\n",
            " 5.   0.95 1.11 4.43 1.08 0.3  0.54 4.78 5.4  4.75 0.73 4.86 4.73 4.91\n",
            " 0.97 4.51 0.35 4.56 4.59 4.62 4.83 4.67 4.97 0.78 0.89 0.7  4.94 0.57\n",
            " 0.65 0.68]\n",
            "\n",
            "Variable: number_customer_service_calls\n",
            "Number of unique values: 10\n",
            "[3 0 1 2 4 5 6 7 9 8]\n",
            "\n",
            "Variable: churn\n",
            "Number of unique values: 2\n",
            "[False  True]\n",
            "\n"
          ]
        }
      ]
    },
    {
      "cell_type": "markdown",
      "metadata": {
        "id": "hFhi0sj6asEm"
      },
      "source": [
        "We can confirm that there are no missing values in this dataset."
      ]
    },
    {
      "cell_type": "markdown",
      "metadata": {
        "id": "W2ztYk64asEq"
      },
      "source": [
        "An anomaly has been noted: there appears to be duplicated columns between 'total_intl_minutes' and 'total_intl_minutes_2', and 'total_intl_calls' and 'total_intl_calls_2'. Let's preview them:"
      ]
    },
    {
      "cell_type": "code",
      "metadata": {
        "id": "44g9GeRSasEr",
        "colab": {
          "base_uri": "https://localhost:8080/",
          "height": 424
        },
        "outputId": "0c52a17d-6288-4cfb-d728-37281f7c7f49"
      },
      "source": [
        "# previewing the possibly duplicated columns\n",
        "df[['total_intl_minutes', 'total_intl_calls', 'total_intl_minutes_2', 'total_intl_calls_2']]"
      ],
      "execution_count": 11,
      "outputs": [
        {
          "output_type": "execute_result",
          "data": {
            "text/html": [
              "\n",
              "  <div id=\"df-c921ec41-da7e-4e65-b2ba-8bc1685ba929\">\n",
              "    <div class=\"colab-df-container\">\n",
              "      <div>\n",
              "<style scoped>\n",
              "    .dataframe tbody tr th:only-of-type {\n",
              "        vertical-align: middle;\n",
              "    }\n",
              "\n",
              "    .dataframe tbody tr th {\n",
              "        vertical-align: top;\n",
              "    }\n",
              "\n",
              "    .dataframe thead th {\n",
              "        text-align: right;\n",
              "    }\n",
              "</style>\n",
              "<table border=\"1\" class=\"dataframe\">\n",
              "  <thead>\n",
              "    <tr style=\"text-align: right;\">\n",
              "      <th></th>\n",
              "      <th>total_intl_minutes</th>\n",
              "      <th>total_intl_calls</th>\n",
              "      <th>total_intl_minutes_2</th>\n",
              "      <th>total_intl_calls_2</th>\n",
              "    </tr>\n",
              "  </thead>\n",
              "  <tbody>\n",
              "    <tr>\n",
              "      <th>0</th>\n",
              "      <td>10.6</td>\n",
              "      <td>3</td>\n",
              "      <td>10.6</td>\n",
              "      <td>3</td>\n",
              "    </tr>\n",
              "    <tr>\n",
              "      <th>1</th>\n",
              "      <td>9.5</td>\n",
              "      <td>7</td>\n",
              "      <td>9.5</td>\n",
              "      <td>7</td>\n",
              "    </tr>\n",
              "    <tr>\n",
              "      <th>2</th>\n",
              "      <td>13.7</td>\n",
              "      <td>6</td>\n",
              "      <td>13.7</td>\n",
              "      <td>6</td>\n",
              "    </tr>\n",
              "    <tr>\n",
              "      <th>3</th>\n",
              "      <td>15.7</td>\n",
              "      <td>2</td>\n",
              "      <td>15.7</td>\n",
              "      <td>2</td>\n",
              "    </tr>\n",
              "    <tr>\n",
              "      <th>4</th>\n",
              "      <td>7.7</td>\n",
              "      <td>4</td>\n",
              "      <td>7.7</td>\n",
              "      <td>4</td>\n",
              "    </tr>\n",
              "    <tr>\n",
              "      <th>...</th>\n",
              "      <td>...</td>\n",
              "      <td>...</td>\n",
              "      <td>...</td>\n",
              "      <td>...</td>\n",
              "    </tr>\n",
              "    <tr>\n",
              "      <th>4995</th>\n",
              "      <td>9.9</td>\n",
              "      <td>6</td>\n",
              "      <td>9.9</td>\n",
              "      <td>6</td>\n",
              "    </tr>\n",
              "    <tr>\n",
              "      <th>4996</th>\n",
              "      <td>9.6</td>\n",
              "      <td>4</td>\n",
              "      <td>9.6</td>\n",
              "      <td>4</td>\n",
              "    </tr>\n",
              "    <tr>\n",
              "      <th>4997</th>\n",
              "      <td>14.1</td>\n",
              "      <td>6</td>\n",
              "      <td>14.1</td>\n",
              "      <td>6</td>\n",
              "    </tr>\n",
              "    <tr>\n",
              "      <th>4998</th>\n",
              "      <td>5.0</td>\n",
              "      <td>10</td>\n",
              "      <td>5.0</td>\n",
              "      <td>10</td>\n",
              "    </tr>\n",
              "    <tr>\n",
              "      <th>4999</th>\n",
              "      <td>13.7</td>\n",
              "      <td>4</td>\n",
              "      <td>13.7</td>\n",
              "      <td>4</td>\n",
              "    </tr>\n",
              "  </tbody>\n",
              "</table>\n",
              "<p>5000 rows × 4 columns</p>\n",
              "</div>\n",
              "      <button class=\"colab-df-convert\" onclick=\"convertToInteractive('df-c921ec41-da7e-4e65-b2ba-8bc1685ba929')\"\n",
              "              title=\"Convert this dataframe to an interactive table.\"\n",
              "              style=\"display:none;\">\n",
              "        \n",
              "  <svg xmlns=\"http://www.w3.org/2000/svg\" height=\"24px\"viewBox=\"0 0 24 24\"\n",
              "       width=\"24px\">\n",
              "    <path d=\"M0 0h24v24H0V0z\" fill=\"none\"/>\n",
              "    <path d=\"M18.56 5.44l.94 2.06.94-2.06 2.06-.94-2.06-.94-.94-2.06-.94 2.06-2.06.94zm-11 1L8.5 8.5l.94-2.06 2.06-.94-2.06-.94L8.5 2.5l-.94 2.06-2.06.94zm10 10l.94 2.06.94-2.06 2.06-.94-2.06-.94-.94-2.06-.94 2.06-2.06.94z\"/><path d=\"M17.41 7.96l-1.37-1.37c-.4-.4-.92-.59-1.43-.59-.52 0-1.04.2-1.43.59L10.3 9.45l-7.72 7.72c-.78.78-.78 2.05 0 2.83L4 21.41c.39.39.9.59 1.41.59.51 0 1.02-.2 1.41-.59l7.78-7.78 2.81-2.81c.8-.78.8-2.07 0-2.86zM5.41 20L4 18.59l7.72-7.72 1.47 1.35L5.41 20z\"/>\n",
              "  </svg>\n",
              "      </button>\n",
              "      \n",
              "  <style>\n",
              "    .colab-df-container {\n",
              "      display:flex;\n",
              "      flex-wrap:wrap;\n",
              "      gap: 12px;\n",
              "    }\n",
              "\n",
              "    .colab-df-convert {\n",
              "      background-color: #E8F0FE;\n",
              "      border: none;\n",
              "      border-radius: 50%;\n",
              "      cursor: pointer;\n",
              "      display: none;\n",
              "      fill: #1967D2;\n",
              "      height: 32px;\n",
              "      padding: 0 0 0 0;\n",
              "      width: 32px;\n",
              "    }\n",
              "\n",
              "    .colab-df-convert:hover {\n",
              "      background-color: #E2EBFA;\n",
              "      box-shadow: 0px 1px 2px rgba(60, 64, 67, 0.3), 0px 1px 3px 1px rgba(60, 64, 67, 0.15);\n",
              "      fill: #174EA6;\n",
              "    }\n",
              "\n",
              "    [theme=dark] .colab-df-convert {\n",
              "      background-color: #3B4455;\n",
              "      fill: #D2E3FC;\n",
              "    }\n",
              "\n",
              "    [theme=dark] .colab-df-convert:hover {\n",
              "      background-color: #434B5C;\n",
              "      box-shadow: 0px 1px 3px 1px rgba(0, 0, 0, 0.15);\n",
              "      filter: drop-shadow(0px 1px 2px rgba(0, 0, 0, 0.3));\n",
              "      fill: #FFFFFF;\n",
              "    }\n",
              "  </style>\n",
              "\n",
              "      <script>\n",
              "        const buttonEl =\n",
              "          document.querySelector('#df-c921ec41-da7e-4e65-b2ba-8bc1685ba929 button.colab-df-convert');\n",
              "        buttonEl.style.display =\n",
              "          google.colab.kernel.accessAllowed ? 'block' : 'none';\n",
              "\n",
              "        async function convertToInteractive(key) {\n",
              "          const element = document.querySelector('#df-c921ec41-da7e-4e65-b2ba-8bc1685ba929');\n",
              "          const dataTable =\n",
              "            await google.colab.kernel.invokeFunction('convertToInteractive',\n",
              "                                                     [key], {});\n",
              "          if (!dataTable) return;\n",
              "\n",
              "          const docLinkHtml = 'Like what you see? Visit the ' +\n",
              "            '<a target=\"_blank\" href=https://colab.research.google.com/notebooks/data_table.ipynb>data table notebook</a>'\n",
              "            + ' to learn more about interactive tables.';\n",
              "          element.innerHTML = '';\n",
              "          dataTable['output_type'] = 'display_data';\n",
              "          await google.colab.output.renderOutput(dataTable, element);\n",
              "          const docLink = document.createElement('div');\n",
              "          docLink.innerHTML = docLinkHtml;\n",
              "          element.appendChild(docLink);\n",
              "        }\n",
              "      </script>\n",
              "    </div>\n",
              "  </div>\n",
              "  "
            ],
            "text/plain": [
              "      total_intl_minutes  total_intl_calls  total_intl_minutes_2  \\\n",
              "0                   10.6                 3                  10.6   \n",
              "1                    9.5                 7                   9.5   \n",
              "2                   13.7                 6                  13.7   \n",
              "3                   15.7                 2                  15.7   \n",
              "4                    7.7                 4                   7.7   \n",
              "...                  ...               ...                   ...   \n",
              "4995                 9.9                 6                   9.9   \n",
              "4996                 9.6                 4                   9.6   \n",
              "4997                14.1                 6                  14.1   \n",
              "4998                 5.0                10                   5.0   \n",
              "4999                13.7                 4                  13.7   \n",
              "\n",
              "      total_intl_calls_2  \n",
              "0                      3  \n",
              "1                      7  \n",
              "2                      6  \n",
              "3                      2  \n",
              "4                      4  \n",
              "...                  ...  \n",
              "4995                   6  \n",
              "4996                   4  \n",
              "4997                   6  \n",
              "4998                  10  \n",
              "4999                   4  \n",
              "\n",
              "[5000 rows x 4 columns]"
            ]
          },
          "metadata": {},
          "execution_count": 11
        }
      ]
    },
    {
      "cell_type": "markdown",
      "metadata": {
        "id": "1g82qmkGasEx"
      },
      "source": [
        "The last two columns appear to be complete copies of the first two. We will confirm this so that we do not blindly drop them."
      ]
    },
    {
      "cell_type": "code",
      "metadata": {
        "id": "gZsoHsPbasE0",
        "colab": {
          "base_uri": "https://localhost:8080/"
        },
        "outputId": "12e23b47-64de-4089-e995-36a88b6badd4"
      },
      "source": [
        "# selecting the total number of records where the values of 'total_intl_minutes' are equal to the values of \n",
        "# 'total_intl_minutes_2', AND the values of 'total_intl_calls' are equal to the values of 'total_intl_calls_2'\n",
        "df[(df['total_intl_minutes'] == df['total_intl_minutes_2']) & (df['total_intl_calls'] == df['total_intl_calls_2'])].count()"
      ],
      "execution_count": 12,
      "outputs": [
        {
          "output_type": "execute_result",
          "data": {
            "text/plain": [
              "account_length                   5000\n",
              "area_code                        5000\n",
              "international_plan               5000\n",
              "total_intl_minutes               5000\n",
              "total_intl_calls                 5000\n",
              "voice_mail_plan                  5000\n",
              "number_vmail_messages            5000\n",
              "total_day_minutes                5000\n",
              "total_day_calls                  5000\n",
              "total_day_charge                 5000\n",
              "total_eve_minutes                5000\n",
              "total_eve_calls                  5000\n",
              "total_eve_charge                 5000\n",
              "total_night_minutes              5000\n",
              "total_night_calls                5000\n",
              "total_night_charge               5000\n",
              "total_intl_minutes_2             5000\n",
              "total_intl_calls_2               5000\n",
              "total_intl_charge                5000\n",
              "number_customer_service_calls    5000\n",
              "churn                            5000\n",
              "dtype: int64"
            ]
          },
          "metadata": {},
          "execution_count": 12
        }
      ]
    },
    {
      "cell_type": "markdown",
      "metadata": {
        "id": "rVFYq4WoasE7"
      },
      "source": [
        "We see that the columns are indeed duplicates so we can safely drop them."
      ]
    },
    {
      "cell_type": "code",
      "metadata": {
        "id": "AqsIQOJ7asE8",
        "colab": {
          "base_uri": "https://localhost:8080/"
        },
        "outputId": "7eb11e37-699d-4a3f-9f69-104c3c3eb686"
      },
      "source": [
        "df = df.drop(columns = ['total_intl_minutes_2', 'total_intl_calls_2'])\n",
        "df.shape"
      ],
      "execution_count": 13,
      "outputs": [
        {
          "output_type": "execute_result",
          "data": {
            "text/plain": [
              "(5000, 19)"
            ]
          },
          "metadata": {},
          "execution_count": 13
        }
      ]
    },
    {
      "cell_type": "markdown",
      "metadata": {
        "id": "xNmGe1f1asFW"
      },
      "source": [
        "Another anomaly noted is that where there are records of 'total_intl_minutes', 'total_int_calls', and 'total_intl_charge' when 'international_plan' is False."
      ]
    },
    {
      "cell_type": "code",
      "metadata": {
        "id": "RLfEw2Q0asFX",
        "colab": {
          "base_uri": "https://localhost:8080/",
          "height": 488
        },
        "outputId": "6e634d53-ffaa-4d84-bab8-38500834640f"
      },
      "source": [
        "df[(df['international_plan'] == False) & ((df['total_intl_minutes'] > 0) | (df['total_intl_calls'] > 0) |\n",
        "                                         df['total_intl_charge'] > 0)]"
      ],
      "execution_count": 14,
      "outputs": [
        {
          "output_type": "execute_result",
          "data": {
            "text/html": [
              "\n",
              "  <div id=\"df-e135d51a-3b00-4c5f-af46-d414244efe1a\">\n",
              "    <div class=\"colab-df-container\">\n",
              "      <div>\n",
              "<style scoped>\n",
              "    .dataframe tbody tr th:only-of-type {\n",
              "        vertical-align: middle;\n",
              "    }\n",
              "\n",
              "    .dataframe tbody tr th {\n",
              "        vertical-align: top;\n",
              "    }\n",
              "\n",
              "    .dataframe thead th {\n",
              "        text-align: right;\n",
              "    }\n",
              "</style>\n",
              "<table border=\"1\" class=\"dataframe\">\n",
              "  <thead>\n",
              "    <tr style=\"text-align: right;\">\n",
              "      <th></th>\n",
              "      <th>account_length</th>\n",
              "      <th>area_code</th>\n",
              "      <th>international_plan</th>\n",
              "      <th>total_intl_minutes</th>\n",
              "      <th>total_intl_calls</th>\n",
              "      <th>voice_mail_plan</th>\n",
              "      <th>number_vmail_messages</th>\n",
              "      <th>total_day_minutes</th>\n",
              "      <th>total_day_calls</th>\n",
              "      <th>total_day_charge</th>\n",
              "      <th>total_eve_minutes</th>\n",
              "      <th>total_eve_calls</th>\n",
              "      <th>total_eve_charge</th>\n",
              "      <th>total_night_minutes</th>\n",
              "      <th>total_night_calls</th>\n",
              "      <th>total_night_charge</th>\n",
              "      <th>total_intl_charge</th>\n",
              "      <th>number_customer_service_calls</th>\n",
              "      <th>churn</th>\n",
              "    </tr>\n",
              "  </thead>\n",
              "  <tbody>\n",
              "    <tr>\n",
              "      <th>0</th>\n",
              "      <td>101</td>\n",
              "      <td>510</td>\n",
              "      <td>False</td>\n",
              "      <td>10.6</td>\n",
              "      <td>3</td>\n",
              "      <td>False</td>\n",
              "      <td>0</td>\n",
              "      <td>70.9</td>\n",
              "      <td>123</td>\n",
              "      <td>12.05</td>\n",
              "      <td>211.9</td>\n",
              "      <td>73</td>\n",
              "      <td>18.01</td>\n",
              "      <td>236.0</td>\n",
              "      <td>73</td>\n",
              "      <td>10.62</td>\n",
              "      <td>2.86</td>\n",
              "      <td>3</td>\n",
              "      <td>False</td>\n",
              "    </tr>\n",
              "    <tr>\n",
              "      <th>1</th>\n",
              "      <td>137</td>\n",
              "      <td>510</td>\n",
              "      <td>False</td>\n",
              "      <td>9.5</td>\n",
              "      <td>7</td>\n",
              "      <td>False</td>\n",
              "      <td>0</td>\n",
              "      <td>223.6</td>\n",
              "      <td>86</td>\n",
              "      <td>38.01</td>\n",
              "      <td>244.8</td>\n",
              "      <td>139</td>\n",
              "      <td>20.81</td>\n",
              "      <td>94.2</td>\n",
              "      <td>81</td>\n",
              "      <td>4.24</td>\n",
              "      <td>2.57</td>\n",
              "      <td>0</td>\n",
              "      <td>False</td>\n",
              "    </tr>\n",
              "    <tr>\n",
              "      <th>2</th>\n",
              "      <td>103</td>\n",
              "      <td>408</td>\n",
              "      <td>False</td>\n",
              "      <td>13.7</td>\n",
              "      <td>6</td>\n",
              "      <td>True</td>\n",
              "      <td>29</td>\n",
              "      <td>294.7</td>\n",
              "      <td>95</td>\n",
              "      <td>50.10</td>\n",
              "      <td>237.3</td>\n",
              "      <td>105</td>\n",
              "      <td>20.17</td>\n",
              "      <td>300.3</td>\n",
              "      <td>127</td>\n",
              "      <td>13.51</td>\n",
              "      <td>3.70</td>\n",
              "      <td>1</td>\n",
              "      <td>False</td>\n",
              "    </tr>\n",
              "    <tr>\n",
              "      <th>3</th>\n",
              "      <td>99</td>\n",
              "      <td>415</td>\n",
              "      <td>False</td>\n",
              "      <td>15.7</td>\n",
              "      <td>2</td>\n",
              "      <td>False</td>\n",
              "      <td>0</td>\n",
              "      <td>216.8</td>\n",
              "      <td>123</td>\n",
              "      <td>36.86</td>\n",
              "      <td>126.4</td>\n",
              "      <td>88</td>\n",
              "      <td>10.74</td>\n",
              "      <td>220.6</td>\n",
              "      <td>82</td>\n",
              "      <td>9.93</td>\n",
              "      <td>4.24</td>\n",
              "      <td>1</td>\n",
              "      <td>False</td>\n",
              "    </tr>\n",
              "    <tr>\n",
              "      <th>4</th>\n",
              "      <td>108</td>\n",
              "      <td>415</td>\n",
              "      <td>False</td>\n",
              "      <td>7.7</td>\n",
              "      <td>4</td>\n",
              "      <td>False</td>\n",
              "      <td>0</td>\n",
              "      <td>197.4</td>\n",
              "      <td>78</td>\n",
              "      <td>33.56</td>\n",
              "      <td>124.0</td>\n",
              "      <td>101</td>\n",
              "      <td>10.54</td>\n",
              "      <td>204.5</td>\n",
              "      <td>107</td>\n",
              "      <td>9.20</td>\n",
              "      <td>2.08</td>\n",
              "      <td>2</td>\n",
              "      <td>False</td>\n",
              "    </tr>\n",
              "    <tr>\n",
              "      <th>...</th>\n",
              "      <td>...</td>\n",
              "      <td>...</td>\n",
              "      <td>...</td>\n",
              "      <td>...</td>\n",
              "      <td>...</td>\n",
              "      <td>...</td>\n",
              "      <td>...</td>\n",
              "      <td>...</td>\n",
              "      <td>...</td>\n",
              "      <td>...</td>\n",
              "      <td>...</td>\n",
              "      <td>...</td>\n",
              "      <td>...</td>\n",
              "      <td>...</td>\n",
              "      <td>...</td>\n",
              "      <td>...</td>\n",
              "      <td>...</td>\n",
              "      <td>...</td>\n",
              "      <td>...</td>\n",
              "    </tr>\n",
              "    <tr>\n",
              "      <th>4994</th>\n",
              "      <td>79</td>\n",
              "      <td>415</td>\n",
              "      <td>False</td>\n",
              "      <td>11.8</td>\n",
              "      <td>5</td>\n",
              "      <td>False</td>\n",
              "      <td>0</td>\n",
              "      <td>134.7</td>\n",
              "      <td>98</td>\n",
              "      <td>22.90</td>\n",
              "      <td>189.7</td>\n",
              "      <td>68</td>\n",
              "      <td>16.12</td>\n",
              "      <td>221.4</td>\n",
              "      <td>128</td>\n",
              "      <td>9.96</td>\n",
              "      <td>3.19</td>\n",
              "      <td>2</td>\n",
              "      <td>False</td>\n",
              "    </tr>\n",
              "    <tr>\n",
              "      <th>4995</th>\n",
              "      <td>192</td>\n",
              "      <td>415</td>\n",
              "      <td>False</td>\n",
              "      <td>9.9</td>\n",
              "      <td>6</td>\n",
              "      <td>True</td>\n",
              "      <td>36</td>\n",
              "      <td>156.2</td>\n",
              "      <td>77</td>\n",
              "      <td>26.55</td>\n",
              "      <td>215.5</td>\n",
              "      <td>126</td>\n",
              "      <td>18.32</td>\n",
              "      <td>279.1</td>\n",
              "      <td>83</td>\n",
              "      <td>12.56</td>\n",
              "      <td>2.67</td>\n",
              "      <td>2</td>\n",
              "      <td>False</td>\n",
              "    </tr>\n",
              "    <tr>\n",
              "      <th>4996</th>\n",
              "      <td>68</td>\n",
              "      <td>415</td>\n",
              "      <td>False</td>\n",
              "      <td>9.6</td>\n",
              "      <td>4</td>\n",
              "      <td>False</td>\n",
              "      <td>0</td>\n",
              "      <td>231.1</td>\n",
              "      <td>57</td>\n",
              "      <td>39.29</td>\n",
              "      <td>153.4</td>\n",
              "      <td>55</td>\n",
              "      <td>13.04</td>\n",
              "      <td>191.3</td>\n",
              "      <td>123</td>\n",
              "      <td>8.61</td>\n",
              "      <td>2.59</td>\n",
              "      <td>3</td>\n",
              "      <td>False</td>\n",
              "    </tr>\n",
              "    <tr>\n",
              "      <th>4997</th>\n",
              "      <td>28</td>\n",
              "      <td>510</td>\n",
              "      <td>False</td>\n",
              "      <td>14.1</td>\n",
              "      <td>6</td>\n",
              "      <td>False</td>\n",
              "      <td>0</td>\n",
              "      <td>180.8</td>\n",
              "      <td>109</td>\n",
              "      <td>30.74</td>\n",
              "      <td>288.8</td>\n",
              "      <td>58</td>\n",
              "      <td>24.55</td>\n",
              "      <td>191.9</td>\n",
              "      <td>91</td>\n",
              "      <td>8.64</td>\n",
              "      <td>3.81</td>\n",
              "      <td>2</td>\n",
              "      <td>False</td>\n",
              "    </tr>\n",
              "    <tr>\n",
              "      <th>4999</th>\n",
              "      <td>74</td>\n",
              "      <td>415</td>\n",
              "      <td>False</td>\n",
              "      <td>13.7</td>\n",
              "      <td>4</td>\n",
              "      <td>True</td>\n",
              "      <td>25</td>\n",
              "      <td>234.4</td>\n",
              "      <td>113</td>\n",
              "      <td>39.85</td>\n",
              "      <td>265.9</td>\n",
              "      <td>82</td>\n",
              "      <td>22.60</td>\n",
              "      <td>241.4</td>\n",
              "      <td>77</td>\n",
              "      <td>10.86</td>\n",
              "      <td>3.70</td>\n",
              "      <td>0</td>\n",
              "      <td>False</td>\n",
              "    </tr>\n",
              "  </tbody>\n",
              "</table>\n",
              "<p>4504 rows × 19 columns</p>\n",
              "</div>\n",
              "      <button class=\"colab-df-convert\" onclick=\"convertToInteractive('df-e135d51a-3b00-4c5f-af46-d414244efe1a')\"\n",
              "              title=\"Convert this dataframe to an interactive table.\"\n",
              "              style=\"display:none;\">\n",
              "        \n",
              "  <svg xmlns=\"http://www.w3.org/2000/svg\" height=\"24px\"viewBox=\"0 0 24 24\"\n",
              "       width=\"24px\">\n",
              "    <path d=\"M0 0h24v24H0V0z\" fill=\"none\"/>\n",
              "    <path d=\"M18.56 5.44l.94 2.06.94-2.06 2.06-.94-2.06-.94-.94-2.06-.94 2.06-2.06.94zm-11 1L8.5 8.5l.94-2.06 2.06-.94-2.06-.94L8.5 2.5l-.94 2.06-2.06.94zm10 10l.94 2.06.94-2.06 2.06-.94-2.06-.94-.94-2.06-.94 2.06-2.06.94z\"/><path d=\"M17.41 7.96l-1.37-1.37c-.4-.4-.92-.59-1.43-.59-.52 0-1.04.2-1.43.59L10.3 9.45l-7.72 7.72c-.78.78-.78 2.05 0 2.83L4 21.41c.39.39.9.59 1.41.59.51 0 1.02-.2 1.41-.59l7.78-7.78 2.81-2.81c.8-.78.8-2.07 0-2.86zM5.41 20L4 18.59l7.72-7.72 1.47 1.35L5.41 20z\"/>\n",
              "  </svg>\n",
              "      </button>\n",
              "      \n",
              "  <style>\n",
              "    .colab-df-container {\n",
              "      display:flex;\n",
              "      flex-wrap:wrap;\n",
              "      gap: 12px;\n",
              "    }\n",
              "\n",
              "    .colab-df-convert {\n",
              "      background-color: #E8F0FE;\n",
              "      border: none;\n",
              "      border-radius: 50%;\n",
              "      cursor: pointer;\n",
              "      display: none;\n",
              "      fill: #1967D2;\n",
              "      height: 32px;\n",
              "      padding: 0 0 0 0;\n",
              "      width: 32px;\n",
              "    }\n",
              "\n",
              "    .colab-df-convert:hover {\n",
              "      background-color: #E2EBFA;\n",
              "      box-shadow: 0px 1px 2px rgba(60, 64, 67, 0.3), 0px 1px 3px 1px rgba(60, 64, 67, 0.15);\n",
              "      fill: #174EA6;\n",
              "    }\n",
              "\n",
              "    [theme=dark] .colab-df-convert {\n",
              "      background-color: #3B4455;\n",
              "      fill: #D2E3FC;\n",
              "    }\n",
              "\n",
              "    [theme=dark] .colab-df-convert:hover {\n",
              "      background-color: #434B5C;\n",
              "      box-shadow: 0px 1px 3px 1px rgba(0, 0, 0, 0.15);\n",
              "      filter: drop-shadow(0px 1px 2px rgba(0, 0, 0, 0.3));\n",
              "      fill: #FFFFFF;\n",
              "    }\n",
              "  </style>\n",
              "\n",
              "      <script>\n",
              "        const buttonEl =\n",
              "          document.querySelector('#df-e135d51a-3b00-4c5f-af46-d414244efe1a button.colab-df-convert');\n",
              "        buttonEl.style.display =\n",
              "          google.colab.kernel.accessAllowed ? 'block' : 'none';\n",
              "\n",
              "        async function convertToInteractive(key) {\n",
              "          const element = document.querySelector('#df-e135d51a-3b00-4c5f-af46-d414244efe1a');\n",
              "          const dataTable =\n",
              "            await google.colab.kernel.invokeFunction('convertToInteractive',\n",
              "                                                     [key], {});\n",
              "          if (!dataTable) return;\n",
              "\n",
              "          const docLinkHtml = 'Like what you see? Visit the ' +\n",
              "            '<a target=\"_blank\" href=https://colab.research.google.com/notebooks/data_table.ipynb>data table notebook</a>'\n",
              "            + ' to learn more about interactive tables.';\n",
              "          element.innerHTML = '';\n",
              "          dataTable['output_type'] = 'display_data';\n",
              "          await google.colab.output.renderOutput(dataTable, element);\n",
              "          const docLink = document.createElement('div');\n",
              "          docLink.innerHTML = docLinkHtml;\n",
              "          element.appendChild(docLink);\n",
              "        }\n",
              "      </script>\n",
              "    </div>\n",
              "  </div>\n",
              "  "
            ],
            "text/plain": [
              "      account_length  area_code  international_plan  total_intl_minutes  \\\n",
              "0                101        510               False                10.6   \n",
              "1                137        510               False                 9.5   \n",
              "2                103        408               False                13.7   \n",
              "3                 99        415               False                15.7   \n",
              "4                108        415               False                 7.7   \n",
              "...              ...        ...                 ...                 ...   \n",
              "4994              79        415               False                11.8   \n",
              "4995             192        415               False                 9.9   \n",
              "4996              68        415               False                 9.6   \n",
              "4997              28        510               False                14.1   \n",
              "4999              74        415               False                13.7   \n",
              "\n",
              "      total_intl_calls  voice_mail_plan  number_vmail_messages  \\\n",
              "0                    3            False                      0   \n",
              "1                    7            False                      0   \n",
              "2                    6             True                     29   \n",
              "3                    2            False                      0   \n",
              "4                    4            False                      0   \n",
              "...                ...              ...                    ...   \n",
              "4994                 5            False                      0   \n",
              "4995                 6             True                     36   \n",
              "4996                 4            False                      0   \n",
              "4997                 6            False                      0   \n",
              "4999                 4             True                     25   \n",
              "\n",
              "      total_day_minutes  total_day_calls  total_day_charge  total_eve_minutes  \\\n",
              "0                  70.9              123             12.05              211.9   \n",
              "1                 223.6               86             38.01              244.8   \n",
              "2                 294.7               95             50.10              237.3   \n",
              "3                 216.8              123             36.86              126.4   \n",
              "4                 197.4               78             33.56              124.0   \n",
              "...                 ...              ...               ...                ...   \n",
              "4994              134.7               98             22.90              189.7   \n",
              "4995              156.2               77             26.55              215.5   \n",
              "4996              231.1               57             39.29              153.4   \n",
              "4997              180.8              109             30.74              288.8   \n",
              "4999              234.4              113             39.85              265.9   \n",
              "\n",
              "      total_eve_calls  total_eve_charge  total_night_minutes  \\\n",
              "0                  73             18.01                236.0   \n",
              "1                 139             20.81                 94.2   \n",
              "2                 105             20.17                300.3   \n",
              "3                  88             10.74                220.6   \n",
              "4                 101             10.54                204.5   \n",
              "...               ...               ...                  ...   \n",
              "4994               68             16.12                221.4   \n",
              "4995              126             18.32                279.1   \n",
              "4996               55             13.04                191.3   \n",
              "4997               58             24.55                191.9   \n",
              "4999               82             22.60                241.4   \n",
              "\n",
              "      total_night_calls  total_night_charge  total_intl_charge  \\\n",
              "0                    73               10.62               2.86   \n",
              "1                    81                4.24               2.57   \n",
              "2                   127               13.51               3.70   \n",
              "3                    82                9.93               4.24   \n",
              "4                   107                9.20               2.08   \n",
              "...                 ...                 ...                ...   \n",
              "4994                128                9.96               3.19   \n",
              "4995                 83               12.56               2.67   \n",
              "4996                123                8.61               2.59   \n",
              "4997                 91                8.64               3.81   \n",
              "4999                 77               10.86               3.70   \n",
              "\n",
              "      number_customer_service_calls  churn  \n",
              "0                                 3  False  \n",
              "1                                 0  False  \n",
              "2                                 1  False  \n",
              "3                                 1  False  \n",
              "4                                 2  False  \n",
              "...                             ...    ...  \n",
              "4994                              2  False  \n",
              "4995                              2  False  \n",
              "4996                              3  False  \n",
              "4997                              2  False  \n",
              "4999                              0  False  \n",
              "\n",
              "[4504 rows x 19 columns]"
            ]
          },
          "metadata": {},
          "execution_count": 14
        }
      ]
    },
    {
      "cell_type": "code",
      "metadata": {
        "id": "FyVdZxRUasFc",
        "colab": {
          "base_uri": "https://localhost:8080/"
        },
        "outputId": "21ab5291-4362-4060-8abb-5319e117d571"
      },
      "source": [
        "df.international_plan.value_counts()"
      ],
      "execution_count": 15,
      "outputs": [
        {
          "output_type": "execute_result",
          "data": {
            "text/plain": [
              "False    4527\n",
              "True      473\n",
              "Name: international_plan, dtype: int64"
            ]
          },
          "metadata": {},
          "execution_count": 15
        }
      ]
    },
    {
      "cell_type": "markdown",
      "metadata": {
        "id": "s6KzIz33asFf"
      },
      "source": [
        "Much as we'd like to remove these invalid variables, doing so would result in a huge loss of data. We will therefore leave them as is, but flag them for future work."
      ]
    },
    {
      "cell_type": "markdown",
      "metadata": {
        "id": "jO0WlCpaasFi"
      },
      "source": [
        "We will check to confirm that there are no 'number_vmail_messages' when 'voice_mail_plan' is set to False."
      ]
    },
    {
      "cell_type": "code",
      "metadata": {
        "id": "0Vqb2AsjasFi",
        "colab": {
          "base_uri": "https://localhost:8080/",
          "height": 113
        },
        "outputId": "e478839d-9174-401a-c488-1d3a7bb4b564"
      },
      "source": [
        "df[(df['voice_mail_plan'] == False) & (df['number_vmail_messages'] > 0)]"
      ],
      "execution_count": 16,
      "outputs": [
        {
          "output_type": "execute_result",
          "data": {
            "text/html": [
              "\n",
              "  <div id=\"df-514ca01a-e0a1-4476-a297-72aeb1ba855a\">\n",
              "    <div class=\"colab-df-container\">\n",
              "      <div>\n",
              "<style scoped>\n",
              "    .dataframe tbody tr th:only-of-type {\n",
              "        vertical-align: middle;\n",
              "    }\n",
              "\n",
              "    .dataframe tbody tr th {\n",
              "        vertical-align: top;\n",
              "    }\n",
              "\n",
              "    .dataframe thead th {\n",
              "        text-align: right;\n",
              "    }\n",
              "</style>\n",
              "<table border=\"1\" class=\"dataframe\">\n",
              "  <thead>\n",
              "    <tr style=\"text-align: right;\">\n",
              "      <th></th>\n",
              "      <th>account_length</th>\n",
              "      <th>area_code</th>\n",
              "      <th>international_plan</th>\n",
              "      <th>total_intl_minutes</th>\n",
              "      <th>total_intl_calls</th>\n",
              "      <th>voice_mail_plan</th>\n",
              "      <th>number_vmail_messages</th>\n",
              "      <th>total_day_minutes</th>\n",
              "      <th>total_day_calls</th>\n",
              "      <th>total_day_charge</th>\n",
              "      <th>total_eve_minutes</th>\n",
              "      <th>total_eve_calls</th>\n",
              "      <th>total_eve_charge</th>\n",
              "      <th>total_night_minutes</th>\n",
              "      <th>total_night_calls</th>\n",
              "      <th>total_night_charge</th>\n",
              "      <th>total_intl_charge</th>\n",
              "      <th>number_customer_service_calls</th>\n",
              "      <th>churn</th>\n",
              "    </tr>\n",
              "  </thead>\n",
              "  <tbody>\n",
              "  </tbody>\n",
              "</table>\n",
              "</div>\n",
              "      <button class=\"colab-df-convert\" onclick=\"convertToInteractive('df-514ca01a-e0a1-4476-a297-72aeb1ba855a')\"\n",
              "              title=\"Convert this dataframe to an interactive table.\"\n",
              "              style=\"display:none;\">\n",
              "        \n",
              "  <svg xmlns=\"http://www.w3.org/2000/svg\" height=\"24px\"viewBox=\"0 0 24 24\"\n",
              "       width=\"24px\">\n",
              "    <path d=\"M0 0h24v24H0V0z\" fill=\"none\"/>\n",
              "    <path d=\"M18.56 5.44l.94 2.06.94-2.06 2.06-.94-2.06-.94-.94-2.06-.94 2.06-2.06.94zm-11 1L8.5 8.5l.94-2.06 2.06-.94-2.06-.94L8.5 2.5l-.94 2.06-2.06.94zm10 10l.94 2.06.94-2.06 2.06-.94-2.06-.94-.94-2.06-.94 2.06-2.06.94z\"/><path d=\"M17.41 7.96l-1.37-1.37c-.4-.4-.92-.59-1.43-.59-.52 0-1.04.2-1.43.59L10.3 9.45l-7.72 7.72c-.78.78-.78 2.05 0 2.83L4 21.41c.39.39.9.59 1.41.59.51 0 1.02-.2 1.41-.59l7.78-7.78 2.81-2.81c.8-.78.8-2.07 0-2.86zM5.41 20L4 18.59l7.72-7.72 1.47 1.35L5.41 20z\"/>\n",
              "  </svg>\n",
              "      </button>\n",
              "      \n",
              "  <style>\n",
              "    .colab-df-container {\n",
              "      display:flex;\n",
              "      flex-wrap:wrap;\n",
              "      gap: 12px;\n",
              "    }\n",
              "\n",
              "    .colab-df-convert {\n",
              "      background-color: #E8F0FE;\n",
              "      border: none;\n",
              "      border-radius: 50%;\n",
              "      cursor: pointer;\n",
              "      display: none;\n",
              "      fill: #1967D2;\n",
              "      height: 32px;\n",
              "      padding: 0 0 0 0;\n",
              "      width: 32px;\n",
              "    }\n",
              "\n",
              "    .colab-df-convert:hover {\n",
              "      background-color: #E2EBFA;\n",
              "      box-shadow: 0px 1px 2px rgba(60, 64, 67, 0.3), 0px 1px 3px 1px rgba(60, 64, 67, 0.15);\n",
              "      fill: #174EA6;\n",
              "    }\n",
              "\n",
              "    [theme=dark] .colab-df-convert {\n",
              "      background-color: #3B4455;\n",
              "      fill: #D2E3FC;\n",
              "    }\n",
              "\n",
              "    [theme=dark] .colab-df-convert:hover {\n",
              "      background-color: #434B5C;\n",
              "      box-shadow: 0px 1px 3px 1px rgba(0, 0, 0, 0.15);\n",
              "      filter: drop-shadow(0px 1px 2px rgba(0, 0, 0, 0.3));\n",
              "      fill: #FFFFFF;\n",
              "    }\n",
              "  </style>\n",
              "\n",
              "      <script>\n",
              "        const buttonEl =\n",
              "          document.querySelector('#df-514ca01a-e0a1-4476-a297-72aeb1ba855a button.colab-df-convert');\n",
              "        buttonEl.style.display =\n",
              "          google.colab.kernel.accessAllowed ? 'block' : 'none';\n",
              "\n",
              "        async function convertToInteractive(key) {\n",
              "          const element = document.querySelector('#df-514ca01a-e0a1-4476-a297-72aeb1ba855a');\n",
              "          const dataTable =\n",
              "            await google.colab.kernel.invokeFunction('convertToInteractive',\n",
              "                                                     [key], {});\n",
              "          if (!dataTable) return;\n",
              "\n",
              "          const docLinkHtml = 'Like what you see? Visit the ' +\n",
              "            '<a target=\"_blank\" href=https://colab.research.google.com/notebooks/data_table.ipynb>data table notebook</a>'\n",
              "            + ' to learn more about interactive tables.';\n",
              "          element.innerHTML = '';\n",
              "          dataTable['output_type'] = 'display_data';\n",
              "          await google.colab.output.renderOutput(dataTable, element);\n",
              "          const docLink = document.createElement('div');\n",
              "          docLink.innerHTML = docLinkHtml;\n",
              "          element.appendChild(docLink);\n",
              "        }\n",
              "      </script>\n",
              "    </div>\n",
              "  </div>\n",
              "  "
            ],
            "text/plain": [
              "Empty DataFrame\n",
              "Columns: [account_length, area_code, international_plan, total_intl_minutes, total_intl_calls, voice_mail_plan, number_vmail_messages, total_day_minutes, total_day_calls, total_day_charge, total_eve_minutes, total_eve_calls, total_eve_charge, total_night_minutes, total_night_calls, total_night_charge, total_intl_charge, number_customer_service_calls, churn]\n",
              "Index: []"
            ]
          },
          "metadata": {},
          "execution_count": 16
        }
      ]
    },
    {
      "cell_type": "markdown",
      "metadata": {
        "id": "neiYQ2LgasFm"
      },
      "source": [
        "After confirming this, we can now drop the 'voice_mail_plan' column."
      ]
    },
    {
      "cell_type": "code",
      "metadata": {
        "id": "rbzi1m9EasFm"
      },
      "source": [
        "df.drop(columns = ['voice_mail_plan'], inplace = True)"
      ],
      "execution_count": 17,
      "outputs": []
    },
    {
      "cell_type": "code",
      "metadata": {
        "id": "4Fwke7e9asFu",
        "colab": {
          "base_uri": "https://localhost:8080/"
        },
        "outputId": "cccf607b-ffab-4618-d339-3b82f7fae8cd"
      },
      "source": [
        "df.dtypes"
      ],
      "execution_count": null,
      "outputs": [
        {
          "output_type": "execute_result",
          "data": {
            "text/plain": [
              "account_length                     int64\n",
              "area_code                          int64\n",
              "international_plan                  bool\n",
              "total_intl_minutes               float64\n",
              "total_intl_calls                   int64\n",
              "number_vmail_messages              int64\n",
              "total_day_minutes                float64\n",
              "total_day_calls                    int64\n",
              "total_day_charge                 float64\n",
              "total_eve_minutes                float64\n",
              "total_eve_calls                    int64\n",
              "total_eve_charge                 float64\n",
              "total_night_minutes              float64\n",
              "total_night_calls                  int64\n",
              "total_night_charge               float64\n",
              "total_intl_charge                float64\n",
              "number_customer_service_calls      int64\n",
              "churn                               bool\n",
              "dtype: object"
            ]
          },
          "metadata": {},
          "execution_count": 17
        }
      ]
    },
    {
      "cell_type": "code",
      "metadata": {
        "id": "aCas6x9RasF1",
        "colab": {
          "base_uri": "https://localhost:8080/",
          "height": 484
        },
        "outputId": "a4d1e219-e935-43ea-cca2-5f112cabb435"
      },
      "source": [
        "# looking for outliers\n",
        "num_cols = df.columns.to_list()\n",
        "num_cols.remove('international_plan')\n",
        "num_cols.remove('churn')\n",
        "\n",
        "plt.figure(figsize = (14, 6))\n",
        "df.boxplot(num_cols)\n",
        "plt.xticks(rotation = 45)\n",
        "plt.show()"
      ],
      "execution_count": 18,
      "outputs": [
        {
          "output_type": "display_data",
          "data": {
            "image/png": "[encoded data removed]",
            "text/plain": [
              "<Figure size 1008x432 with 1 Axes>"
            ]
          },
          "metadata": {
            "needs_background": "light"
          }
        }
      ]
    },
    {
      "cell_type": "markdown",
      "metadata": {
        "id": "iSHmG33KasF4"
      },
      "source": [
        "We see that all the remaining variables have outliers, which we will not drop."
      ]
    },
    {
      "cell_type": "markdown",
      "metadata": {
        "id": "mELIvxYqasF8"
      },
      "source": [
        "We now save our clean dataset to a new CSV file."
      ]
    },
    {
      "cell_type": "code",
      "metadata": {
        "id": "t6cDaIdSasF9",
        "colab": {
          "base_uri": "https://localhost:8080/",
          "height": 270
        },
        "outputId": "7c69b1b8-9347-4578-8748-d7072aca7d6c"
      },
      "source": [
        "# save the data set to a clean CSV file\n",
        "\n",
        "df.to_csv('call_center_clean.csv', index = False)\n",
        "\n",
        "df = pd.read_csv('call_center_clean.csv')\n",
        "df.head()"
      ],
      "execution_count": 19,
      "outputs": [
        {
          "output_type": "execute_result",
          "data": {
            "text/html": [
              "\n",
              "  <div id=\"df-348f7758-e5a1-4a50-8aa6-ef1954dc62b0\">\n",
              "    <div class=\"colab-df-container\">\n",
              "      <div>\n",
              "<style scoped>\n",
              "    .dataframe tbody tr th:only-of-type {\n",
              "        vertical-align: middle;\n",
              "    }\n",
              "\n",
              "    .dataframe tbody tr th {\n",
              "        vertical-align: top;\n",
              "    }\n",
              "\n",
              "    .dataframe thead th {\n",
              "        text-align: right;\n",
              "    }\n",
              "</style>\n",
              "<table border=\"1\" class=\"dataframe\">\n",
              "  <thead>\n",
              "    <tr style=\"text-align: right;\">\n",
              "      <th></th>\n",
              "      <th>account_length</th>\n",
              "      <th>area_code</th>\n",
              "      <th>international_plan</th>\n",
              "      <th>total_intl_minutes</th>\n",
              "      <th>total_intl_calls</th>\n",
              "      <th>number_vmail_messages</th>\n",
              "      <th>total_day_minutes</th>\n",
              "      <th>total_day_calls</th>\n",
              "      <th>total_day_charge</th>\n",
              "      <th>total_eve_minutes</th>\n",
              "      <th>total_eve_calls</th>\n",
              "      <th>total_eve_charge</th>\n",
              "      <th>total_night_minutes</th>\n",
              "      <th>total_night_calls</th>\n",
              "      <th>total_night_charge</th>\n",
              "      <th>total_intl_charge</th>\n",
              "      <th>number_customer_service_calls</th>\n",
              "      <th>churn</th>\n",
              "    </tr>\n",
              "  </thead>\n",
              "  <tbody>\n",
              "    <tr>\n",
              "      <th>0</th>\n",
              "      <td>101</td>\n",
              "      <td>510</td>\n",
              "      <td>False</td>\n",
              "      <td>10.6</td>\n",
              "      <td>3</td>\n",
              "      <td>0</td>\n",
              "      <td>70.9</td>\n",
              "      <td>123</td>\n",
              "      <td>12.05</td>\n",
              "      <td>211.9</td>\n",
              "      <td>73</td>\n",
              "      <td>18.01</td>\n",
              "      <td>236.0</td>\n",
              "      <td>73</td>\n",
              "      <td>10.62</td>\n",
              "      <td>2.86</td>\n",
              "      <td>3</td>\n",
              "      <td>False</td>\n",
              "    </tr>\n",
              "    <tr>\n",
              "      <th>1</th>\n",
              "      <td>137</td>\n",
              "      <td>510</td>\n",
              "      <td>False</td>\n",
              "      <td>9.5</td>\n",
              "      <td>7</td>\n",
              "      <td>0</td>\n",
              "      <td>223.6</td>\n",
              "      <td>86</td>\n",
              "      <td>38.01</td>\n",
              "      <td>244.8</td>\n",
              "      <td>139</td>\n",
              "      <td>20.81</td>\n",
              "      <td>94.2</td>\n",
              "      <td>81</td>\n",
              "      <td>4.24</td>\n",
              "      <td>2.57</td>\n",
              "      <td>0</td>\n",
              "      <td>False</td>\n",
              "    </tr>\n",
              "    <tr>\n",
              "      <th>2</th>\n",
              "      <td>103</td>\n",
              "      <td>408</td>\n",
              "      <td>False</td>\n",
              "      <td>13.7</td>\n",
              "      <td>6</td>\n",
              "      <td>29</td>\n",
              "      <td>294.7</td>\n",
              "      <td>95</td>\n",
              "      <td>50.10</td>\n",
              "      <td>237.3</td>\n",
              "      <td>105</td>\n",
              "      <td>20.17</td>\n",
              "      <td>300.3</td>\n",
              "      <td>127</td>\n",
              "      <td>13.51</td>\n",
              "      <td>3.70</td>\n",
              "      <td>1</td>\n",
              "      <td>False</td>\n",
              "    </tr>\n",
              "    <tr>\n",
              "      <th>3</th>\n",
              "      <td>99</td>\n",
              "      <td>415</td>\n",
              "      <td>False</td>\n",
              "      <td>15.7</td>\n",
              "      <td>2</td>\n",
              "      <td>0</td>\n",
              "      <td>216.8</td>\n",
              "      <td>123</td>\n",
              "      <td>36.86</td>\n",
              "      <td>126.4</td>\n",
              "      <td>88</td>\n",
              "      <td>10.74</td>\n",
              "      <td>220.6</td>\n",
              "      <td>82</td>\n",
              "      <td>9.93</td>\n",
              "      <td>4.24</td>\n",
              "      <td>1</td>\n",
              "      <td>False</td>\n",
              "    </tr>\n",
              "    <tr>\n",
              "      <th>4</th>\n",
              "      <td>108</td>\n",
              "      <td>415</td>\n",
              "      <td>False</td>\n",
              "      <td>7.7</td>\n",
              "      <td>4</td>\n",
              "      <td>0</td>\n",
              "      <td>197.4</td>\n",
              "      <td>78</td>\n",
              "      <td>33.56</td>\n",
              "      <td>124.0</td>\n",
              "      <td>101</td>\n",
              "      <td>10.54</td>\n",
              "      <td>204.5</td>\n",
              "      <td>107</td>\n",
              "      <td>9.20</td>\n",
              "      <td>2.08</td>\n",
              "      <td>2</td>\n",
              "      <td>False</td>\n",
              "    </tr>\n",
              "  </tbody>\n",
              "</table>\n",
              "</div>\n",
              "      <button class=\"colab-df-convert\" onclick=\"convertToInteractive('df-348f7758-e5a1-4a50-8aa6-ef1954dc62b0')\"\n",
              "              title=\"Convert this dataframe to an interactive table.\"\n",
              "              style=\"display:none;\">\n",
              "        \n",
              "  <svg xmlns=\"http://www.w3.org/2000/svg\" height=\"24px\"viewBox=\"0 0 24 24\"\n",
              "       width=\"24px\">\n",
              "    <path d=\"M0 0h24v24H0V0z\" fill=\"none\"/>\n",
              "    <path d=\"M18.56 5.44l.94 2.06.94-2.06 2.06-.94-2.06-.94-.94-2.06-.94 2.06-2.06.94zm-11 1L8.5 8.5l.94-2.06 2.06-.94-2.06-.94L8.5 2.5l-.94 2.06-2.06.94zm10 10l.94 2.06.94-2.06 2.06-.94-2.06-.94-.94-2.06-.94 2.06-2.06.94z\"/><path d=\"M17.41 7.96l-1.37-1.37c-.4-.4-.92-.59-1.43-.59-.52 0-1.04.2-1.43.59L10.3 9.45l-7.72 7.72c-.78.78-.78 2.05 0 2.83L4 21.41c.39.39.9.59 1.41.59.51 0 1.02-.2 1.41-.59l7.78-7.78 2.81-2.81c.8-.78.8-2.07 0-2.86zM5.41 20L4 18.59l7.72-7.72 1.47 1.35L5.41 20z\"/>\n",
              "  </svg>\n",
              "      </button>\n",
              "      \n",
              "  <style>\n",
              "    .colab-df-container {\n",
              "      display:flex;\n",
              "      flex-wrap:wrap;\n",
              "      gap: 12px;\n",
              "    }\n",
              "\n",
              "    .colab-df-convert {\n",
              "      background-color: #E8F0FE;\n",
              "      border: none;\n",
              "      border-radius: 50%;\n",
              "      cursor: pointer;\n",
              "      display: none;\n",
              "      fill: #1967D2;\n",
              "      height: 32px;\n",
              "      padding: 0 0 0 0;\n",
              "      width: 32px;\n",
              "    }\n",
              "\n",
              "    .colab-df-convert:hover {\n",
              "      background-color: #E2EBFA;\n",
              "      box-shadow: 0px 1px 2px rgba(60, 64, 67, 0.3), 0px 1px 3px 1px rgba(60, 64, 67, 0.15);\n",
              "      fill: #174EA6;\n",
              "    }\n",
              "\n",
              "    [theme=dark] .colab-df-convert {\n",
              "      background-color: #3B4455;\n",
              "      fill: #D2E3FC;\n",
              "    }\n",
              "\n",
              "    [theme=dark] .colab-df-convert:hover {\n",
              "      background-color: #434B5C;\n",
              "      box-shadow: 0px 1px 3px 1px rgba(0, 0, 0, 0.15);\n",
              "      filter: drop-shadow(0px 1px 2px rgba(0, 0, 0, 0.3));\n",
              "      fill: #FFFFFF;\n",
              "    }\n",
              "  </style>\n",
              "\n",
              "      <script>\n",
              "        const buttonEl =\n",
              "          document.querySelector('#df-348f7758-e5a1-4a50-8aa6-ef1954dc62b0 button.colab-df-convert');\n",
              "        buttonEl.style.display =\n",
              "          google.colab.kernel.accessAllowed ? 'block' : 'none';\n",
              "\n",
              "        async function convertToInteractive(key) {\n",
              "          const element = document.querySelector('#df-348f7758-e5a1-4a50-8aa6-ef1954dc62b0');\n",
              "          const dataTable =\n",
              "            await google.colab.kernel.invokeFunction('convertToInteractive',\n",
              "                                                     [key], {});\n",
              "          if (!dataTable) return;\n",
              "\n",
              "          const docLinkHtml = 'Like what you see? Visit the ' +\n",
              "            '<a target=\"_blank\" href=https://colab.research.google.com/notebooks/data_table.ipynb>data table notebook</a>'\n",
              "            + ' to learn more about interactive tables.';\n",
              "          element.innerHTML = '';\n",
              "          dataTable['output_type'] = 'display_data';\n",
              "          await google.colab.output.renderOutput(dataTable, element);\n",
              "          const docLink = document.createElement('div');\n",
              "          docLink.innerHTML = docLinkHtml;\n",
              "          element.appendChild(docLink);\n",
              "        }\n",
              "      </script>\n",
              "    </div>\n",
              "  </div>\n",
              "  "
            ],
            "text/plain": [
              "   account_length  area_code  international_plan  total_intl_minutes  \\\n",
              "0             101        510               False                10.6   \n",
              "1             137        510               False                 9.5   \n",
              "2             103        408               False                13.7   \n",
              "3              99        415               False                15.7   \n",
              "4             108        415               False                 7.7   \n",
              "\n",
              "   total_intl_calls  number_vmail_messages  total_day_minutes  \\\n",
              "0                 3                      0               70.9   \n",
              "1                 7                      0              223.6   \n",
              "2                 6                     29              294.7   \n",
              "3                 2                      0              216.8   \n",
              "4                 4                      0              197.4   \n",
              "\n",
              "   total_day_calls  total_day_charge  total_eve_minutes  total_eve_calls  \\\n",
              "0              123             12.05              211.9               73   \n",
              "1               86             38.01              244.8              139   \n",
              "2               95             50.10              237.3              105   \n",
              "3              123             36.86              126.4               88   \n",
              "4               78             33.56              124.0              101   \n",
              "\n",
              "   total_eve_charge  total_night_minutes  total_night_calls  \\\n",
              "0             18.01                236.0                 73   \n",
              "1             20.81                 94.2                 81   \n",
              "2             20.17                300.3                127   \n",
              "3             10.74                220.6                 82   \n",
              "4             10.54                204.5                107   \n",
              "\n",
              "   total_night_charge  total_intl_charge  number_customer_service_calls  churn  \n",
              "0               10.62               2.86                              3  False  \n",
              "1                4.24               2.57                              0  False  \n",
              "2               13.51               3.70                              1  False  \n",
              "3                9.93               4.24                              1  False  \n",
              "4                9.20               2.08                              2  False  "
            ]
          },
          "metadata": {},
          "execution_count": 19
        }
      ]
    },
    {
      "cell_type": "markdown",
      "metadata": {
        "id": "eU3KA88JasGD"
      },
      "source": [
        "## <font color='#2F4F4F'>3. Data Analysis</font>"
      ]
    },
    {
      "cell_type": "markdown",
      "metadata": {
        "id": "8AC0Ib2lasGE"
      },
      "source": [
        "### 3.1 Univariate Analysis"
      ]
    },
    {
      "cell_type": "code",
      "metadata": {
        "id": "mF2m8qlfasGE",
        "colab": {
          "base_uri": "https://localhost:8080/",
          "height": 364
        },
        "outputId": "ddcf63f1-684e-404f-c15e-c8704991e891"
      },
      "source": [
        "# get the summary statistics\n",
        "df.describe()"
      ],
      "execution_count": 20,
      "outputs": [
        {
          "output_type": "execute_result",
          "data": {
            "text/html": [
              "\n",
              "  <div id=\"df-85f7ec27-f15d-4931-9168-e06751122de3\">\n",
              "    <div class=\"colab-df-container\">\n",
              "      <div>\n",
              "<style scoped>\n",
              "    .dataframe tbody tr th:only-of-type {\n",
              "        vertical-align: middle;\n",
              "    }\n",
              "\n",
              "    .dataframe tbody tr th {\n",
              "        vertical-align: top;\n",
              "    }\n",
              "\n",
              "    .dataframe thead th {\n",
              "        text-align: right;\n",
              "    }\n",
              "</style>\n",
              "<table border=\"1\" class=\"dataframe\">\n",
              "  <thead>\n",
              "    <tr style=\"text-align: right;\">\n",
              "      <th></th>\n",
              "      <th>account_length</th>\n",
              "      <th>area_code</th>\n",
              "      <th>total_intl_minutes</th>\n",
              "      <th>total_intl_calls</th>\n",
              "      <th>number_vmail_messages</th>\n",
              "      <th>total_day_minutes</th>\n",
              "      <th>total_day_calls</th>\n",
              "      <th>total_day_charge</th>\n",
              "      <th>total_eve_minutes</th>\n",
              "      <th>total_eve_calls</th>\n",
              "      <th>total_eve_charge</th>\n",
              "      <th>total_night_minutes</th>\n",
              "      <th>total_night_calls</th>\n",
              "      <th>total_night_charge</th>\n",
              "      <th>total_intl_charge</th>\n",
              "      <th>number_customer_service_calls</th>\n",
              "    </tr>\n",
              "  </thead>\n",
              "  <tbody>\n",
              "    <tr>\n",
              "      <th>count</th>\n",
              "      <td>5000.00000</td>\n",
              "      <td>5000.000000</td>\n",
              "      <td>5000.000000</td>\n",
              "      <td>5000.000000</td>\n",
              "      <td>5000.000000</td>\n",
              "      <td>5000.000000</td>\n",
              "      <td>5000.000000</td>\n",
              "      <td>5000.000000</td>\n",
              "      <td>5000.000000</td>\n",
              "      <td>5000.000000</td>\n",
              "      <td>5000.000000</td>\n",
              "      <td>5000.000000</td>\n",
              "      <td>5000.000000</td>\n",
              "      <td>5000.000000</td>\n",
              "      <td>5000.000000</td>\n",
              "      <td>5000.000000</td>\n",
              "    </tr>\n",
              "    <tr>\n",
              "      <th>mean</th>\n",
              "      <td>100.25860</td>\n",
              "      <td>436.911400</td>\n",
              "      <td>10.261780</td>\n",
              "      <td>4.435200</td>\n",
              "      <td>7.755200</td>\n",
              "      <td>180.288900</td>\n",
              "      <td>100.029400</td>\n",
              "      <td>30.649668</td>\n",
              "      <td>200.636560</td>\n",
              "      <td>100.191000</td>\n",
              "      <td>17.054322</td>\n",
              "      <td>200.391620</td>\n",
              "      <td>99.919200</td>\n",
              "      <td>9.017732</td>\n",
              "      <td>2.771196</td>\n",
              "      <td>1.570400</td>\n",
              "    </tr>\n",
              "    <tr>\n",
              "      <th>std</th>\n",
              "      <td>39.69456</td>\n",
              "      <td>42.209182</td>\n",
              "      <td>2.761396</td>\n",
              "      <td>2.456788</td>\n",
              "      <td>13.546393</td>\n",
              "      <td>53.894699</td>\n",
              "      <td>19.831197</td>\n",
              "      <td>9.162069</td>\n",
              "      <td>50.551309</td>\n",
              "      <td>19.826496</td>\n",
              "      <td>4.296843</td>\n",
              "      <td>50.527789</td>\n",
              "      <td>19.958686</td>\n",
              "      <td>2.273763</td>\n",
              "      <td>0.745514</td>\n",
              "      <td>1.306363</td>\n",
              "    </tr>\n",
              "    <tr>\n",
              "      <th>min</th>\n",
              "      <td>1.00000</td>\n",
              "      <td>408.000000</td>\n",
              "      <td>0.000000</td>\n",
              "      <td>0.000000</td>\n",
              "      <td>0.000000</td>\n",
              "      <td>0.000000</td>\n",
              "      <td>0.000000</td>\n",
              "      <td>0.000000</td>\n",
              "      <td>0.000000</td>\n",
              "      <td>0.000000</td>\n",
              "      <td>0.000000</td>\n",
              "      <td>0.000000</td>\n",
              "      <td>0.000000</td>\n",
              "      <td>0.000000</td>\n",
              "      <td>0.000000</td>\n",
              "      <td>0.000000</td>\n",
              "    </tr>\n",
              "    <tr>\n",
              "      <th>25%</th>\n",
              "      <td>73.00000</td>\n",
              "      <td>408.000000</td>\n",
              "      <td>8.500000</td>\n",
              "      <td>3.000000</td>\n",
              "      <td>0.000000</td>\n",
              "      <td>143.700000</td>\n",
              "      <td>87.000000</td>\n",
              "      <td>24.430000</td>\n",
              "      <td>166.375000</td>\n",
              "      <td>87.000000</td>\n",
              "      <td>14.140000</td>\n",
              "      <td>166.900000</td>\n",
              "      <td>87.000000</td>\n",
              "      <td>7.510000</td>\n",
              "      <td>2.300000</td>\n",
              "      <td>1.000000</td>\n",
              "    </tr>\n",
              "    <tr>\n",
              "      <th>50%</th>\n",
              "      <td>100.00000</td>\n",
              "      <td>415.000000</td>\n",
              "      <td>10.300000</td>\n",
              "      <td>4.000000</td>\n",
              "      <td>0.000000</td>\n",
              "      <td>180.100000</td>\n",
              "      <td>100.000000</td>\n",
              "      <td>30.620000</td>\n",
              "      <td>201.000000</td>\n",
              "      <td>100.000000</td>\n",
              "      <td>17.090000</td>\n",
              "      <td>200.400000</td>\n",
              "      <td>100.000000</td>\n",
              "      <td>9.020000</td>\n",
              "      <td>2.780000</td>\n",
              "      <td>1.000000</td>\n",
              "    </tr>\n",
              "    <tr>\n",
              "      <th>75%</th>\n",
              "      <td>127.00000</td>\n",
              "      <td>415.000000</td>\n",
              "      <td>12.000000</td>\n",
              "      <td>6.000000</td>\n",
              "      <td>17.000000</td>\n",
              "      <td>216.200000</td>\n",
              "      <td>113.000000</td>\n",
              "      <td>36.750000</td>\n",
              "      <td>234.100000</td>\n",
              "      <td>114.000000</td>\n",
              "      <td>19.900000</td>\n",
              "      <td>234.700000</td>\n",
              "      <td>113.000000</td>\n",
              "      <td>10.560000</td>\n",
              "      <td>3.240000</td>\n",
              "      <td>2.000000</td>\n",
              "    </tr>\n",
              "    <tr>\n",
              "      <th>max</th>\n",
              "      <td>243.00000</td>\n",
              "      <td>510.000000</td>\n",
              "      <td>20.000000</td>\n",
              "      <td>20.000000</td>\n",
              "      <td>52.000000</td>\n",
              "      <td>351.500000</td>\n",
              "      <td>165.000000</td>\n",
              "      <td>59.760000</td>\n",
              "      <td>363.700000</td>\n",
              "      <td>170.000000</td>\n",
              "      <td>30.910000</td>\n",
              "      <td>395.000000</td>\n",
              "      <td>175.000000</td>\n",
              "      <td>17.770000</td>\n",
              "      <td>5.400000</td>\n",
              "      <td>9.000000</td>\n",
              "    </tr>\n",
              "  </tbody>\n",
              "</table>\n",
              "</div>\n",
              "      <button class=\"colab-df-convert\" onclick=\"convertToInteractive('df-85f7ec27-f15d-4931-9168-e06751122de3')\"\n",
              "              title=\"Convert this dataframe to an interactive table.\"\n",
              "              style=\"display:none;\">\n",
              "        \n",
              "  <svg xmlns=\"http://www.w3.org/2000/svg\" height=\"24px\"viewBox=\"0 0 24 24\"\n",
              "       width=\"24px\">\n",
              "    <path d=\"M0 0h24v24H0V0z\" fill=\"none\"/>\n",
              "    <path d=\"M18.56 5.44l.94 2.06.94-2.06 2.06-.94-2.06-.94-.94-2.06-.94 2.06-2.06.94zm-11 1L8.5 8.5l.94-2.06 2.06-.94-2.06-.94L8.5 2.5l-.94 2.06-2.06.94zm10 10l.94 2.06.94-2.06 2.06-.94-2.06-.94-.94-2.06-.94 2.06-2.06.94z\"/><path d=\"M17.41 7.96l-1.37-1.37c-.4-.4-.92-.59-1.43-.59-.52 0-1.04.2-1.43.59L10.3 9.45l-7.72 7.72c-.78.78-.78 2.05 0 2.83L4 21.41c.39.39.9.59 1.41.59.51 0 1.02-.2 1.41-.59l7.78-7.78 2.81-2.81c.8-.78.8-2.07 0-2.86zM5.41 20L4 18.59l7.72-7.72 1.47 1.35L5.41 20z\"/>\n",
              "  </svg>\n",
              "      </button>\n",
              "      \n",
              "  <style>\n",
              "    .colab-df-container {\n",
              "      display:flex;\n",
              "      flex-wrap:wrap;\n",
              "      gap: 12px;\n",
              "    }\n",
              "\n",
              "    .colab-df-convert {\n",
              "      background-color: #E8F0FE;\n",
              "      border: none;\n",
              "      border-radius: 50%;\n",
              "      cursor: pointer;\n",
              "      display: none;\n",
              "      fill: #1967D2;\n",
              "      height: 32px;\n",
              "      padding: 0 0 0 0;\n",
              "      width: 32px;\n",
              "    }\n",
              "\n",
              "    .colab-df-convert:hover {\n",
              "      background-color: #E2EBFA;\n",
              "      box-shadow: 0px 1px 2px rgba(60, 64, 67, 0.3), 0px 1px 3px 1px rgba(60, 64, 67, 0.15);\n",
              "      fill: #174EA6;\n",
              "    }\n",
              "\n",
              "    [theme=dark] .colab-df-convert {\n",
              "      background-color: #3B4455;\n",
              "      fill: #D2E3FC;\n",
              "    }\n",
              "\n",
              "    [theme=dark] .colab-df-convert:hover {\n",
              "      background-color: #434B5C;\n",
              "      box-shadow: 0px 1px 3px 1px rgba(0, 0, 0, 0.15);\n",
              "      filter: drop-shadow(0px 1px 2px rgba(0, 0, 0, 0.3));\n",
              "      fill: #FFFFFF;\n",
              "    }\n",
              "  </style>\n",
              "\n",
              "      <script>\n",
              "        const buttonEl =\n",
              "          document.querySelector('#df-85f7ec27-f15d-4931-9168-e06751122de3 button.colab-df-convert');\n",
              "        buttonEl.style.display =\n",
              "          google.colab.kernel.accessAllowed ? 'block' : 'none';\n",
              "\n",
              "        async function convertToInteractive(key) {\n",
              "          const element = document.querySelector('#df-85f7ec27-f15d-4931-9168-e06751122de3');\n",
              "          const dataTable =\n",
              "            await google.colab.kernel.invokeFunction('convertToInteractive',\n",
              "                                                     [key], {});\n",
              "          if (!dataTable) return;\n",
              "\n",
              "          const docLinkHtml = 'Like what you see? Visit the ' +\n",
              "            '<a target=\"_blank\" href=https://colab.research.google.com/notebooks/data_table.ipynb>data table notebook</a>'\n",
              "            + ' to learn more about interactive tables.';\n",
              "          element.innerHTML = '';\n",
              "          dataTable['output_type'] = 'display_data';\n",
              "          await google.colab.output.renderOutput(dataTable, element);\n",
              "          const docLink = document.createElement('div');\n",
              "          docLink.innerHTML = docLinkHtml;\n",
              "          element.appendChild(docLink);\n",
              "        }\n",
              "      </script>\n",
              "    </div>\n",
              "  </div>\n",
              "  "
            ],
            "text/plain": [
              "       account_length    area_code  total_intl_minutes  total_intl_calls  \\\n",
              "count      5000.00000  5000.000000         5000.000000       5000.000000   \n",
              "mean        100.25860   436.911400           10.261780          4.435200   \n",
              "std          39.69456    42.209182            2.761396          2.456788   \n",
              "min           1.00000   408.000000            0.000000          0.000000   \n",
              "25%          73.00000   408.000000            8.500000          3.000000   \n",
              "50%         100.00000   415.000000           10.300000          4.000000   \n",
              "75%         127.00000   415.000000           12.000000          6.000000   \n",
              "max         243.00000   510.000000           20.000000         20.000000   \n",
              "\n",
              "       number_vmail_messages  total_day_minutes  total_day_calls  \\\n",
              "count            5000.000000        5000.000000      5000.000000   \n",
              "mean                7.755200         180.288900       100.029400   \n",
              "std                13.546393          53.894699        19.831197   \n",
              "min                 0.000000           0.000000         0.000000   \n",
              "25%                 0.000000         143.700000        87.000000   \n",
              "50%                 0.000000         180.100000       100.000000   \n",
              "75%                17.000000         216.200000       113.000000   \n",
              "max                52.000000         351.500000       165.000000   \n",
              "\n",
              "       total_day_charge  total_eve_minutes  total_eve_calls  total_eve_charge  \\\n",
              "count       5000.000000        5000.000000      5000.000000       5000.000000   \n",
              "mean          30.649668         200.636560       100.191000         17.054322   \n",
              "std            9.162069          50.551309        19.826496          4.296843   \n",
              "min            0.000000           0.000000         0.000000          0.000000   \n",
              "25%           24.430000         166.375000        87.000000         14.140000   \n",
              "50%           30.620000         201.000000       100.000000         17.090000   \n",
              "75%           36.750000         234.100000       114.000000         19.900000   \n",
              "max           59.760000         363.700000       170.000000         30.910000   \n",
              "\n",
              "       total_night_minutes  total_night_calls  total_night_charge  \\\n",
              "count          5000.000000        5000.000000         5000.000000   \n",
              "mean            200.391620          99.919200            9.017732   \n",
              "std              50.527789          19.958686            2.273763   \n",
              "min               0.000000           0.000000            0.000000   \n",
              "25%             166.900000          87.000000            7.510000   \n",
              "50%             200.400000         100.000000            9.020000   \n",
              "75%             234.700000         113.000000           10.560000   \n",
              "max             395.000000         175.000000           17.770000   \n",
              "\n",
              "       total_intl_charge  number_customer_service_calls  \n",
              "count        5000.000000                    5000.000000  \n",
              "mean            2.771196                       1.570400  \n",
              "std             0.745514                       1.306363  \n",
              "min             0.000000                       0.000000  \n",
              "25%             2.300000                       1.000000  \n",
              "50%             2.780000                       1.000000  \n",
              "75%             3.240000                       2.000000  \n",
              "max             5.400000                       9.000000  "
            ]
          },
          "metadata": {},
          "execution_count": 20
        }
      ]
    },
    {
      "cell_type": "code",
      "metadata": {
        "id": "r_2FDdrCasGP",
        "colab": {
          "base_uri": "https://localhost:8080/",
          "height": 442
        },
        "outputId": "bf5f1686-2147-47f2-9acc-3c5a53df8f2b"
      },
      "source": [
        "print(df.area_code.value_counts())\n",
        "\n",
        "plt.figure(figsize = (6, 6))\n",
        "df.area_code.value_counts().plot(kind = 'pie', autopct = '%1.1f%%')\n",
        "plt.title('Pie Chart of Area Code')\n",
        "plt.show()"
      ],
      "execution_count": 21,
      "outputs": [
        {
          "output_type": "stream",
          "name": "stdout",
          "text": [
            "415    2495\n",
            "408    1259\n",
            "510    1246\n",
            "Name: area_code, dtype: int64\n"
          ]
        },
        {
          "output_type": "display_data",
          "data": {
            "image/png": "[encoded data removed]",
            "text/plain": [
              "<Figure size 432x432 with 1 Axes>"
            ]
          },
          "metadata": {}
        }
      ]
    },
    {
      "cell_type": "markdown",
      "metadata": {
        "id": "XUTXcPj8asGT"
      },
      "source": [
        "Area Code 415 consists of almost half of the area codes in this dataset. Area Code 510 very slightly outnumbers Area Code 408."
      ]
    },
    {
      "cell_type": "code",
      "metadata": {
        "id": "3dS-KVIkasGU",
        "colab": {
          "base_uri": "https://localhost:8080/",
          "height": 456
        },
        "outputId": "dc1b9f1e-4834-4e90-ae27-64275f719786"
      },
      "source": [
        "print(df.international_plan.value_counts())\n",
        "\n",
        "plt.figure(figsize = (6, 6))\n",
        "df.international_plan.value_counts().plot(kind = 'bar', rot = 0, color = ['skyblue', 'darkorange'])\n",
        "plt.title('Distribution of International Plan')\n",
        "plt.xlabel('International Plan')\n",
        "plt.show()"
      ],
      "execution_count": 22,
      "outputs": [
        {
          "output_type": "stream",
          "name": "stdout",
          "text": [
            "False    4527\n",
            "True      473\n",
            "Name: international_plan, dtype: int64\n"
          ]
        },
        {
          "output_type": "display_data",
          "data": {
            "image/png": "[encoded data removed]",
            "text/plain": [
              "<Figure size 432x432 with 1 Axes>"
            ]
          },
          "metadata": {
            "needs_background": "light"
          }
        }
      ]
    },
    {
      "cell_type": "markdown",
      "metadata": {
        "id": "XnAsY6f8asGY"
      },
      "source": [
        "Very few of the customers are subscribed to an international plan."
      ]
    },
    {
      "cell_type": "code",
      "metadata": {
        "id": "bXumquNYasGZ",
        "colab": {
          "base_uri": "https://localhost:8080/",
          "height": 688
        },
        "outputId": "4fa7532a-4d7b-4779-c1f4-d9c897f12725"
      },
      "source": [
        "print(df.number_customer_service_calls.value_counts())\n",
        "\n",
        "plt.figure(figsize = (8, 8))\n",
        "df.number_customer_service_calls.value_counts().plot(kind = 'bar', rot = 0)\n",
        "plt.xlabel(\"Number of Calls to Customer Service\")\n",
        "plt.show()"
      ],
      "execution_count": 23,
      "outputs": [
        {
          "output_type": "stream",
          "name": "stdout",
          "text": [
            "1    1786\n",
            "2    1127\n",
            "0    1023\n",
            "3     665\n",
            "4     252\n",
            "5      96\n",
            "6      34\n",
            "7      13\n",
            "9       2\n",
            "8       2\n",
            "Name: number_customer_service_calls, dtype: int64\n"
          ]
        },
        {
          "output_type": "display_data",
          "data": {
            "image/png": "[encoded data removed]",
            "text/plain": [
              "<Figure size 576x576 with 1 Axes>"
            ]
          },
          "metadata": {
            "needs_background": "light"
          }
        }
      ]
    },
    {
      "cell_type": "markdown",
      "metadata": {
        "id": "kkP0E4MbasGf"
      },
      "source": [
        "Most customers made exactly 1 call to customer service followed by those who made 2 calls, and then those who made 0 calls. Those who made more than 5 calls make up the minority."
      ]
    },
    {
      "cell_type": "code",
      "metadata": {
        "id": "k5GGY5BbasGf",
        "colab": {
          "base_uri": "https://localhost:8080/",
          "height": 440
        },
        "outputId": "a451fb85-a0f3-4592-baf3-3c1ae33674b5"
      },
      "source": [
        "print(df.churn.value_counts())\n",
        "\n",
        "plt.figure(figsize = (6, 6))\n",
        "df.churn.value_counts().plot(kind ='bar', rot = 0, color = ['darkgreen', 'darkred'])\n",
        "plt.xlabel(\"Churn\")\n",
        "plt.show()"
      ],
      "execution_count": 24,
      "outputs": [
        {
          "output_type": "stream",
          "name": "stdout",
          "text": [
            "False    4293\n",
            "True      707\n",
            "Name: churn, dtype: int64\n"
          ]
        },
        {
          "output_type": "display_data",
          "data": {
            "image/png": "[encoded data removed]",
            "text/plain": [
              "<Figure size 432x432 with 1 Axes>"
            ]
          },
          "metadata": {
            "needs_background": "light"
          }
        }
      ]
    },
    {
      "cell_type": "markdown",
      "metadata": {
        "id": "K1kdL5KTasGi"
      },
      "source": [
        "Majority of the customers in this dataset have not churned, thereby making this dataset very biased."
      ]
    },
    {
      "cell_type": "code",
      "metadata": {
        "scrolled": false,
        "id": "uYjrFyjMasGl",
        "colab": {
          "base_uri": "https://localhost:8080/",
          "height": 1000
        },
        "outputId": "84692417-00d1-4054-b8a2-6e1171b1cb7a"
      },
      "source": [
        "# plotting the histograms of all our numerical variables with the\n",
        "# exception of 'area_code' and 'number_customer_service_calls'\n",
        "num_cols.remove('area_code')\n",
        "num_cols.remove('number_customer_service_calls')\n",
        "\n",
        "fig, axes = plt.subplots(nrows = 7, ncols = 2, figsize = (14, 30))\n",
        "plt.suptitle('Countplots of Tests Measured', fontsize = 20, y = 1.01, color = 'blue')\n",
        "\n",
        "colors = ['#00FF7F', '#8B0000', '#C71585', '#0000FF', '#DB7093', '#FFFF00', '#FF4500',\n",
        "          '#7B68EE', '#FF00FF', '#ADFF2F', '#FFD700', '#A52A2A', '#2F4F4F', '#8B008B']\n",
        "for ax, column, color in zip(axes.flatten(), num_cols, colors):\n",
        "    sns.distplot(df[column], ax = ax, color = color, hist_kws = dict(alpha = 0.75))\n",
        "    \n",
        "plt.tight_layout()"
      ],
      "execution_count": 25,
      "outputs": [
        {
          "output_type": "stream",
          "name": "stderr",
          "text": [
            "/usr/local/lib/python3.7/dist-packages/seaborn/distributions.py:2619: FutureWarning: `distplot` is a deprecated function and will be removed in a future version. Please adapt your code to use either `displot` (a figure-level function with similar flexibility) or `histplot` (an axes-level function for histograms).\n",
            "  warnings.warn(msg, FutureWarning)\n",
            "/usr/local/lib/python3.7/dist-packages/seaborn/distributions.py:2619: FutureWarning: `distplot` is a deprecated function and will be removed in a future version. Please adapt your code to use either `displot` (a figure-level function with similar flexibility) or `histplot` (an axes-level function for histograms).\n",
            "  warnings.warn(msg, FutureWarning)\n",
            "/usr/local/lib/python3.7/dist-packages/seaborn/distributions.py:2619: FutureWarning: `distplot` is a deprecated function and will be removed in a future version. Please adapt your code to use either `displot` (a figure-level function with similar flexibility) or `histplot` (an axes-level function for histograms).\n",
            "  warnings.warn(msg, FutureWarning)\n",
            "/usr/local/lib/python3.7/dist-packages/seaborn/distributions.py:2619: FutureWarning: `distplot` is a deprecated function and will be removed in a future version. Please adapt your code to use either `displot` (a figure-level function with similar flexibility) or `histplot` (an axes-level function for histograms).\n",
            "  warnings.warn(msg, FutureWarning)\n",
            "/usr/local/lib/python3.7/dist-packages/seaborn/distributions.py:2619: FutureWarning: `distplot` is a deprecated function and will be removed in a future version. Please adapt your code to use either `displot` (a figure-level function with similar flexibility) or `histplot` (an axes-level function for histograms).\n",
            "  warnings.warn(msg, FutureWarning)\n",
            "/usr/local/lib/python3.7/dist-packages/seaborn/distributions.py:2619: FutureWarning: `distplot` is a deprecated function and will be removed in a future version. Please adapt your code to use either `displot` (a figure-level function with similar flexibility) or `histplot` (an axes-level function for histograms).\n",
            "  warnings.warn(msg, FutureWarning)\n",
            "/usr/local/lib/python3.7/dist-packages/seaborn/distributions.py:2619: FutureWarning: `distplot` is a deprecated function and will be removed in a future version. Please adapt your code to use either `displot` (a figure-level function with similar flexibility) or `histplot` (an axes-level function for histograms).\n",
            "  warnings.warn(msg, FutureWarning)\n",
            "/usr/local/lib/python3.7/dist-packages/seaborn/distributions.py:2619: FutureWarning: `distplot` is a deprecated function and will be removed in a future version. Please adapt your code to use either `displot` (a figure-level function with similar flexibility) or `histplot` (an axes-level function for histograms).\n",
            "  warnings.warn(msg, FutureWarning)\n",
            "/usr/local/lib/python3.7/dist-packages/seaborn/distributions.py:2619: FutureWarning: `distplot` is a deprecated function and will be removed in a future version. Please adapt your code to use either `displot` (a figure-level function with similar flexibility) or `histplot` (an axes-level function for histograms).\n",
            "  warnings.warn(msg, FutureWarning)\n",
            "/usr/local/lib/python3.7/dist-packages/seaborn/distributions.py:2619: FutureWarning: `distplot` is a deprecated function and will be removed in a future version. Please adapt your code to use either `displot` (a figure-level function with similar flexibility) or `histplot` (an axes-level function for histograms).\n",
            "  warnings.warn(msg, FutureWarning)\n",
            "/usr/local/lib/python3.7/dist-packages/seaborn/distributions.py:2619: FutureWarning: `distplot` is a deprecated function and will be removed in a future version. Please adapt your code to use either `displot` (a figure-level function with similar flexibility) or `histplot` (an axes-level function for histograms).\n",
            "  warnings.warn(msg, FutureWarning)\n",
            "/usr/local/lib/python3.7/dist-packages/seaborn/distributions.py:2619: FutureWarning: `distplot` is a deprecated function and will be removed in a future version. Please adapt your code to use either `displot` (a figure-level function with similar flexibility) or `histplot` (an axes-level function for histograms).\n",
            "  warnings.warn(msg, FutureWarning)\n",
            "/usr/local/lib/python3.7/dist-packages/seaborn/distributions.py:2619: FutureWarning: `distplot` is a deprecated function and will be removed in a future version. Please adapt your code to use either `displot` (a figure-level function with similar flexibility) or `histplot` (an axes-level function for histograms).\n",
            "  warnings.warn(msg, FutureWarning)\n",
            "/usr/local/lib/python3.7/dist-packages/seaborn/distributions.py:2619: FutureWarning: `distplot` is a deprecated function and will be removed in a future version. Please adapt your code to use either `displot` (a figure-level function with similar flexibility) or `histplot` (an axes-level function for histograms).\n",
            "  warnings.warn(msg, FutureWarning)\n"
          ]
        },
        {
          "output_type": "display_data",
          "data": {
            "image/png": "[encoded data removed]",
            "text/plain": [
              "<Figure size 1008x2160 with 14 Axes>"
            ]
          },
          "metadata": {
            "needs_background": "light"
          }
        }
      ]
    },
    {
      "cell_type": "markdown",
      "metadata": {
        "id": "nf3xFgCWasGs"
      },
      "source": [
        "Majority of the numerical variables have normal distributions. Apart from having most of its values in the 0-5 bin, the 'number_vmail_messages' variable appears to be normally distributed. The 'total_intl_calls' variable is skewed to the right and is not continuous."
      ]
    },
    {
      "cell_type": "markdown",
      "metadata": {
        "id": "M31MLioIasGt"
      },
      "source": [
        "### 3.2 Bivariata Analysis"
      ]
    },
    {
      "cell_type": "markdown",
      "metadata": {
        "id": "2u9K_UW_asGu"
      },
      "source": [
        "We will make 'churn' our target variable and look at how the other variables relate to it."
      ]
    },
    {
      "cell_type": "code",
      "metadata": {
        "id": "5eN2qk6XasGv",
        "colab": {
          "base_uri": "https://localhost:8080/",
          "height": 460
        },
        "outputId": "b6c74b37-a792-4040-f45c-b6d7ff0b9cf5"
      },
      "source": [
        "# churn by area code\n",
        "plt.figure(figsize = (8, 6))\n",
        "churn_area_code = sns.countplot('area_code', hue = 'churn', data = df)\n",
        "churn_area_code.set(title = \"Churn by Area Code\", ylabel = 'Area Code')\n",
        "plt.show()"
      ],
      "execution_count": 26,
      "outputs": [
        {
          "output_type": "stream",
          "name": "stderr",
          "text": [
            "/usr/local/lib/python3.7/dist-packages/seaborn/_decorators.py:43: FutureWarning: Pass the following variable as a keyword arg: x. From version 0.12, the only valid positional argument will be `data`, and passing other arguments without an explicit keyword will result in an error or misinterpretation.\n",
            "  FutureWarning\n"
          ]
        },
        {
          "output_type": "display_data",
          "data": {
            "image/png": "[encoded data removed]",
            "text/plain": [
              "<Figure size 576x432 with 1 Axes>"
            ]
          },
          "metadata": {
            "needs_background": "light"
          }
        }
      ]
    },
    {
      "cell_type": "markdown",
      "metadata": {
        "id": "54N-Z7w0asGy"
      },
      "source": [
        "Area code 415 reports the highest churn rates."
      ]
    },
    {
      "cell_type": "code",
      "metadata": {
        "id": "L2FNasXSasGy",
        "colab": {
          "base_uri": "https://localhost:8080/",
          "height": 460
        },
        "outputId": "52a103cb-a0f8-45a4-8667-32832ada88c7"
      },
      "source": [
        "# churn by international plan\n",
        "plt.figure(figsize = (8, 6))\n",
        "churn_area_code = sns.countplot('international_plan', hue = 'churn', data = df)\n",
        "churn_area_code.set(title = \"Churn by International Plan\", ylabel = 'International Plan')\n",
        "plt.show()"
      ],
      "execution_count": 27,
      "outputs": [
        {
          "output_type": "stream",
          "name": "stderr",
          "text": [
            "/usr/local/lib/python3.7/dist-packages/seaborn/_decorators.py:43: FutureWarning: Pass the following variable as a keyword arg: x. From version 0.12, the only valid positional argument will be `data`, and passing other arguments without an explicit keyword will result in an error or misinterpretation.\n",
            "  FutureWarning\n"
          ]
        },
        {
          "output_type": "display_data",
          "data": {
            "image/png": "[encoded data removed]",
            "text/plain": [
              "<Figure size 576x432 with 1 Axes>"
            ]
          },
          "metadata": {
            "needs_background": "light"
          }
        }
      ]
    },
    {
      "cell_type": "markdown",
      "metadata": {
        "id": "kNprofaYasG1"
      },
      "source": [
        "Those without international plans churned more than those with international plans."
      ]
    },
    {
      "cell_type": "code",
      "metadata": {
        "id": "bDY0XJOFasG2",
        "colab": {
          "base_uri": "https://localhost:8080/",
          "height": 460
        },
        "outputId": "86e67fce-9a19-4f11-9797-91728f702722"
      },
      "source": [
        "# churn by number of customer service calls\n",
        "plt.figure(figsize = (8, 6))\n",
        "churn_area_code = sns.countplot('number_customer_service_calls', hue = 'churn', data = df)\n",
        "churn_area_code.set(title = \"Churn by Number of Customer Service Calls\",\n",
        "                    ylabel = 'Number of Customer Service Calls')\n",
        "plt.show()"
      ],
      "execution_count": 28,
      "outputs": [
        {
          "output_type": "stream",
          "name": "stderr",
          "text": [
            "/usr/local/lib/python3.7/dist-packages/seaborn/_decorators.py:43: FutureWarning: Pass the following variable as a keyword arg: x. From version 0.12, the only valid positional argument will be `data`, and passing other arguments without an explicit keyword will result in an error or misinterpretation.\n",
            "  FutureWarning\n"
          ]
        },
        {
          "output_type": "display_data",
          "data": {
            "image/png": "[encoded data removed]",
            "text/plain": [
              "<Figure size 576x432 with 1 Axes>"
            ]
          },
          "metadata": {
            "needs_background": "light"
          }
        }
      ]
    },
    {
      "cell_type": "markdown",
      "metadata": {
        "id": "_O6DZfCWasG_"
      },
      "source": [
        "The interesting thing to note here is that those who made 0 or 2 calls to customer service churned at around the same rate. Similarly, those who made more than 3 calls reported high churn rates."
      ]
    },
    {
      "cell_type": "markdown",
      "metadata": {
        "id": "ZQjql-lgasHJ"
      },
      "source": [
        "### 3.3 Feature Engineering & Test for Multicollinearity"
      ]
    },
    {
      "cell_type": "markdown",
      "metadata": {
        "id": "zKvXZkbLasHJ"
      },
      "source": [
        "Before we can carry out the test for multicollinearity (a requirement for logistic regression), we need to convert the values of 'international_plan' and 'churn' to binary."
      ]
    },
    {
      "cell_type": "code",
      "metadata": {
        "id": "300tIugMasHT",
        "colab": {
          "base_uri": "https://localhost:8080/",
          "height": 270
        },
        "outputId": "bce1e909-5cc6-4fe0-b717-ed023df2d162"
      },
      "source": [
        "df['international_plan'] = df['international_plan'].replace({False : 0, True : 1})\n",
        "df['churn'] = df['churn'].replace({False : 0, True : 1})\n",
        "df.head()"
      ],
      "execution_count": 29,
      "outputs": [
        {
          "output_type": "execute_result",
          "data": {
            "text/html": [
              "\n",
              "  <div id=\"df-c50fdd40-1efe-498a-9fa3-f3bcd112895d\">\n",
              "    <div class=\"colab-df-container\">\n",
              "      <div>\n",
              "<style scoped>\n",
              "    .dataframe tbody tr th:only-of-type {\n",
              "        vertical-align: middle;\n",
              "    }\n",
              "\n",
              "    .dataframe tbody tr th {\n",
              "        vertical-align: top;\n",
              "    }\n",
              "\n",
              "    .dataframe thead th {\n",
              "        text-align: right;\n",
              "    }\n",
              "</style>\n",
              "<table border=\"1\" class=\"dataframe\">\n",
              "  <thead>\n",
              "    <tr style=\"text-align: right;\">\n",
              "      <th></th>\n",
              "      <th>account_length</th>\n",
              "      <th>area_code</th>\n",
              "      <th>international_plan</th>\n",
              "      <th>total_intl_minutes</th>\n",
              "      <th>total_intl_calls</th>\n",
              "      <th>number_vmail_messages</th>\n",
              "      <th>total_day_minutes</th>\n",
              "      <th>total_day_calls</th>\n",
              "      <th>total_day_charge</th>\n",
              "      <th>total_eve_minutes</th>\n",
              "      <th>total_eve_calls</th>\n",
              "      <th>total_eve_charge</th>\n",
              "      <th>total_night_minutes</th>\n",
              "      <th>total_night_calls</th>\n",
              "      <th>total_night_charge</th>\n",
              "      <th>total_intl_charge</th>\n",
              "      <th>number_customer_service_calls</th>\n",
              "      <th>churn</th>\n",
              "    </tr>\n",
              "  </thead>\n",
              "  <tbody>\n",
              "    <tr>\n",
              "      <th>0</th>\n",
              "      <td>101</td>\n",
              "      <td>510</td>\n",
              "      <td>0</td>\n",
              "      <td>10.6</td>\n",
              "      <td>3</td>\n",
              "      <td>0</td>\n",
              "      <td>70.9</td>\n",
              "      <td>123</td>\n",
              "      <td>12.05</td>\n",
              "      <td>211.9</td>\n",
              "      <td>73</td>\n",
              "      <td>18.01</td>\n",
              "      <td>236.0</td>\n",
              "      <td>73</td>\n",
              "      <td>10.62</td>\n",
              "      <td>2.86</td>\n",
              "      <td>3</td>\n",
              "      <td>0</td>\n",
              "    </tr>\n",
              "    <tr>\n",
              "      <th>1</th>\n",
              "      <td>137</td>\n",
              "      <td>510</td>\n",
              "      <td>0</td>\n",
              "      <td>9.5</td>\n",
              "      <td>7</td>\n",
              "      <td>0</td>\n",
              "      <td>223.6</td>\n",
              "      <td>86</td>\n",
              "      <td>38.01</td>\n",
              "      <td>244.8</td>\n",
              "      <td>139</td>\n",
              "      <td>20.81</td>\n",
              "      <td>94.2</td>\n",
              "      <td>81</td>\n",
              "      <td>4.24</td>\n",
              "      <td>2.57</td>\n",
              "      <td>0</td>\n",
              "      <td>0</td>\n",
              "    </tr>\n",
              "    <tr>\n",
              "      <th>2</th>\n",
              "      <td>103</td>\n",
              "      <td>408</td>\n",
              "      <td>0</td>\n",
              "      <td>13.7</td>\n",
              "      <td>6</td>\n",
              "      <td>29</td>\n",
              "      <td>294.7</td>\n",
              "      <td>95</td>\n",
              "      <td>50.10</td>\n",
              "      <td>237.3</td>\n",
              "      <td>105</td>\n",
              "      <td>20.17</td>\n",
              "      <td>300.3</td>\n",
              "      <td>127</td>\n",
              "      <td>13.51</td>\n",
              "      <td>3.70</td>\n",
              "      <td>1</td>\n",
              "      <td>0</td>\n",
              "    </tr>\n",
              "    <tr>\n",
              "      <th>3</th>\n",
              "      <td>99</td>\n",
              "      <td>415</td>\n",
              "      <td>0</td>\n",
              "      <td>15.7</td>\n",
              "      <td>2</td>\n",
              "      <td>0</td>\n",
              "      <td>216.8</td>\n",
              "      <td>123</td>\n",
              "      <td>36.86</td>\n",
              "      <td>126.4</td>\n",
              "      <td>88</td>\n",
              "      <td>10.74</td>\n",
              "      <td>220.6</td>\n",
              "      <td>82</td>\n",
              "      <td>9.93</td>\n",
              "      <td>4.24</td>\n",
              "      <td>1</td>\n",
              "      <td>0</td>\n",
              "    </tr>\n",
              "    <tr>\n",
              "      <th>4</th>\n",
              "      <td>108</td>\n",
              "      <td>415</td>\n",
              "      <td>0</td>\n",
              "      <td>7.7</td>\n",
              "      <td>4</td>\n",
              "      <td>0</td>\n",
              "      <td>197.4</td>\n",
              "      <td>78</td>\n",
              "      <td>33.56</td>\n",
              "      <td>124.0</td>\n",
              "      <td>101</td>\n",
              "      <td>10.54</td>\n",
              "      <td>204.5</td>\n",
              "      <td>107</td>\n",
              "      <td>9.20</td>\n",
              "      <td>2.08</td>\n",
              "      <td>2</td>\n",
              "      <td>0</td>\n",
              "    </tr>\n",
              "  </tbody>\n",
              "</table>\n",
              "</div>\n",
              "      <button class=\"colab-df-convert\" onclick=\"convertToInteractive('df-c50fdd40-1efe-498a-9fa3-f3bcd112895d')\"\n",
              "              title=\"Convert this dataframe to an interactive table.\"\n",
              "              style=\"display:none;\">\n",
              "        \n",
              "  <svg xmlns=\"http://www.w3.org/2000/svg\" height=\"24px\"viewBox=\"0 0 24 24\"\n",
              "       width=\"24px\">\n",
              "    <path d=\"M0 0h24v24H0V0z\" fill=\"none\"/>\n",
              "    <path d=\"M18.56 5.44l.94 2.06.94-2.06 2.06-.94-2.06-.94-.94-2.06-.94 2.06-2.06.94zm-11 1L8.5 8.5l.94-2.06 2.06-.94-2.06-.94L8.5 2.5l-.94 2.06-2.06.94zm10 10l.94 2.06.94-2.06 2.06-.94-2.06-.94-.94-2.06-.94 2.06-2.06.94z\"/><path d=\"M17.41 7.96l-1.37-1.37c-.4-.4-.92-.59-1.43-.59-.52 0-1.04.2-1.43.59L10.3 9.45l-7.72 7.72c-.78.78-.78 2.05 0 2.83L4 21.41c.39.39.9.59 1.41.59.51 0 1.02-.2 1.41-.59l7.78-7.78 2.81-2.81c.8-.78.8-2.07 0-2.86zM5.41 20L4 18.59l7.72-7.72 1.47 1.35L5.41 20z\"/>\n",
              "  </svg>\n",
              "      </button>\n",
              "      \n",
              "  <style>\n",
              "    .colab-df-container {\n",
              "      display:flex;\n",
              "      flex-wrap:wrap;\n",
              "      gap: 12px;\n",
              "    }\n",
              "\n",
              "    .colab-df-convert {\n",
              "      background-color: #E8F0FE;\n",
              "      border: none;\n",
              "      border-radius: 50%;\n",
              "      cursor: pointer;\n",
              "      display: none;\n",
              "      fill: #1967D2;\n",
              "      height: 32px;\n",
              "      padding: 0 0 0 0;\n",
              "      width: 32px;\n",
              "    }\n",
              "\n",
              "    .colab-df-convert:hover {\n",
              "      background-color: #E2EBFA;\n",
              "      box-shadow: 0px 1px 2px rgba(60, 64, 67, 0.3), 0px 1px 3px 1px rgba(60, 64, 67, 0.15);\n",
              "      fill: #174EA6;\n",
              "    }\n",
              "\n",
              "    [theme=dark] .colab-df-convert {\n",
              "      background-color: #3B4455;\n",
              "      fill: #D2E3FC;\n",
              "    }\n",
              "\n",
              "    [theme=dark] .colab-df-convert:hover {\n",
              "      background-color: #434B5C;\n",
              "      box-shadow: 0px 1px 3px 1px rgba(0, 0, 0, 0.15);\n",
              "      filter: drop-shadow(0px 1px 2px rgba(0, 0, 0, 0.3));\n",
              "      fill: #FFFFFF;\n",
              "    }\n",
              "  </style>\n",
              "\n",
              "      <script>\n",
              "        const buttonEl =\n",
              "          document.querySelector('#df-c50fdd40-1efe-498a-9fa3-f3bcd112895d button.colab-df-convert');\n",
              "        buttonEl.style.display =\n",
              "          google.colab.kernel.accessAllowed ? 'block' : 'none';\n",
              "\n",
              "        async function convertToInteractive(key) {\n",
              "          const element = document.querySelector('#df-c50fdd40-1efe-498a-9fa3-f3bcd112895d');\n",
              "          const dataTable =\n",
              "            await google.colab.kernel.invokeFunction('convertToInteractive',\n",
              "                                                     [key], {});\n",
              "          if (!dataTable) return;\n",
              "\n",
              "          const docLinkHtml = 'Like what you see? Visit the ' +\n",
              "            '<a target=\"_blank\" href=https://colab.research.google.com/notebooks/data_table.ipynb>data table notebook</a>'\n",
              "            + ' to learn more about interactive tables.';\n",
              "          element.innerHTML = '';\n",
              "          dataTable['output_type'] = 'display_data';\n",
              "          await google.colab.output.renderOutput(dataTable, element);\n",
              "          const docLink = document.createElement('div');\n",
              "          docLink.innerHTML = docLinkHtml;\n",
              "          element.appendChild(docLink);\n",
              "        }\n",
              "      </script>\n",
              "    </div>\n",
              "  </div>\n",
              "  "
            ],
            "text/plain": [
              "   account_length  area_code  international_plan  total_intl_minutes  \\\n",
              "0             101        510                   0                10.6   \n",
              "1             137        510                   0                 9.5   \n",
              "2             103        408                   0                13.7   \n",
              "3              99        415                   0                15.7   \n",
              "4             108        415                   0                 7.7   \n",
              "\n",
              "   total_intl_calls  number_vmail_messages  total_day_minutes  \\\n",
              "0                 3                      0               70.9   \n",
              "1                 7                      0              223.6   \n",
              "2                 6                     29              294.7   \n",
              "3                 2                      0              216.8   \n",
              "4                 4                      0              197.4   \n",
              "\n",
              "   total_day_calls  total_day_charge  total_eve_minutes  total_eve_calls  \\\n",
              "0              123             12.05              211.9               73   \n",
              "1               86             38.01              244.8              139   \n",
              "2               95             50.10              237.3              105   \n",
              "3              123             36.86              126.4               88   \n",
              "4               78             33.56              124.0              101   \n",
              "\n",
              "   total_eve_charge  total_night_minutes  total_night_calls  \\\n",
              "0             18.01                236.0                 73   \n",
              "1             20.81                 94.2                 81   \n",
              "2             20.17                300.3                127   \n",
              "3             10.74                220.6                 82   \n",
              "4             10.54                204.5                107   \n",
              "\n",
              "   total_night_charge  total_intl_charge  number_customer_service_calls  churn  \n",
              "0               10.62               2.86                              3      0  \n",
              "1                4.24               2.57                              0      0  \n",
              "2               13.51               3.70                              1      0  \n",
              "3                9.93               4.24                              1      0  \n",
              "4                9.20               2.08                              2      0  "
            ]
          },
          "metadata": {},
          "execution_count": 29
        }
      ]
    },
    {
      "cell_type": "code",
      "metadata": {
        "id": "Io_efH3JasHb",
        "colab": {
          "base_uri": "https://localhost:8080/",
          "height": 762
        },
        "outputId": "0bef77e3-7815-4c7b-8ed7-78716737f859"
      },
      "source": [
        "# checking the correlations between the numerical variables\n",
        "corrMatrix = df.corr()\n",
        "corrMatrix\n",
        "# plotting the correlations onto a heatmap\n",
        "import seaborn as sns\n",
        "plt.figure(figsize=(10, 10)) \n",
        "sns.heatmap(corrMatrix, annot = True) "
      ],
      "execution_count": 30,
      "outputs": [
        {
          "output_type": "execute_result",
          "data": {
            "text/plain": [
              "<matplotlib.axes._subplots.AxesSubplot at 0x7f937cb9cad0>"
            ]
          },
          "metadata": {},
          "execution_count": 30
        },
        {
          "output_type": "display_data",
          "data": {
            "image/png": "[encoded data removed]",
            "text/plain": [
              "<Figure size 720x720 with 2 Axes>"
            ]
          },
          "metadata": {
            "needs_background": "light"
          }
        }
      ]
    },
    {
      "cell_type": "markdown",
      "metadata": {
        "id": "phY6GZ1_asHk"
      },
      "source": [
        "We see some perfect correlations between the following variables:\n",
        "- 'total_day_minutes' and 'total_day_charge'\n",
        "- 'total_eve_minutes' and 'total_eve_charge'\n",
        "- 'total_night_minutes' and 'total_night_charge'\n",
        "- 'total_intl_minutes' and 'total_intl_charge'\n",
        "\n",
        "We will drop the minutes."
      ]
    },
    {
      "cell_type": "code",
      "metadata": {
        "id": "xp_78zjxasHn",
        "colab": {
          "base_uri": "https://localhost:8080/",
          "height": 207
        },
        "outputId": "43671b03-3fd9-4cd5-ebec-52f142688155"
      },
      "source": [
        "# drop the columns with minutes, e.g., 'total_day_minutes', etc.\n",
        "df.drop(columns = ['total_intl_minutes', 'total_day_minutes', 'total_eve_minutes', 'total_night_minutes'], inplace = True)\n",
        "df.head(3)"
      ],
      "execution_count": 31,
      "outputs": [
        {
          "output_type": "execute_result",
          "data": {
            "text/html": [
              "\n",
              "  <div id=\"df-1f982c78-03c9-4242-b8dc-fb00ea0a10ca\">\n",
              "    <div class=\"colab-df-container\">\n",
              "      <div>\n",
              "<style scoped>\n",
              "    .dataframe tbody tr th:only-of-type {\n",
              "        vertical-align: middle;\n",
              "    }\n",
              "\n",
              "    .dataframe tbody tr th {\n",
              "        vertical-align: top;\n",
              "    }\n",
              "\n",
              "    .dataframe thead th {\n",
              "        text-align: right;\n",
              "    }\n",
              "</style>\n",
              "<table border=\"1\" class=\"dataframe\">\n",
              "  <thead>\n",
              "    <tr style=\"text-align: right;\">\n",
              "      <th></th>\n",
              "      <th>account_length</th>\n",
              "      <th>area_code</th>\n",
              "      <th>international_plan</th>\n",
              "      <th>total_intl_calls</th>\n",
              "      <th>number_vmail_messages</th>\n",
              "      <th>total_day_calls</th>\n",
              "      <th>total_day_charge</th>\n",
              "      <th>total_eve_calls</th>\n",
              "      <th>total_eve_charge</th>\n",
              "      <th>total_night_calls</th>\n",
              "      <th>total_night_charge</th>\n",
              "      <th>total_intl_charge</th>\n",
              "      <th>number_customer_service_calls</th>\n",
              "      <th>churn</th>\n",
              "    </tr>\n",
              "  </thead>\n",
              "  <tbody>\n",
              "    <tr>\n",
              "      <th>0</th>\n",
              "      <td>101</td>\n",
              "      <td>510</td>\n",
              "      <td>0</td>\n",
              "      <td>3</td>\n",
              "      <td>0</td>\n",
              "      <td>123</td>\n",
              "      <td>12.05</td>\n",
              "      <td>73</td>\n",
              "      <td>18.01</td>\n",
              "      <td>73</td>\n",
              "      <td>10.62</td>\n",
              "      <td>2.86</td>\n",
              "      <td>3</td>\n",
              "      <td>0</td>\n",
              "    </tr>\n",
              "    <tr>\n",
              "      <th>1</th>\n",
              "      <td>137</td>\n",
              "      <td>510</td>\n",
              "      <td>0</td>\n",
              "      <td>7</td>\n",
              "      <td>0</td>\n",
              "      <td>86</td>\n",
              "      <td>38.01</td>\n",
              "      <td>139</td>\n",
              "      <td>20.81</td>\n",
              "      <td>81</td>\n",
              "      <td>4.24</td>\n",
              "      <td>2.57</td>\n",
              "      <td>0</td>\n",
              "      <td>0</td>\n",
              "    </tr>\n",
              "    <tr>\n",
              "      <th>2</th>\n",
              "      <td>103</td>\n",
              "      <td>408</td>\n",
              "      <td>0</td>\n",
              "      <td>6</td>\n",
              "      <td>29</td>\n",
              "      <td>95</td>\n",
              "      <td>50.10</td>\n",
              "      <td>105</td>\n",
              "      <td>20.17</td>\n",
              "      <td>127</td>\n",
              "      <td>13.51</td>\n",
              "      <td>3.70</td>\n",
              "      <td>1</td>\n",
              "      <td>0</td>\n",
              "    </tr>\n",
              "  </tbody>\n",
              "</table>\n",
              "</div>\n",
              "      <button class=\"colab-df-convert\" onclick=\"convertToInteractive('df-1f982c78-03c9-4242-b8dc-fb00ea0a10ca')\"\n",
              "              title=\"Convert this dataframe to an interactive table.\"\n",
              "              style=\"display:none;\">\n",
              "        \n",
              "  <svg xmlns=\"http://www.w3.org/2000/svg\" height=\"24px\"viewBox=\"0 0 24 24\"\n",
              "       width=\"24px\">\n",
              "    <path d=\"M0 0h24v24H0V0z\" fill=\"none\"/>\n",
              "    <path d=\"M18.56 5.44l.94 2.06.94-2.06 2.06-.94-2.06-.94-.94-2.06-.94 2.06-2.06.94zm-11 1L8.5 8.5l.94-2.06 2.06-.94-2.06-.94L8.5 2.5l-.94 2.06-2.06.94zm10 10l.94 2.06.94-2.06 2.06-.94-2.06-.94-.94-2.06-.94 2.06-2.06.94z\"/><path d=\"M17.41 7.96l-1.37-1.37c-.4-.4-.92-.59-1.43-.59-.52 0-1.04.2-1.43.59L10.3 9.45l-7.72 7.72c-.78.78-.78 2.05 0 2.83L4 21.41c.39.39.9.59 1.41.59.51 0 1.02-.2 1.41-.59l7.78-7.78 2.81-2.81c.8-.78.8-2.07 0-2.86zM5.41 20L4 18.59l7.72-7.72 1.47 1.35L5.41 20z\"/>\n",
              "  </svg>\n",
              "      </button>\n",
              "      \n",
              "  <style>\n",
              "    .colab-df-container {\n",
              "      display:flex;\n",
              "      flex-wrap:wrap;\n",
              "      gap: 12px;\n",
              "    }\n",
              "\n",
              "    .colab-df-convert {\n",
              "      background-color: #E8F0FE;\n",
              "      border: none;\n",
              "      border-radius: 50%;\n",
              "      cursor: pointer;\n",
              "      display: none;\n",
              "      fill: #1967D2;\n",
              "      height: 32px;\n",
              "      padding: 0 0 0 0;\n",
              "      width: 32px;\n",
              "    }\n",
              "\n",
              "    .colab-df-convert:hover {\n",
              "      background-color: #E2EBFA;\n",
              "      box-shadow: 0px 1px 2px rgba(60, 64, 67, 0.3), 0px 1px 3px 1px rgba(60, 64, 67, 0.15);\n",
              "      fill: #174EA6;\n",
              "    }\n",
              "\n",
              "    [theme=dark] .colab-df-convert {\n",
              "      background-color: #3B4455;\n",
              "      fill: #D2E3FC;\n",
              "    }\n",
              "\n",
              "    [theme=dark] .colab-df-convert:hover {\n",
              "      background-color: #434B5C;\n",
              "      box-shadow: 0px 1px 3px 1px rgba(0, 0, 0, 0.15);\n",
              "      filter: drop-shadow(0px 1px 2px rgba(0, 0, 0, 0.3));\n",
              "      fill: #FFFFFF;\n",
              "    }\n",
              "  </style>\n",
              "\n",
              "      <script>\n",
              "        const buttonEl =\n",
              "          document.querySelector('#df-1f982c78-03c9-4242-b8dc-fb00ea0a10ca button.colab-df-convert');\n",
              "        buttonEl.style.display =\n",
              "          google.colab.kernel.accessAllowed ? 'block' : 'none';\n",
              "\n",
              "        async function convertToInteractive(key) {\n",
              "          const element = document.querySelector('#df-1f982c78-03c9-4242-b8dc-fb00ea0a10ca');\n",
              "          const dataTable =\n",
              "            await google.colab.kernel.invokeFunction('convertToInteractive',\n",
              "                                                     [key], {});\n",
              "          if (!dataTable) return;\n",
              "\n",
              "          const docLinkHtml = 'Like what you see? Visit the ' +\n",
              "            '<a target=\"_blank\" href=https://colab.research.google.com/notebooks/data_table.ipynb>data table notebook</a>'\n",
              "            + ' to learn more about interactive tables.';\n",
              "          element.innerHTML = '';\n",
              "          dataTable['output_type'] = 'display_data';\n",
              "          await google.colab.output.renderOutput(dataTable, element);\n",
              "          const docLink = document.createElement('div');\n",
              "          docLink.innerHTML = docLinkHtml;\n",
              "          element.appendChild(docLink);\n",
              "        }\n",
              "      </script>\n",
              "    </div>\n",
              "  </div>\n",
              "  "
            ],
            "text/plain": [
              "   account_length  area_code  international_plan  total_intl_calls  \\\n",
              "0             101        510                   0                 3   \n",
              "1             137        510                   0                 7   \n",
              "2             103        408                   0                 6   \n",
              "\n",
              "   number_vmail_messages  total_day_calls  total_day_charge  total_eve_calls  \\\n",
              "0                      0              123             12.05               73   \n",
              "1                      0               86             38.01              139   \n",
              "2                     29               95             50.10              105   \n",
              "\n",
              "   total_eve_charge  total_night_calls  total_night_charge  total_intl_charge  \\\n",
              "0             18.01                 73               10.62               2.86   \n",
              "1             20.81                 81                4.24               2.57   \n",
              "2             20.17                127               13.51               3.70   \n",
              "\n",
              "   number_customer_service_calls  churn  \n",
              "0                              3      0  \n",
              "1                              0      0  \n",
              "2                              1      0  "
            ]
          },
          "metadata": {},
          "execution_count": 31
        }
      ]
    },
    {
      "cell_type": "code",
      "metadata": {
        "id": "vbY0MHVkasHz",
        "colab": {
          "base_uri": "https://localhost:8080/",
          "height": 762
        },
        "outputId": "1a281e82-bc09-44f4-8d38-27c25f57eb89"
      },
      "source": [
        "# checking the correlations between the numerical variables\n",
        "corrMatrix = df.corr()\n",
        "corrMatrix\n",
        "# plotting the correlations onto a heatmap\n",
        "import seaborn as sns\n",
        "plt.figure(figsize=(10, 10)) \n",
        "sns.heatmap(corrMatrix, annot = True)"
      ],
      "execution_count": 32,
      "outputs": [
        {
          "output_type": "execute_result",
          "data": {
            "text/plain": [
              "<matplotlib.axes._subplots.AxesSubplot at 0x7f937ae9ea50>"
            ]
          },
          "metadata": {},
          "execution_count": 32
        },
        {
          "output_type": "display_data",
          "data": {
            "image/png": "[encoded data removed]",
            "text/plain": [
              "<Figure size 720x720 with 2 Axes>"
            ]
          },
          "metadata": {
            "needs_background": "light"
          }
        }
      ]
    },
    {
      "cell_type": "markdown",
      "metadata": {
        "id": "PpvlSJG-asH2"
      },
      "source": [
        "We will then check the Variance Inflation Factor (VIF) scores to ensure there is no high multicollinearity."
      ]
    },
    {
      "cell_type": "code",
      "metadata": {
        "id": "RwwGqhvOasH3",
        "colab": {
          "base_uri": "https://localhost:8080/",
          "height": 552
        },
        "outputId": "dd73d254-6585-4cc0-b013-98845b9e1c11"
      },
      "source": [
        "# calculate VIF and plot the heatmap\n",
        "from statsmodels.stats.outliers_influence import variance_inflation_factor\n",
        "pd.DataFrame(np.linalg.inv(corrMatrix.values), index = corrMatrix.index, columns=corrMatrix.columns)"
      ],
      "execution_count": 67,
      "outputs": [
        {
          "output_type": "execute_result",
          "data": {
            "text/html": [
              "\n",
              "  <div id=\"df-8cc541ef-71fe-43b5-b3fb-51f91a90bf9c\">\n",
              "    <div class=\"colab-df-container\">\n",
              "      <div>\n",
              "<style scoped>\n",
              "    .dataframe tbody tr th:only-of-type {\n",
              "        vertical-align: middle;\n",
              "    }\n",
              "\n",
              "    .dataframe tbody tr th {\n",
              "        vertical-align: top;\n",
              "    }\n",
              "\n",
              "    .dataframe thead th {\n",
              "        text-align: right;\n",
              "    }\n",
              "</style>\n",
              "<table border=\"1\" class=\"dataframe\">\n",
              "  <thead>\n",
              "    <tr style=\"text-align: right;\">\n",
              "      <th></th>\n",
              "      <th>account_length</th>\n",
              "      <th>area_code</th>\n",
              "      <th>international_plan</th>\n",
              "      <th>total_intl_calls</th>\n",
              "      <th>number_vmail_messages</th>\n",
              "      <th>total_day_calls</th>\n",
              "      <th>total_day_charge</th>\n",
              "      <th>total_eve_calls</th>\n",
              "      <th>total_eve_charge</th>\n",
              "      <th>total_night_calls</th>\n",
              "      <th>total_night_charge</th>\n",
              "      <th>total_intl_charge</th>\n",
              "      <th>number_customer_service_calls</th>\n",
              "      <th>churn</th>\n",
              "    </tr>\n",
              "  </thead>\n",
              "  <tbody>\n",
              "    <tr>\n",
              "      <th>account_length</th>\n",
              "      <td>1.002339</td>\n",
              "      <td>0.017673</td>\n",
              "      <td>-0.010015</td>\n",
              "      <td>-0.014693</td>\n",
              "      <td>0.012450</td>\n",
              "      <td>-0.027260</td>\n",
              "      <td>0.006226</td>\n",
              "      <td>-0.008834</td>\n",
              "      <td>0.011535</td>\n",
              "      <td>0.006977</td>\n",
              "      <td>-0.000229</td>\n",
              "      <td>0.001140</td>\n",
              "      <td>0.005276</td>\n",
              "      <td>-0.021385</td>\n",
              "    </tr>\n",
              "    <tr>\n",
              "      <th>area_code</th>\n",
              "      <td>0.017673</td>\n",
              "      <td>1.003202</td>\n",
              "      <td>-0.033461</td>\n",
              "      <td>0.012805</td>\n",
              "      <td>0.003942</td>\n",
              "      <td>0.018524</td>\n",
              "      <td>0.020315</td>\n",
              "      <td>0.011966</td>\n",
              "      <td>-0.006338</td>\n",
              "      <td>-0.014171</td>\n",
              "      <td>-0.002932</td>\n",
              "      <td>0.005056</td>\n",
              "      <td>-0.021090</td>\n",
              "      <td>-0.000626</td>\n",
              "    </tr>\n",
              "    <tr>\n",
              "      <th>international_plan</th>\n",
              "      <td>-0.010015</td>\n",
              "      <td>-0.033461</td>\n",
              "      <td>1.084081</td>\n",
              "      <td>-0.017236</td>\n",
              "      <td>-0.043582</td>\n",
              "      <td>-0.003098</td>\n",
              "      <td>0.032925</td>\n",
              "      <td>-0.006139</td>\n",
              "      <td>0.008241</td>\n",
              "      <td>-0.008608</td>\n",
              "      <td>0.043584</td>\n",
              "      <td>-0.012542</td>\n",
              "      <td>0.080470</td>\n",
              "      <td>-0.311345</td>\n",
              "    </tr>\n",
              "    <tr>\n",
              "      <th>total_intl_calls</th>\n",
              "      <td>-0.014693</td>\n",
              "      <td>0.012805</td>\n",
              "      <td>-0.017236</td>\n",
              "      <td>1.003978</td>\n",
              "      <td>0.005582</td>\n",
              "      <td>-0.010702</td>\n",
              "      <td>-0.010041</td>\n",
              "      <td>-0.004952</td>\n",
              "      <td>-0.013069</td>\n",
              "      <td>0.000063</td>\n",
              "      <td>0.014105</td>\n",
              "      <td>-0.019744</td>\n",
              "      <td>0.006736</td>\n",
              "      <td>0.054839</td>\n",
              "    </tr>\n",
              "    <tr>\n",
              "      <th>number_vmail_messages</th>\n",
              "      <td>0.012450</td>\n",
              "      <td>0.003942</td>\n",
              "      <td>-0.043582</td>\n",
              "      <td>0.005582</td>\n",
              "      <td>1.013652</td>\n",
              "      <td>-0.002935</td>\n",
              "      <td>-0.030431</td>\n",
              "      <td>0.005215</td>\n",
              "      <td>-0.030776</td>\n",
              "      <td>-0.000788</td>\n",
              "      <td>-0.012768</td>\n",
              "      <td>-0.009998</td>\n",
              "      <td>-0.020543</td>\n",
              "      <td>0.124942</td>\n",
              "    </tr>\n",
              "    <tr>\n",
              "      <th>total_day_calls</th>\n",
              "      <td>-0.027260</td>\n",
              "      <td>0.018524</td>\n",
              "      <td>-0.003098</td>\n",
              "      <td>-0.010702</td>\n",
              "      <td>-0.002935</td>\n",
              "      <td>1.001953</td>\n",
              "      <td>0.002104</td>\n",
              "      <td>-0.003430</td>\n",
              "      <td>0.002250</td>\n",
              "      <td>0.007832</td>\n",
              "      <td>-0.002382</td>\n",
              "      <td>-0.011451</td>\n",
              "      <td>0.013951</td>\n",
              "      <td>-0.018494</td>\n",
              "    </tr>\n",
              "    <tr>\n",
              "      <th>total_day_charge</th>\n",
              "      <td>0.006226</td>\n",
              "      <td>0.020315</td>\n",
              "      <td>0.032925</td>\n",
              "      <td>-0.010041</td>\n",
              "      <td>-0.030431</td>\n",
              "      <td>0.002104</td>\n",
              "      <td>1.051936</td>\n",
              "      <td>-0.010298</td>\n",
              "      <td>0.034088</td>\n",
              "      <td>-0.006744</td>\n",
              "      <td>0.001134</td>\n",
              "      <td>0.035844</td>\n",
              "      <td>0.050182</td>\n",
              "      <td>-0.246976</td>\n",
              "    </tr>\n",
              "    <tr>\n",
              "      <th>total_eve_calls</th>\n",
              "      <td>-0.008834</td>\n",
              "      <td>0.011966</td>\n",
              "      <td>-0.006139</td>\n",
              "      <td>-0.004952</td>\n",
              "      <td>0.005215</td>\n",
              "      <td>-0.003430</td>\n",
              "      <td>-0.010298</td>\n",
              "      <td>1.000780</td>\n",
              "      <td>-0.004478</td>\n",
              "      <td>0.013634</td>\n",
              "      <td>-0.003016</td>\n",
              "      <td>0.006753</td>\n",
              "      <td>-0.009216</td>\n",
              "      <td>0.012581</td>\n",
              "    </tr>\n",
              "    <tr>\n",
              "      <th>total_eve_charge</th>\n",
              "      <td>0.011535</td>\n",
              "      <td>-0.006338</td>\n",
              "      <td>0.008241</td>\n",
              "      <td>-0.013069</td>\n",
              "      <td>-0.030776</td>\n",
              "      <td>0.002250</td>\n",
              "      <td>0.034088</td>\n",
              "      <td>-0.004478</td>\n",
              "      <td>1.012273</td>\n",
              "      <td>-0.014644</td>\n",
              "      <td>0.022569</td>\n",
              "      <td>0.008216</td>\n",
              "      <td>0.037983</td>\n",
              "      <td>-0.113182</td>\n",
              "    </tr>\n",
              "    <tr>\n",
              "      <th>total_night_calls</th>\n",
              "      <td>0.006977</td>\n",
              "      <td>-0.014171</td>\n",
              "      <td>-0.008608</td>\n",
              "      <td>0.000063</td>\n",
              "      <td>-0.000788</td>\n",
              "      <td>0.007832</td>\n",
              "      <td>-0.006744</td>\n",
              "      <td>0.013634</td>\n",
              "      <td>-0.014644</td>\n",
              "      <td>1.001672</td>\n",
              "      <td>-0.027912</td>\n",
              "      <td>-0.001170</td>\n",
              "      <td>0.005499</td>\n",
              "      <td>0.011998</td>\n",
              "    </tr>\n",
              "    <tr>\n",
              "      <th>total_night_charge</th>\n",
              "      <td>-0.000229</td>\n",
              "      <td>-0.002932</td>\n",
              "      <td>0.043584</td>\n",
              "      <td>0.014105</td>\n",
              "      <td>-0.012768</td>\n",
              "      <td>-0.002382</td>\n",
              "      <td>0.001134</td>\n",
              "      <td>-0.003016</td>\n",
              "      <td>0.022569</td>\n",
              "      <td>-0.027912</td>\n",
              "      <td>1.005873</td>\n",
              "      <td>0.009577</td>\n",
              "      <td>0.023566</td>\n",
              "      <td>-0.065826</td>\n",
              "    </tr>\n",
              "    <tr>\n",
              "      <th>total_intl_charge</th>\n",
              "      <td>0.001140</td>\n",
              "      <td>0.005056</td>\n",
              "      <td>-0.012542</td>\n",
              "      <td>-0.019744</td>\n",
              "      <td>-0.009998</td>\n",
              "      <td>-0.011451</td>\n",
              "      <td>0.035844</td>\n",
              "      <td>0.006753</td>\n",
              "      <td>0.008216</td>\n",
              "      <td>-0.001170</td>\n",
              "      <td>0.009577</td>\n",
              "      <td>1.006932</td>\n",
              "      <td>0.027785</td>\n",
              "      <td>-0.076745</td>\n",
              "    </tr>\n",
              "    <tr>\n",
              "      <th>number_customer_service_calls</th>\n",
              "      <td>0.005276</td>\n",
              "      <td>-0.021090</td>\n",
              "      <td>0.080470</td>\n",
              "      <td>0.006736</td>\n",
              "      <td>-0.020543</td>\n",
              "      <td>0.013951</td>\n",
              "      <td>0.050182</td>\n",
              "      <td>-0.009216</td>\n",
              "      <td>0.037983</td>\n",
              "      <td>0.005499</td>\n",
              "      <td>0.023566</td>\n",
              "      <td>0.027785</td>\n",
              "      <td>1.058861</td>\n",
              "      <td>-0.264407</td>\n",
              "    </tr>\n",
              "    <tr>\n",
              "      <th>churn</th>\n",
              "      <td>-0.021385</td>\n",
              "      <td>-0.000626</td>\n",
              "      <td>-0.311345</td>\n",
              "      <td>0.054839</td>\n",
              "      <td>0.124942</td>\n",
              "      <td>-0.018494</td>\n",
              "      <td>-0.246976</td>\n",
              "      <td>0.012581</td>\n",
              "      <td>-0.113182</td>\n",
              "      <td>0.011998</td>\n",
              "      <td>-0.065826</td>\n",
              "      <td>-0.076745</td>\n",
              "      <td>-0.264407</td>\n",
              "      <td>1.221835</td>\n",
              "    </tr>\n",
              "  </tbody>\n",
              "</table>\n",
              "</div>\n",
              "      <button class=\"colab-df-convert\" onclick=\"convertToInteractive('df-8cc541ef-71fe-43b5-b3fb-51f91a90bf9c')\"\n",
              "              title=\"Convert this dataframe to an interactive table.\"\n",
              "              style=\"display:none;\">\n",
              "        \n",
              "  <svg xmlns=\"http://www.w3.org/2000/svg\" height=\"24px\"viewBox=\"0 0 24 24\"\n",
              "       width=\"24px\">\n",
              "    <path d=\"M0 0h24v24H0V0z\" fill=\"none\"/>\n",
              "    <path d=\"M18.56 5.44l.94 2.06.94-2.06 2.06-.94-2.06-.94-.94-2.06-.94 2.06-2.06.94zm-11 1L8.5 8.5l.94-2.06 2.06-.94-2.06-.94L8.5 2.5l-.94 2.06-2.06.94zm10 10l.94 2.06.94-2.06 2.06-.94-2.06-.94-.94-2.06-.94 2.06-2.06.94z\"/><path d=\"M17.41 7.96l-1.37-1.37c-.4-.4-.92-.59-1.43-.59-.52 0-1.04.2-1.43.59L10.3 9.45l-7.72 7.72c-.78.78-.78 2.05 0 2.83L4 21.41c.39.39.9.59 1.41.59.51 0 1.02-.2 1.41-.59l7.78-7.78 2.81-2.81c.8-.78.8-2.07 0-2.86zM5.41 20L4 18.59l7.72-7.72 1.47 1.35L5.41 20z\"/>\n",
              "  </svg>\n",
              "      </button>\n",
              "      \n",
              "  <style>\n",
              "    .colab-df-container {\n",
              "      display:flex;\n",
              "      flex-wrap:wrap;\n",
              "      gap: 12px;\n",
              "    }\n",
              "\n",
              "    .colab-df-convert {\n",
              "      background-color: #E8F0FE;\n",
              "      border: none;\n",
              "      border-radius: 50%;\n",
              "      cursor: pointer;\n",
              "      display: none;\n",
              "      fill: #1967D2;\n",
              "      height: 32px;\n",
              "      padding: 0 0 0 0;\n",
              "      width: 32px;\n",
              "    }\n",
              "\n",
              "    .colab-df-convert:hover {\n",
              "      background-color: #E2EBFA;\n",
              "      box-shadow: 0px 1px 2px rgba(60, 64, 67, 0.3), 0px 1px 3px 1px rgba(60, 64, 67, 0.15);\n",
              "      fill: #174EA6;\n",
              "    }\n",
              "\n",
              "    [theme=dark] .colab-df-convert {\n",
              "      background-color: #3B4455;\n",
              "      fill: #D2E3FC;\n",
              "    }\n",
              "\n",
              "    [theme=dark] .colab-df-convert:hover {\n",
              "      background-color: #434B5C;\n",
              "      box-shadow: 0px 1px 3px 1px rgba(0, 0, 0, 0.15);\n",
              "      filter: drop-shadow(0px 1px 2px rgba(0, 0, 0, 0.3));\n",
              "      fill: #FFFFFF;\n",
              "    }\n",
              "  </style>\n",
              "\n",
              "      <script>\n",
              "        const buttonEl =\n",
              "          document.querySelector('#df-8cc541ef-71fe-43b5-b3fb-51f91a90bf9c button.colab-df-convert');\n",
              "        buttonEl.style.display =\n",
              "          google.colab.kernel.accessAllowed ? 'block' : 'none';\n",
              "\n",
              "        async function convertToInteractive(key) {\n",
              "          const element = document.querySelector('#df-8cc541ef-71fe-43b5-b3fb-51f91a90bf9c');\n",
              "          const dataTable =\n",
              "            await google.colab.kernel.invokeFunction('convertToInteractive',\n",
              "                                                     [key], {});\n",
              "          if (!dataTable) return;\n",
              "\n",
              "          const docLinkHtml = 'Like what you see? Visit the ' +\n",
              "            '<a target=\"_blank\" href=https://colab.research.google.com/notebooks/data_table.ipynb>data table notebook</a>'\n",
              "            + ' to learn more about interactive tables.';\n",
              "          element.innerHTML = '';\n",
              "          dataTable['output_type'] = 'display_data';\n",
              "          await google.colab.output.renderOutput(dataTable, element);\n",
              "          const docLink = document.createElement('div');\n",
              "          docLink.innerHTML = docLinkHtml;\n",
              "          element.appendChild(docLink);\n",
              "        }\n",
              "      </script>\n",
              "    </div>\n",
              "  </div>\n",
              "  "
            ],
            "text/plain": [
              "                               account_length  area_code  international_plan  \\\n",
              "account_length                       1.002339   0.017673           -0.010015   \n",
              "area_code                            0.017673   1.003202           -0.033461   \n",
              "international_plan                  -0.010015  -0.033461            1.084081   \n",
              "total_intl_calls                    -0.014693   0.012805           -0.017236   \n",
              "number_vmail_messages                0.012450   0.003942           -0.043582   \n",
              "total_day_calls                     -0.027260   0.018524           -0.003098   \n",
              "total_day_charge                     0.006226   0.020315            0.032925   \n",
              "total_eve_calls                     -0.008834   0.011966           -0.006139   \n",
              "total_eve_charge                     0.011535  -0.006338            0.008241   \n",
              "total_night_calls                    0.006977  -0.014171           -0.008608   \n",
              "total_night_charge                  -0.000229  -0.002932            0.043584   \n",
              "total_intl_charge                    0.001140   0.005056           -0.012542   \n",
              "number_customer_service_calls        0.005276  -0.021090            0.080470   \n",
              "churn                               -0.021385  -0.000626           -0.311345   \n",
              "\n",
              "                               total_intl_calls  number_vmail_messages  \\\n",
              "account_length                        -0.014693               0.012450   \n",
              "area_code                              0.012805               0.003942   \n",
              "international_plan                    -0.017236              -0.043582   \n",
              "total_intl_calls                       1.003978               0.005582   \n",
              "number_vmail_messages                  0.005582               1.013652   \n",
              "total_day_calls                       -0.010702              -0.002935   \n",
              "total_day_charge                      -0.010041              -0.030431   \n",
              "total_eve_calls                       -0.004952               0.005215   \n",
              "total_eve_charge                      -0.013069              -0.030776   \n",
              "total_night_calls                      0.000063              -0.000788   \n",
              "total_night_charge                     0.014105              -0.012768   \n",
              "total_intl_charge                     -0.019744              -0.009998   \n",
              "number_customer_service_calls          0.006736              -0.020543   \n",
              "churn                                  0.054839               0.124942   \n",
              "\n",
              "                               total_day_calls  total_day_charge  \\\n",
              "account_length                       -0.027260          0.006226   \n",
              "area_code                             0.018524          0.020315   \n",
              "international_plan                   -0.003098          0.032925   \n",
              "total_intl_calls                     -0.010702         -0.010041   \n",
              "number_vmail_messages                -0.002935         -0.030431   \n",
              "total_day_calls                       1.001953          0.002104   \n",
              "total_day_charge                      0.002104          1.051936   \n",
              "total_eve_calls                      -0.003430         -0.010298   \n",
              "total_eve_charge                      0.002250          0.034088   \n",
              "total_night_calls                     0.007832         -0.006744   \n",
              "total_night_charge                   -0.002382          0.001134   \n",
              "total_intl_charge                    -0.011451          0.035844   \n",
              "number_customer_service_calls         0.013951          0.050182   \n",
              "churn                                -0.018494         -0.246976   \n",
              "\n",
              "                               total_eve_calls  total_eve_charge  \\\n",
              "account_length                       -0.008834          0.011535   \n",
              "area_code                             0.011966         -0.006338   \n",
              "international_plan                   -0.006139          0.008241   \n",
              "total_intl_calls                     -0.004952         -0.013069   \n",
              "number_vmail_messages                 0.005215         -0.030776   \n",
              "total_day_calls                      -0.003430          0.002250   \n",
              "total_day_charge                     -0.010298          0.034088   \n",
              "total_eve_calls                       1.000780         -0.004478   \n",
              "total_eve_charge                     -0.004478          1.012273   \n",
              "total_night_calls                     0.013634         -0.014644   \n",
              "total_night_charge                   -0.003016          0.022569   \n",
              "total_intl_charge                     0.006753          0.008216   \n",
              "number_customer_service_calls        -0.009216          0.037983   \n",
              "churn                                 0.012581         -0.113182   \n",
              "\n",
              "                               total_night_calls  total_night_charge  \\\n",
              "account_length                          0.006977           -0.000229   \n",
              "area_code                              -0.014171           -0.002932   \n",
              "international_plan                     -0.008608            0.043584   \n",
              "total_intl_calls                        0.000063            0.014105   \n",
              "number_vmail_messages                  -0.000788           -0.012768   \n",
              "total_day_calls                         0.007832           -0.002382   \n",
              "total_day_charge                       -0.006744            0.001134   \n",
              "total_eve_calls                         0.013634           -0.003016   \n",
              "total_eve_charge                       -0.014644            0.022569   \n",
              "total_night_calls                       1.001672           -0.027912   \n",
              "total_night_charge                     -0.027912            1.005873   \n",
              "total_intl_charge                      -0.001170            0.009577   \n",
              "number_customer_service_calls           0.005499            0.023566   \n",
              "churn                                   0.011998           -0.065826   \n",
              "\n",
              "                               total_intl_charge  \\\n",
              "account_length                          0.001140   \n",
              "area_code                               0.005056   \n",
              "international_plan                     -0.012542   \n",
              "total_intl_calls                       -0.019744   \n",
              "number_vmail_messages                  -0.009998   \n",
              "total_day_calls                        -0.011451   \n",
              "total_day_charge                        0.035844   \n",
              "total_eve_calls                         0.006753   \n",
              "total_eve_charge                        0.008216   \n",
              "total_night_calls                      -0.001170   \n",
              "total_night_charge                      0.009577   \n",
              "total_intl_charge                       1.006932   \n",
              "number_customer_service_calls           0.027785   \n",
              "churn                                  -0.076745   \n",
              "\n",
              "                               number_customer_service_calls     churn  \n",
              "account_length                                      0.005276 -0.021385  \n",
              "area_code                                          -0.021090 -0.000626  \n",
              "international_plan                                  0.080470 -0.311345  \n",
              "total_intl_calls                                    0.006736  0.054839  \n",
              "number_vmail_messages                              -0.020543  0.124942  \n",
              "total_day_calls                                     0.013951 -0.018494  \n",
              "total_day_charge                                    0.050182 -0.246976  \n",
              "total_eve_calls                                    -0.009216  0.012581  \n",
              "total_eve_charge                                    0.037983 -0.113182  \n",
              "total_night_calls                                   0.005499  0.011998  \n",
              "total_night_charge                                  0.023566 -0.065826  \n",
              "total_intl_charge                                   0.027785 -0.076745  \n",
              "number_customer_service_calls                       1.058861 -0.264407  \n",
              "churn                                              -0.264407  1.221835  "
            ]
          },
          "metadata": {},
          "execution_count": 67
        }
      ]
    },
    {
      "cell_type": "markdown",
      "metadata": {
        "id": "op19kKC7asH-"
      },
      "source": [
        "We don't see any VIF score of 5 and above, which means our dataset does not have high levels of multicollinearity. We are, therefore, good to go."
      ]
    },
    {
      "cell_type": "markdown",
      "metadata": {
        "id": "z58VpwHoasH_"
      },
      "source": [
        "## <font color='#2F4F4F'>4. Data Modeling</font>"
      ]
    },
    {
      "cell_type": "markdown",
      "metadata": {
        "id": "WKm33MJYasH_"
      },
      "source": [
        "We will carry out 5 types of classification analysis, namely:\n",
        "1. Logistic Regression\n",
        "2. Gaussian Naive Bayes (NB) classification\n",
        "3. Decision Trees Classification\n",
        "4. K-Nearest Neighbors (KNN) Classification\n",
        "5. Support Vector Machine (SVM) Classification\n",
        "\n",
        "We will then compare the different classification models to assess the best performing one(s)."
      ]
    },
    {
      "cell_type": "code",
      "metadata": {
        "id": "wCVbM0xcasIL"
      },
      "source": [
        "# dividing our dataset into features (X) and target (y)\n",
        "\n",
        "x = df.iloc[:, 1:2].values\n",
        "y = df.iloc[:, 1].values "
      ],
      "execution_count": 43,
      "outputs": []
    },
    {
      "cell_type": "code",
      "source": [
        "y"
      ],
      "metadata": {
        "colab": {
          "base_uri": "https://localhost:8080/"
        },
        "id": "_0ZxyyoEugDO",
        "outputId": "5d18870c-d6c6-4d35-a17f-660db2602a52"
      },
      "execution_count": 44,
      "outputs": [
        {
          "output_type": "execute_result",
          "data": {
            "text/plain": [
              "array([510, 510, 408, ..., 510, 510, 415])"
            ]
          },
          "metadata": {},
          "execution_count": 44
        }
      ]
    },
    {
      "cell_type": "code",
      "source": [
        "x"
      ],
      "metadata": {
        "colab": {
          "base_uri": "https://localhost:8080/"
        },
        "id": "I2YQzNUbud68",
        "outputId": "e47c8c4e-fa44-4704-cbaa-3237f04d971f"
      },
      "execution_count": 45,
      "outputs": [
        {
          "output_type": "execute_result",
          "data": {
            "text/plain": [
              "array([[510],\n",
              "       [510],\n",
              "       [408],\n",
              "       ...,\n",
              "       [510],\n",
              "       [510],\n",
              "       [415]])"
            ]
          },
          "metadata": {},
          "execution_count": 45
        }
      ]
    },
    {
      "cell_type": "code",
      "metadata": {
        "id": "kByQ2gGOasIN"
      },
      "source": [
        "# splitting into 80-20 train-test sets\n",
        "from sklearn.model_selection import train_test_split\n",
        "x_train, x_test, y_train, y_test = train_test_split(x, y, test_size = 0.2, random_state = 0)"
      ],
      "execution_count": 46,
      "outputs": []
    },
    {
      "cell_type": "code",
      "metadata": {
        "id": "cLa8VQrUasIS"
      },
      "source": [
        "# performing feature scaling on our training data\n",
        "from sklearn.preprocessing import StandardScaler\n",
        "scaler = StandardScaler()\n",
        "\n",
        "# fitting and transforming X_train while transforming X_test\n",
        "from sklearn.preprocessing import MinMaxScaler  \n",
        "norm = MinMaxScaler().fit(x_train) \n",
        "features_train = norm.transform(x_train) \n",
        "x_test = norm.transform(x_test)"
      ],
      "execution_count": 47,
      "outputs": []
    },
    {
      "cell_type": "code",
      "metadata": {
        "id": "E3hBaXKTasIV"
      },
      "source": [
        "# loading our classification libraries\n",
        "from sklearn.linear_model import LogisticRegression # Logistic Regression Classifier\n",
        "from sklearn.tree import DecisionTreeClassifier     # Decision Tree Classifier\n",
        "from sklearn.svm import SVC                         # SVM Classifier\n",
        "from sklearn.naive_bayes import GaussianNB          # Naive Bayes Classifier\n",
        "from sklearn.neighbors import KNeighborsClassifier  # KNN Classifier"
      ],
      "execution_count": 48,
      "outputs": []
    },
    {
      "cell_type": "code",
      "source": [
        "# instantiating our classifiers\n",
        "logistic_classifier = LogisticRegression()\n",
        "decision_classifier = DecisionTreeClassifier()\n",
        "svm_classifier = SVC()\n",
        "knn_classifier = KNeighborsClassifier()\n",
        "naive_classifier = GaussianNB()"
      ],
      "metadata": {
        "id": "k4n4WDggLhn_"
      },
      "execution_count": 49,
      "outputs": []
    },
    {
      "cell_type": "code",
      "source": [
        "# fitting our classifiers to the training data\n",
        "logistic_classifier.fit(x_train, y_train)\n",
        "decision_classifier.fit(x_train, y_train)\n",
        "svm_classifier.fit(x_train, y_train)\n",
        "knn_classifier.fit(x_train, y_train)\n",
        "naive_classifier.fit(x_train, y_train)"
      ],
      "metadata": {
        "id": "-6e6jCcJLo_P"
      },
      "execution_count": null,
      "outputs": []
    },
    {
      "cell_type": "code",
      "source": [
        "# making predictions\n",
        "logistic_y_prediction = logistic_classifier.predict(x_test) \n",
        "decision_y_prediction = decision_classifier.predict(x_test) \n",
        "svm_y_prediction = svm_classifier.predict(x_test) \n",
        "knn_y_prediction = knn_classifier.predict(x_test) \n",
        "naive_y_prediction = naive_classifier.predict(x_test) "
      ],
      "metadata": {
        "id": "4KgRIkHIL4YF"
      },
      "execution_count": 54,
      "outputs": []
    },
    {
      "cell_type": "code",
      "metadata": {
        "id": "KfXCA87-asIf"
      },
      "source": [
        "# printing the classification report for each classifier to assess performance\n",
        "from sklearn.metrics import classification_report, accuracy_score \n",
        "\n",
        "# classification report for Logistic Regression\n",
        "print(\"Logistic Regression classification report:\")\n",
        "print(accuracy_score(logistic_y_prediction, y_test))\n",
        "\n",
        "# classification report for Gaussian Naive Bayes Classifier\n",
        "print(\"Gaussian Naive Bayes classification report:\")\n",
        "print(accuracy_score(naive_y_prediction, y_test))\n",
        "\n",
        "# classification report for Decision Tree Classifier\n",
        "print(\"Decision Tree classification report:\")\n",
        "print(accuracy_score(decision_y_prediction, y_test))\n",
        "\n",
        "# classification report for K-Nearest Neighbors Classifier\n",
        "print(\"K-Nearest Neighbors classification report:\")\n",
        "print(accuracy_score(knn_y_prediction, y_test))\n",
        "\n",
        "# classification report for Support Vector Machine Classifier\n",
        "print(\"Support Vector Machine classification report:\")\n",
        "print(accuracy_score(svm_y_prediction, y_test))"
      ],
      "execution_count": null,
      "outputs": []
    },
    {
      "cell_type": "markdown",
      "metadata": {
        "id": "UopMes2SasIl"
      },
      "source": [
        "WHat have you noticed about the performance of the various models? The models give us the same score of 0.246 which is quite low"
      ]
    },
    {
      "cell_type": "markdown",
      "source": [
        ""
      ],
      "metadata": {
        "id": "D_TE21fPNv24"
      }
    },
    {
      "cell_type": "markdown",
      "metadata": {
        "id": "vTbdjSrhVIiT"
      },
      "source": [
        "## <font color='#2F4F4F'>5. Summary of Findings</font>\n",
        "\n",
        "Include your findings from the analysis and modeling stages."
      ]
    },
    {
      "cell_type": "markdown",
      "metadata": {
        "id": "noZz5YRQXKzi"
      },
      "source": [
        "## <font color='#2F4F4F'>6. Recommendations</font>\n",
        "\n",
        "What recommendations can you provide? We could consider hyper parameter tuning to increase the accuracy of our models"
      ]
    },
    {
      "cell_type": "markdown",
      "metadata": {
        "id": "xrmHVMVsVS--"
      },
      "source": [
        "## <font color='#2F4F4F'>7. Challenging your Solution</font>\n",
        "\n",
        "What can you do to improve your project?"
      ]
    }
  ]
}