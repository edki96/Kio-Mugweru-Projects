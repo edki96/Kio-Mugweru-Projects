{
  "cells": [
    {
      "cell_type": "markdown",
      "metadata": {
        "id": "view-in-github",
        "colab_type": "text"
      },
      "source": [
        "<a href=\"https://colab.research.google.com/github/edki96/Kio-Mugweru-Projects/blob/main/Account_Allocation_Script.ipynb\" target=\"_parent\"><img src=\"https://colab.research.google.com/assets/colab-badge.svg\" alt=\"Open In Colab\"/></a>"
      ]
    },
    {
      "cell_type": "code",
      "execution_count": null,
      "metadata": {
        "colab": {
          "base_uri": "https://localhost:8080/"
        },
        "id": "x1JhWXmGk1VU",
        "outputId": "c849f668-4101-48de-f918-0d88e60778c2"
      },
      "outputs": [
        {
          "name": "stdout",
          "output_type": "stream",
          "text": [
            "Requirement already satisfied: pandas in /usr/local/lib/python3.11/dist-packages (2.2.2)\n",
            "Requirement already satisfied: openpyxl in /usr/local/lib/python3.11/dist-packages (3.1.5)\n",
            "Requirement already satisfied: schedule in /usr/local/lib/python3.11/dist-packages (1.2.2)\n",
            "Requirement already satisfied: holidays in /usr/local/lib/python3.11/dist-packages (0.76)\n",
            "Requirement already satisfied: numpy>=1.23.2 in /usr/local/lib/python3.11/dist-packages (from pandas) (2.0.2)\n",
            "Requirement already satisfied: python-dateutil>=2.8.2 in /usr/local/lib/python3.11/dist-packages (from pandas) (2.9.0.post0)\n",
            "Requirement already satisfied: pytz>=2020.1 in /usr/local/lib/python3.11/dist-packages (from pandas) (2025.2)\n",
            "Requirement already satisfied: tzdata>=2022.7 in /usr/local/lib/python3.11/dist-packages (from pandas) (2025.2)\n",
            "Requirement already satisfied: et-xmlfile in /usr/local/lib/python3.11/dist-packages (from openpyxl) (2.0.0)\n",
            "Requirement already satisfied: six>=1.5 in /usr/local/lib/python3.11/dist-packages (from python-dateutil>=2.8.2->pandas) (1.17.0)\n"
          ]
        }
      ],
      "source": [
        "pip install pandas openpyxl schedule holidays"
      ]
    },
    {
      "cell_type": "code",
      "execution_count": null,
      "metadata": {
        "id": "8dhCRH-Sk6a7"
      },
      "outputs": [],
      "source": [
        "import pandas as pd\n",
        "import schedule\n",
        "import time\n",
        "from datetime import datetime, timedelta\n",
        "from openpyxl import load_workbook\n",
        "import holidays\n",
        "import os\n",
        "\n",
        "# Constants\n",
        "FILE = 'Accounts_for_testing.xlsx'\n",
        "CUSTOMER_SHEET = 'Customers'\n",
        "MANAGER_SHEET = 'Agents'\n",
        "LOG_SHEET = 'AssignmentLog'\n",
        "KENYAN_HOLIDAYS = holidays.Kenya()\n",
        "MAX_PER_MANAGER = 500\n",
        "MAX_MONTHS = 3\n",
        "\n",
        "# Load Excel Data\n",
        "def load_data():\n",
        "    customers = pd.read_excel(FILE, sheet_name=CUSTOMER_SHEET)\n",
        "    managers = pd.read_excel(FILE, sheet_name=MANAGER_SHEET)\n",
        "    try:\n",
        "        log = pd.read_excel(FILE, sheet_name=LOG_SHEET)\n",
        "    except:\n",
        "        log = pd.DataFrame(columns=['Customer_ID', 'Manager_ID', 'FirstAssigned', 'LastContacted', 'LastPosition'])\n",
        "    return customers, managers, log\n",
        "\n",
        "# Check if today is valid\n",
        "def is_valid_day(today):\n",
        "    return today.weekday() != 6 and today not in KENYAN_HOLIDAYS\n",
        "\n"
      ]
    },
    {
      "cell_type": "code",
      "execution_count": null,
      "metadata": {
        "colab": {
          "background_save": true,
          "base_uri": "https://localhost:8080/"
        },
        "id": "g5EDOisXlJfz",
        "outputId": "31a78b55-0afc-4f86-daac-c89a29c7eaa5"
      },
      "outputs": [
        {
          "metadata": {
            "tags": null
          },
          "name": "stdout",
          "output_type": "stream",
          "text": [
            "▶ Running allocation for 2025-07-18\n",
            "✅ Allocated 20500 accounts.\n",
            "⏰ Scheduled to run daily at 07:00...\n"
          ]
        }
      ],
      "source": [
        "# Filter eligible accounts\n",
        "def get_eligible_accounts(customers, log, today):\n",
        "    merged = customers.merge(log, on='Customer_ID', how='left')\n",
        "    merged['FirstAssigned'] = pd.to_datetime(merged['FirstAssigned'], errors='coerce')\n",
        "    merged['LastContacted'] = pd.to_datetime(merged['LastContacted'], errors='coerce')\n",
        "    eligible = []\n",
        "\n",
        "    for _, row in merged.iterrows():\n",
        "        acc_id = row['Customer_ID']\n",
        "        first = row['FirstAssigned']\n",
        "        last = row['LastContacted']\n",
        "\n",
        "        # New account\n",
        "        if pd.isna(first):\n",
        "            eligible.append((acc_id, None, None))\n",
        "        # Within 3 months and not yet contacted today\n",
        "        elif (today - first.date()) < timedelta(days=MAX_MONTHS * 30):\n",
        "            if pd.isna(last) or last.date() != today:\n",
        "                eligible.append((acc_id, row['Manager_ID'], row['LastPosition']))\n",
        "    return eligible\n",
        "\n",
        "# Assign accounts\n",
        "def allocate_accounts(eligible_accounts, managers, today):\n",
        "    allocations = []\n",
        "    manager_ids = list(managers['Manager_ID'])\n",
        "    manager_counts = {mid: 0 for mid in manager_ids}\n",
        "    acc_queue = []\n",
        "\n",
        "    # Ensure top-to-bottom by row order (same order as customer list)\n",
        "    for acc in eligible_accounts:\n",
        "        acc_queue.append(acc)\n",
        "\n",
        "    for acc_id, prev_manager, prev_pos in acc_queue:\n",
        "        assigned = False\n",
        "\n",
        "        # Reuse previous manager if within limits\n",
        "        if prev_manager and manager_counts[prev_manager] < MAX_PER_MANAGER:\n",
        "            allocations.append({'Customer_ID': acc_id, 'Manager_ID': prev_manager, 'AllocationDate': today})\n",
        "            manager_counts[prev_manager] += 1\n",
        "            assigned = True\n",
        "        elif not assigned:\n",
        "            # Pick first manager with available quota\n",
        "            for mid in manager_ids:\n",
        "                if manager_counts[mid] < MAX_PER_MANAGER:\n",
        "                    allocations.append({'Customer_ID': acc_id, 'Manager_ID': mid, 'AllocationDate': today})\n",
        "                    manager_counts[mid] += 1\n",
        "                    break\n",
        "        # Stop if all managers full\n",
        "        if all(v >= MAX_PER_MANAGER for v in manager_counts.values()):\n",
        "            break\n",
        "    return pd.DataFrame(allocations)\n",
        "\n",
        "# Update log\n",
        "def update_log(log, allocations):\n",
        "    today = allocations['AllocationDate'].iloc[0]\n",
        "    for _, row in allocations.iterrows():\n",
        "        acc_id = row['Customer_ID']\n",
        "        manager = row['Manager_ID']\n",
        "        existing = log[log['Customer_ID'] == acc_id]\n",
        "\n",
        "        if existing.empty:\n",
        "            log = pd.concat([log, pd.DataFrame([{\n",
        "                'Customer_ID': acc_id,\n",
        "                'Manager_ID': manager,\n",
        "                'FirstAssigned': today,\n",
        "                'LastContacted': today,\n",
        "                'LastPosition': None\n",
        "            }])])\n",
        "        else:\n",
        "            log.loc[log['Customer_ID'] == acc_id, 'LastContacted'] = today\n",
        "    return log\n",
        "\n",
        "# Report\n",
        "def generate_report(allocations):\n",
        "    return allocations.groupby('Manager_ID').size().reset_index(name='AccountsAssigned')\n",
        "\n",
        "# Save\n",
        "def save_to_excel(allocations, report, log, today):\n",
        "    date_str = today.strftime('%d%m%Y')\n",
        "    with pd.ExcelWriter(FILE, engine='openpyxl', mode='a', if_sheet_exists='replace') as writer:\n",
        "        allocations.to_excel(writer, sheet_name=date_str, index=False)\n",
        "        report.to_excel(writer, sheet_name=f'Report_{date_str}', index=False)\n",
        "        log.to_excel(writer, sheet_name=LOG_SHEET, index=False)\n",
        "\n",
        "# Main Job\n",
        "def run_allocation(initial_run=False):\n",
        "    today = datetime.today().date()\n",
        "    print(f\"▶ Running allocation for {today}\")\n",
        "\n",
        "    if not is_valid_day(today) and not initial_run:\n",
        "        print(\"⛔ Not a working day in Kenya.\")\n",
        "        return\n",
        "\n",
        "    customers, managers, log = load_data()\n",
        "    eligible = get_eligible_accounts(customers, log, today)\n",
        "    if not eligible:\n",
        "        print(\"⚠ No eligible accounts found.\")\n",
        "        return\n",
        "\n",
        "    allocations = allocate_accounts(eligible, managers, today)\n",
        "    updated_log = update_log(log, allocations)\n",
        "    report = generate_report(allocations)\n",
        "    save_to_excel(allocations, report, updated_log, today)\n",
        "    print(f\"✅ Allocated {len(allocations)} accounts.\")\n",
        "\n",
        "# First run immediately\n",
        "run_allocation(initial_run=True)\n",
        "\n",
        "# Schedule every day at 7AM\n",
        "schedule.every().day.at(\"07:00\").do(run_allocation)\n",
        "\n",
        "print(\"⏰ Scheduled to run daily at 07:00...\")\n",
        "\n",
        "while True:\n",
        "    schedule.run_pending()\n",
        "    time.sleep(60)\n"
      ]
    }
  ],
  "metadata": {
    "colab": {
      "provenance": [],
      "authorship_tag": "ABX9TyPn1vfF+h3dFNFCBYfhr6By",
      "include_colab_link": true
    },
    "kernelspec": {
      "display_name": "Python 3",
      "name": "python3"
    },
    "language_info": {
      "name": "python"
    }
  },
  "nbformat": 4,
  "nbformat_minor": 0
}