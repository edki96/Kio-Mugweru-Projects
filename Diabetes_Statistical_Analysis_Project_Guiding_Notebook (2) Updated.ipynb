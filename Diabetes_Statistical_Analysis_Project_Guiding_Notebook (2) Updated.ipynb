{
  "nbformat": 4,
  "nbformat_minor": 0,
  "metadata": {
    "colab": {
      "name": "Diabetes Statistical Analysis Project - Guiding Notebook.ipynb",
      "provenance": [],
      "collapsed_sections": [
        "kLG2VTrnTvYL",
        "XecOwPNorl2W",
        "J4wfHZwQrs-t",
        "a9BPYqunry97",
        "7KMRBJ7zr9HD",
        "zSGyg6kWsBUl",
        "iUNbvIvnT7ep",
        "xvs-X851ZAb_",
        "pSm8G5AsZAcA",
        "3lxiprbCZAeH",
        "vTbdjSrhVIiT",
        "noZz5YRQXKzi",
        "xrmHVMVsVS--",
        "HPQviDmNtta8",
        "CbQa-2odZAhb"
      ],
      "toc_visible": true
    },
    "kernelspec": {
      "display_name": "Python 3",
      "language": "python",
      "name": "python3"
    },
    "language_info": {
      "codemirror_mode": {
        "name": "ipython",
        "version": 3
      },
      "file_extension": ".py",
      "mimetype": "text/x-python",
      "name": "python",
      "nbconvert_exporter": "python",
      "pygments_lexer": "ipython3",
      "version": "3.7.4"
    }
  },
  "cells": [
    {
      "cell_type": "markdown",
      "metadata": {
        "id": "kLG2VTrnTvYL"
      },
      "source": [
        "## <font color='#2F4F4F'>1. Defining the Question</font>"
      ]
    },
    {
      "cell_type": "markdown",
      "metadata": {
        "id": "XecOwPNorl2W"
      },
      "source": [
        "### a) Specifying the Data Analysis Question\n",
        "\n",
        "What is your research question? What problem is it that you are trying to solve?"
      ]
    },
    {
      "cell_type": "markdown",
      "metadata": {
        "id": "J4wfHZwQrs-t"
      },
      "source": [
        "### b) Defining the Metric for Success\n",
        "\n",
        "What will convince you that your project has succeeded?"
      ]
    },
    {
      "cell_type": "markdown",
      "metadata": {
        "id": "a9BPYqunry97"
      },
      "source": [
        "### c) Understanding the context \n",
        "\n",
        "The background information surrounding the problem or research question."
      ]
    },
    {
      "cell_type": "markdown",
      "metadata": {
        "id": "7KMRBJ7zr9HD"
      },
      "source": [
        "### d) Recording the Experimental Design\n",
        "\n",
        "The steps you will take from the beginning to the end of this project."
      ]
    },
    {
      "cell_type": "markdown",
      "metadata": {
        "id": "zSGyg6kWsBUl"
      },
      "source": [
        "### e) Data Relevance\n",
        "\n",
        "Is your data relevant to the problem or research question?"
      ]
    },
    {
      "cell_type": "markdown",
      "metadata": {
        "id": "iUNbvIvnT7ep"
      },
      "source": [
        "## <font color='#2F4F4F'>2. Data Cleaning & Preparation</font>"
      ]
    },
    {
      "cell_type": "code",
      "metadata": {
        "id": "AMreDPhDZAbP"
      },
      "source": [
        "# load libraries\n",
        "import pandas as pd\n",
        "\n",
        "import matplotlib.pyplot as plt\n",
        "import seaborn as sns"
      ],
      "execution_count": 1,
      "outputs": []
    },
    {
      "cell_type": "code",
      "metadata": {
        "id": "XJn2KjW-WMlG",
        "colab": {
          "base_uri": "https://localhost:8080/",
          "height": 141
        },
        "outputId": "6bb26348-7eac-4f35-a5a1-d9a14c36d604"
      },
      "source": [
        "# load and preview dataset\n",
        "diabetes_df = pd.read_csv('https://bit.ly/3eoAbDS')\n",
        "#diabetes = pd.read_csv('datasets_185987_416528_diabetes2.csv')\n",
        "diabetes_df.sample(3)"
      ],
      "execution_count": 6,
      "outputs": [
        {
          "output_type": "execute_result",
          "data": {
            "text/html": [
              "<div>\n",
              "<style scoped>\n",
              "    .dataframe tbody tr th:only-of-type {\n",
              "        vertical-align: middle;\n",
              "    }\n",
              "\n",
              "    .dataframe tbody tr th {\n",
              "        vertical-align: top;\n",
              "    }\n",
              "\n",
              "    .dataframe thead th {\n",
              "        text-align: right;\n",
              "    }\n",
              "</style>\n",
              "<table border=\"1\" class=\"dataframe\">\n",
              "  <thead>\n",
              "    <tr style=\"text-align: right;\">\n",
              "      <th></th>\n",
              "      <th>Pregnancies</th>\n",
              "      <th>Glucose</th>\n",
              "      <th>BloodPressure</th>\n",
              "      <th>SkinThickness</th>\n",
              "      <th>Insulin</th>\n",
              "      <th>BMI</th>\n",
              "      <th>DiabetesPedigreeFunction</th>\n",
              "      <th>Age</th>\n",
              "      <th>Outcome</th>\n",
              "    </tr>\n",
              "  </thead>\n",
              "  <tbody>\n",
              "    <tr>\n",
              "      <th>604</th>\n",
              "      <td>4</td>\n",
              "      <td>183</td>\n",
              "      <td>0</td>\n",
              "      <td>0</td>\n",
              "      <td>0</td>\n",
              "      <td>28.4</td>\n",
              "      <td>0.212</td>\n",
              "      <td>36</td>\n",
              "      <td>1</td>\n",
              "    </tr>\n",
              "    <tr>\n",
              "      <th>368</th>\n",
              "      <td>3</td>\n",
              "      <td>81</td>\n",
              "      <td>86</td>\n",
              "      <td>16</td>\n",
              "      <td>66</td>\n",
              "      <td>27.5</td>\n",
              "      <td>0.306</td>\n",
              "      <td>22</td>\n",
              "      <td>0</td>\n",
              "    </tr>\n",
              "    <tr>\n",
              "      <th>178</th>\n",
              "      <td>5</td>\n",
              "      <td>143</td>\n",
              "      <td>78</td>\n",
              "      <td>0</td>\n",
              "      <td>0</td>\n",
              "      <td>45.0</td>\n",
              "      <td>0.190</td>\n",
              "      <td>47</td>\n",
              "      <td>0</td>\n",
              "    </tr>\n",
              "  </tbody>\n",
              "</table>\n",
              "</div>"
            ],
            "text/plain": [
              "     Pregnancies  Glucose  ...  Age  Outcome\n",
              "604            4      183  ...   36        1\n",
              "368            3       81  ...   22        0\n",
              "178            5      143  ...   47        0\n",
              "\n",
              "[3 rows x 9 columns]"
            ]
          },
          "metadata": {},
          "execution_count": 6
        }
      ]
    },
    {
      "cell_type": "code",
      "metadata": {
        "id": "D6g3-iURZAbq",
        "colab": {
          "base_uri": "https://localhost:8080/"
        },
        "outputId": "5c094e37-b53f-4437-bc88-d842871aec98"
      },
      "source": [
        "# preview dataset shape\n",
        "\n",
        "diabetes_df.shape"
      ],
      "execution_count": 8,
      "outputs": [
        {
          "output_type": "execute_result",
          "data": {
            "text/plain": [
              "(768, 9)"
            ]
          },
          "metadata": {},
          "execution_count": 8
        }
      ]
    },
    {
      "cell_type": "markdown",
      "metadata": {
        "id": "CSRb4dvwQe-u"
      },
      "source": [
        "Our data has 768 rows and 9 columns"
      ]
    },
    {
      "cell_type": "code",
      "metadata": {
        "id": "wJUqDIg8ZAbu",
        "colab": {
          "base_uri": "https://localhost:8080/"
        },
        "outputId": "e5439ecb-eabb-4515-978c-33e25b9ee46a"
      },
      "source": [
        "# look for duplicates\n",
        "\n",
        "sum(diabetes_df.duplicated()) "
      ],
      "execution_count": 10,
      "outputs": [
        {
          "output_type": "execute_result",
          "data": {
            "text/plain": [
              "0"
            ]
          },
          "metadata": {},
          "execution_count": 10
        }
      ]
    },
    {
      "cell_type": "markdown",
      "metadata": {
        "id": "Mo5JSrY2QbF3"
      },
      "source": [
        "We do not have any duplicates in our data frame"
      ]
    },
    {
      "cell_type": "code",
      "metadata": {
        "id": "7ehwywpWZAby",
        "colab": {
          "base_uri": "https://localhost:8080/"
        },
        "outputId": "d58e9d4b-a95f-4df7-e6e9-f01f9d398900"
      },
      "source": [
        "# look for missing records\n",
        "\n",
        "diabetes_df.isnull().any()"
      ],
      "execution_count": 12,
      "outputs": [
        {
          "output_type": "execute_result",
          "data": {
            "text/plain": [
              "Pregnancies                 False\n",
              "Glucose                     False\n",
              "BloodPressure               False\n",
              "SkinThickness               False\n",
              "Insulin                     False\n",
              "BMI                         False\n",
              "DiabetesPedigreeFunction    False\n",
              "Age                         False\n",
              "Outcome                     False\n",
              "dtype: bool"
            ]
          },
          "metadata": {},
          "execution_count": 12
        }
      ]
    },
    {
      "cell_type": "markdown",
      "metadata": {
        "id": "nAJV4Fn9QW4Y"
      },
      "source": [
        "We do not have any missing record in our data frame"
      ]
    },
    {
      "cell_type": "code",
      "metadata": {
        "id": "_Hfd5Iw4ZAb1",
        "colab": {
          "base_uri": "https://localhost:8080/"
        },
        "outputId": "c9cb7c1b-8c83-4110-c2ab-45b37b5c285f"
      },
      "source": [
        "# preview datatypes\n",
        "\n",
        "diabetes_df.dtypes"
      ],
      "execution_count": 15,
      "outputs": [
        {
          "output_type": "execute_result",
          "data": {
            "text/plain": [
              "Pregnancies                   int64\n",
              "Glucose                       int64\n",
              "BloodPressure                 int64\n",
              "SkinThickness                 int64\n",
              "Insulin                       int64\n",
              "BMI                         float64\n",
              "DiabetesPedigreeFunction    float64\n",
              "Age                           int64\n",
              "Outcome                       int64\n",
              "dtype: object"
            ]
          },
          "metadata": {},
          "execution_count": 15
        }
      ]
    },
    {
      "cell_type": "code",
      "metadata": {
        "id": "rLFc529BZAb8",
        "colab": {
          "base_uri": "https://localhost:8080/",
          "height": 204
        },
        "outputId": "8097b6b8-232e-4de8-91b6-14b510ea8454"
      },
      "source": [
        "# check for outliers\n",
        "\n",
        "outliersc_df = pd.read_csv(\"https://bit.ly/3eoAbDS\")\n",
        "outliersc_df.head()"
      ],
      "execution_count": 16,
      "outputs": [
        {
          "output_type": "execute_result",
          "data": {
            "text/html": [
              "<div>\n",
              "<style scoped>\n",
              "    .dataframe tbody tr th:only-of-type {\n",
              "        vertical-align: middle;\n",
              "    }\n",
              "\n",
              "    .dataframe tbody tr th {\n",
              "        vertical-align: top;\n",
              "    }\n",
              "\n",
              "    .dataframe thead th {\n",
              "        text-align: right;\n",
              "    }\n",
              "</style>\n",
              "<table border=\"1\" class=\"dataframe\">\n",
              "  <thead>\n",
              "    <tr style=\"text-align: right;\">\n",
              "      <th></th>\n",
              "      <th>Pregnancies</th>\n",
              "      <th>Glucose</th>\n",
              "      <th>BloodPressure</th>\n",
              "      <th>SkinThickness</th>\n",
              "      <th>Insulin</th>\n",
              "      <th>BMI</th>\n",
              "      <th>DiabetesPedigreeFunction</th>\n",
              "      <th>Age</th>\n",
              "      <th>Outcome</th>\n",
              "    </tr>\n",
              "  </thead>\n",
              "  <tbody>\n",
              "    <tr>\n",
              "      <th>0</th>\n",
              "      <td>6</td>\n",
              "      <td>148</td>\n",
              "      <td>72</td>\n",
              "      <td>35</td>\n",
              "      <td>0</td>\n",
              "      <td>33.6</td>\n",
              "      <td>0.627</td>\n",
              "      <td>50</td>\n",
              "      <td>1</td>\n",
              "    </tr>\n",
              "    <tr>\n",
              "      <th>1</th>\n",
              "      <td>1</td>\n",
              "      <td>85</td>\n",
              "      <td>66</td>\n",
              "      <td>29</td>\n",
              "      <td>0</td>\n",
              "      <td>26.6</td>\n",
              "      <td>0.351</td>\n",
              "      <td>31</td>\n",
              "      <td>0</td>\n",
              "    </tr>\n",
              "    <tr>\n",
              "      <th>2</th>\n",
              "      <td>8</td>\n",
              "      <td>183</td>\n",
              "      <td>64</td>\n",
              "      <td>0</td>\n",
              "      <td>0</td>\n",
              "      <td>23.3</td>\n",
              "      <td>0.672</td>\n",
              "      <td>32</td>\n",
              "      <td>1</td>\n",
              "    </tr>\n",
              "    <tr>\n",
              "      <th>3</th>\n",
              "      <td>1</td>\n",
              "      <td>89</td>\n",
              "      <td>66</td>\n",
              "      <td>23</td>\n",
              "      <td>94</td>\n",
              "      <td>28.1</td>\n",
              "      <td>0.167</td>\n",
              "      <td>21</td>\n",
              "      <td>0</td>\n",
              "    </tr>\n",
              "    <tr>\n",
              "      <th>4</th>\n",
              "      <td>0</td>\n",
              "      <td>137</td>\n",
              "      <td>40</td>\n",
              "      <td>35</td>\n",
              "      <td>168</td>\n",
              "      <td>43.1</td>\n",
              "      <td>2.288</td>\n",
              "      <td>33</td>\n",
              "      <td>1</td>\n",
              "    </tr>\n",
              "  </tbody>\n",
              "</table>\n",
              "</div>"
            ],
            "text/plain": [
              "   Pregnancies  Glucose  BloodPressure  ...  DiabetesPedigreeFunction  Age  Outcome\n",
              "0            6      148             72  ...                     0.627   50        1\n",
              "1            1       85             66  ...                     0.351   31        0\n",
              "2            8      183             64  ...                     0.672   32        1\n",
              "3            1       89             66  ...                     0.167   21        0\n",
              "4            0      137             40  ...                     2.288   33        1\n",
              "\n",
              "[5 rows x 9 columns]"
            ]
          },
          "metadata": {},
          "execution_count": 16
        }
      ]
    },
    {
      "cell_type": "markdown",
      "metadata": {
        "id": "xvs-X851ZAb_"
      },
      "source": [
        "## <font color='#2F4F4F'>3. Data Analysis</font>"
      ]
    },
    {
      "cell_type": "markdown",
      "metadata": {
        "id": "pSm8G5AsZAcA"
      },
      "source": [
        "### 3.1 General Analysis"
      ]
    },
    {
      "cell_type": "code",
      "metadata": {
        "id": "1ppD3jdkZAcB",
        "colab": {
          "base_uri": "https://localhost:8080/",
          "height": 351
        },
        "outputId": "a82271fd-1db3-4637-af83-5c52e5964ed9"
      },
      "source": [
        "# distribution of Pregnancies\n",
        "fig, axes = plt.subplots(nrows = 1, ncols = 2, figsize = (12, 4))\n",
        "\n",
        "plt.subplot(1, 2, 1)\n",
        "diabetes.Pregnancies.hist(color = '#ff7f0e')\n",
        "plt.title('Histogram of Pregnancies')\n",
        "\n",
        "plt.subplot(1, 2, 2)\n",
        "sns.boxplot(diabetes.Pregnancies, color = '#9467bd')\n",
        "plt.title('Box plot of Pregnancies')\n",
        "\n",
        "plt.show()"
      ],
      "execution_count": 21,
      "outputs": [
        {
          "output_type": "stream",
          "name": "stderr",
          "text": [
            "/usr/local/lib/python3.7/dist-packages/seaborn/_decorators.py:43: FutureWarning: Pass the following variable as a keyword arg: x. From version 0.12, the only valid positional argument will be `data`, and passing other arguments without an explicit keyword will result in an error or misinterpretation.\n",
            "  FutureWarning\n"
          ]
        },
        {
          "output_type": "display_data",
          "data": {
            "image/png": "[encoded data removed]",
            "text/plain": [
              "<Figure size 864x288 with 2 Axes>"
            ]
          },
          "metadata": {
            "needs_background": "light"
          }
        }
      ]
    },
    {
      "cell_type": "code",
      "metadata": {
        "id": "X8yE4EwKZAcP",
        "colab": {
          "base_uri": "https://localhost:8080/"
        },
        "outputId": "fa5461e9-9833-4029-85cb-4a9d91fef2bb"
      },
      "source": [
        "# summary statistics of Pregnancies\n",
        "diabetes.Pregnancies.describe()"
      ],
      "execution_count": 18,
      "outputs": [
        {
          "output_type": "execute_result",
          "data": {
            "text/plain": [
              "count    768.000000\n",
              "mean       3.845052\n",
              "std        3.369578\n",
              "min        0.000000\n",
              "25%        1.000000\n",
              "50%        3.000000\n",
              "75%        6.000000\n",
              "max       17.000000\n",
              "Name: Pregnancies, dtype: float64"
            ]
          },
          "metadata": {},
          "execution_count": 18
        }
      ]
    },
    {
      "cell_type": "markdown",
      "metadata": {
        "id": "fPpMNHkiZAcY"
      },
      "source": [
        "What do you observe about the Pregnancies variable? We have outliers on the higher side and the data is positvely skewed"
      ]
    },
    {
      "cell_type": "code",
      "metadata": {
        "id": "cY1vqvh2ZAce",
        "colab": {
          "base_uri": "https://localhost:8080/",
          "height": 351
        },
        "outputId": "ebddd8c9-bec3-4737-c35e-09b4049d64b4"
      },
      "source": [
        "# distribution of Glucose\n",
        "\n",
        "fig, axes = plt.subplots(nrows = 1, ncols = 2, figsize = (12, 4))\n",
        "\n",
        "plt.subplot(1, 2, 1)\n",
        "diabetes.Glucose.hist(color = 'blue')\n",
        "plt.title('Histogram of Glucose distribution')\n",
        "\n",
        "plt.subplot(1, 2, 2)\n",
        "sns.boxplot(diabetes.Glucose, color = 'green')\n",
        "plt.title('Box plot of Glucose distribution')\n",
        "\n",
        "plt.show()"
      ],
      "execution_count": 23,
      "outputs": [
        {
          "output_type": "stream",
          "name": "stderr",
          "text": [
            "/usr/local/lib/python3.7/dist-packages/seaborn/_decorators.py:43: FutureWarning: Pass the following variable as a keyword arg: x. From version 0.12, the only valid positional argument will be `data`, and passing other arguments without an explicit keyword will result in an error or misinterpretation.\n",
            "  FutureWarning\n"
          ]
        },
        {
          "output_type": "display_data",
          "data": {
            "image/png": "[encoded data removed]",
            "text/plain": [
              "<Figure size 864x288 with 2 Axes>"
            ]
          },
          "metadata": {
            "needs_background": "light"
          }
        }
      ]
    },
    {
      "cell_type": "code",
      "metadata": {
        "id": "xfKKayNNZAcj",
        "colab": {
          "base_uri": "https://localhost:8080/"
        },
        "outputId": "22713d48-e2fb-4304-df30-118c9ed33532"
      },
      "source": [
        "# summary statistics of Glucose\n",
        "diabetes.Glucose.describe()"
      ],
      "execution_count": 24,
      "outputs": [
        {
          "output_type": "execute_result",
          "data": {
            "text/plain": [
              "count    768.000000\n",
              "mean     120.894531\n",
              "std       31.972618\n",
              "min        0.000000\n",
              "25%       99.000000\n",
              "50%      117.000000\n",
              "75%      140.250000\n",
              "max      199.000000\n",
              "Name: Glucose, dtype: float64"
            ]
          },
          "metadata": {},
          "execution_count": 24
        }
      ]
    },
    {
      "cell_type": "markdown",
      "metadata": {
        "id": "cV7layUoZAcm"
      },
      "source": [
        "What do you observe about the Glucose variable? The mean glucose distirbution is 120 and we have no outliers on the higher values. Data is negatively skewed"
      ]
    },
    {
      "cell_type": "code",
      "metadata": {
        "id": "KEGK2U7RZAcn"
      },
      "source": [
        ""
      ],
      "execution_count": null,
      "outputs": []
    },
    {
      "cell_type": "code",
      "metadata": {
        "id": "zVUfjFBhZAcv",
        "colab": {
          "base_uri": "https://localhost:8080/",
          "height": 351
        },
        "outputId": "08ec8def-546f-465b-cce6-1f1962066a78"
      },
      "source": [
        "# distribution of BloodPressure\n",
        "\n",
        "fig, axes = plt.subplots(nrows = 1, ncols = 2, figsize = (12, 4))\n",
        "\n",
        "plt.subplot(1, 2, 1)\n",
        "diabetes.BloodPressure.hist(color = 'black')\n",
        "plt.title('Histogram of BloodPressure')\n",
        "\n",
        "plt.subplot(1, 2, 2)\n",
        "sns.boxplot(diabetes.BloodPressure, color = 'purple')\n",
        "plt.title('Box plot of BloodPressure')\n",
        "\n",
        "plt.show()"
      ],
      "execution_count": 25,
      "outputs": [
        {
          "output_type": "stream",
          "name": "stderr",
          "text": [
            "/usr/local/lib/python3.7/dist-packages/seaborn/_decorators.py:43: FutureWarning: Pass the following variable as a keyword arg: x. From version 0.12, the only valid positional argument will be `data`, and passing other arguments without an explicit keyword will result in an error or misinterpretation.\n",
            "  FutureWarning\n"
          ]
        },
        {
          "output_type": "display_data",
          "data": {
            "image/png": "[encoded data removed]",
            "text/plain": [
              "<Figure size 864x288 with 2 Axes>"
            ]
          },
          "metadata": {
            "needs_background": "light"
          }
        }
      ]
    },
    {
      "cell_type": "code",
      "metadata": {
        "id": "p6_BfRIIZAcz",
        "colab": {
          "base_uri": "https://localhost:8080/"
        },
        "outputId": "aa98a12a-abb5-4eca-bcda-680b71492c49"
      },
      "source": [
        "# summary statistics of BloodPressure\n",
        "\n",
        "diabetes.BloodPressure.describe()"
      ],
      "execution_count": 26,
      "outputs": [
        {
          "output_type": "execute_result",
          "data": {
            "text/plain": [
              "count    768.000000\n",
              "mean      69.105469\n",
              "std       19.355807\n",
              "min        0.000000\n",
              "25%       62.000000\n",
              "50%       72.000000\n",
              "75%       80.000000\n",
              "max      122.000000\n",
              "Name: BloodPressure, dtype: float64"
            ]
          },
          "metadata": {},
          "execution_count": 26
        }
      ]
    },
    {
      "cell_type": "markdown",
      "metadata": {
        "id": "sDiu5Aj-ZAc4"
      },
      "source": [
        "Note your observations."
      ]
    },
    {
      "cell_type": "code",
      "metadata": {
        "id": "xXqEyOlvZAc9",
        "colab": {
          "base_uri": "https://localhost:8080/",
          "height": 351
        },
        "outputId": "6fe46a49-798c-4467-fe3b-08b016b08256"
      },
      "source": [
        "# distribution of SkinThickness\n",
        "\n",
        "fig, axes = plt.subplots(nrows = 1, ncols = 2, figsize = (12, 4))\n",
        "\n",
        "plt.subplot(1, 2, 1)\n",
        "diabetes.SkinThickness.hist(color = 'red')\n",
        "plt.title('Histogram of SkinThickness')\n",
        "\n",
        "plt.subplot(1, 2, 2)\n",
        "sns.boxplot(diabetes.SkinThickness, color = 'yellow')\n",
        "plt.title('Box plot of SkinThickness')\n",
        "\n",
        "plt.show()"
      ],
      "execution_count": 29,
      "outputs": [
        {
          "output_type": "stream",
          "name": "stderr",
          "text": [
            "/usr/local/lib/python3.7/dist-packages/seaborn/_decorators.py:43: FutureWarning: Pass the following variable as a keyword arg: x. From version 0.12, the only valid positional argument will be `data`, and passing other arguments without an explicit keyword will result in an error or misinterpretation.\n",
            "  FutureWarning\n"
          ]
        },
        {
          "output_type": "display_data",
          "data": {
            "image/png": "[encoded data removed]",
            "text/plain": [
              "<Figure size 864x288 with 2 Axes>"
            ]
          },
          "metadata": {
            "needs_background": "light"
          }
        }
      ]
    },
    {
      "cell_type": "code",
      "metadata": {
        "id": "CsgtvCAnZAdB",
        "colab": {
          "base_uri": "https://localhost:8080/"
        },
        "outputId": "cb867752-68b0-466b-9716-8d41cb5f62d5"
      },
      "source": [
        "# summary statistics of SkinThickness\n",
        "\n",
        "diabetes.SkinThickness.describe()"
      ],
      "execution_count": 30,
      "outputs": [
        {
          "output_type": "execute_result",
          "data": {
            "text/plain": [
              "count    768.000000\n",
              "mean      20.536458\n",
              "std       15.952218\n",
              "min        0.000000\n",
              "25%        0.000000\n",
              "50%       23.000000\n",
              "75%       32.000000\n",
              "max       99.000000\n",
              "Name: SkinThickness, dtype: float64"
            ]
          },
          "metadata": {},
          "execution_count": 30
        }
      ]
    },
    {
      "cell_type": "markdown",
      "metadata": {
        "id": "wBiwdAAXZAdE"
      },
      "source": [
        "Note your observations.Negatively skewed with some outliers on the higher side"
      ]
    },
    {
      "cell_type": "code",
      "metadata": {
        "id": "II8w8PDnZAdI",
        "colab": {
          "base_uri": "https://localhost:8080/",
          "height": 351
        },
        "outputId": "8d0f4453-b6a7-4aa7-9c95-a74119f61f80"
      },
      "source": [
        "# distribution of Insulin\n",
        "\n",
        "fig, axes = plt.subplots(nrows = 1, ncols = 2, figsize = (12, 4))\n",
        "\n",
        "plt.subplot(1, 2, 1)\n",
        "diabetes.Insulin.hist(color = 'red')\n",
        "plt.title('Histogram of Insulin')\n",
        "\n",
        "plt.subplot(1, 2, 2)\n",
        "sns.boxplot(diabetes.Insulin, color = 'indigo')\n",
        "plt.title('Box plot of Insulin')\n",
        "\n",
        "plt.show()"
      ],
      "execution_count": 31,
      "outputs": [
        {
          "output_type": "stream",
          "name": "stderr",
          "text": [
            "/usr/local/lib/python3.7/dist-packages/seaborn/_decorators.py:43: FutureWarning: Pass the following variable as a keyword arg: x. From version 0.12, the only valid positional argument will be `data`, and passing other arguments without an explicit keyword will result in an error or misinterpretation.\n",
            "  FutureWarning\n"
          ]
        },
        {
          "output_type": "display_data",
          "data": {
            "image/png": "[encoded data removed]",
            "text/plain": [
              "<Figure size 864x288 with 2 Axes>"
            ]
          },
          "metadata": {
            "needs_background": "light"
          }
        }
      ]
    },
    {
      "cell_type": "code",
      "metadata": {
        "id": "jIGBJ72zZAdM",
        "colab": {
          "base_uri": "https://localhost:8080/"
        },
        "outputId": "f1cb89b9-2ada-4ed7-9e77-86d8dbf8d7ab"
      },
      "source": [
        "# summary statistics of Insulin\n",
        "\n",
        "diabetes.Insulin.describe()"
      ],
      "execution_count": 32,
      "outputs": [
        {
          "output_type": "execute_result",
          "data": {
            "text/plain": [
              "count    768.000000\n",
              "mean      79.799479\n",
              "std      115.244002\n",
              "min        0.000000\n",
              "25%        0.000000\n",
              "50%       30.500000\n",
              "75%      127.250000\n",
              "max      846.000000\n",
              "Name: Insulin, dtype: float64"
            ]
          },
          "metadata": {},
          "execution_count": 32
        }
      ]
    },
    {
      "cell_type": "markdown",
      "metadata": {
        "id": "rOh7fLbtZAdR"
      },
      "source": [
        "Note your observations. Positively skewed, with many outliers"
      ]
    },
    {
      "cell_type": "code",
      "metadata": {
        "id": "Rofh9sMEZAdV",
        "colab": {
          "base_uri": "https://localhost:8080/",
          "height": 351
        },
        "outputId": "e4770783-8639-4c18-cfd9-3042bef19f22"
      },
      "source": [
        "# distribution of BMI\n",
        "\n",
        "fig, axes = plt.subplots(nrows = 1, ncols = 2, figsize = (12, 4))\n",
        "\n",
        "plt.subplot(1, 2, 1)\n",
        "diabetes.BMI.hist(color = 'red')\n",
        "plt.title('Histogram of BMI')\n",
        "\n",
        "plt.subplot(1, 2, 2)\n",
        "sns.boxplot(diabetes.BMI, color = 'indigo')\n",
        "plt.title('Box plot of BMI')\n",
        "\n",
        "plt.show()"
      ],
      "execution_count": 33,
      "outputs": [
        {
          "output_type": "stream",
          "name": "stderr",
          "text": [
            "/usr/local/lib/python3.7/dist-packages/seaborn/_decorators.py:43: FutureWarning: Pass the following variable as a keyword arg: x. From version 0.12, the only valid positional argument will be `data`, and passing other arguments without an explicit keyword will result in an error or misinterpretation.\n",
            "  FutureWarning\n"
          ]
        },
        {
          "output_type": "display_data",
          "data": {
            "image/png": "[encoded data removed]",
            "text/plain": [
              "<Figure size 864x288 with 2 Axes>"
            ]
          },
          "metadata": {
            "needs_background": "light"
          }
        }
      ]
    },
    {
      "cell_type": "code",
      "metadata": {
        "id": "XGHN1uQZZAdb",
        "colab": {
          "base_uri": "https://localhost:8080/"
        },
        "outputId": "07365204-8966-4239-d1fd-4d04955627f9"
      },
      "source": [
        "# summary statistics of BMI\n",
        "\n",
        "diabetes.BMI.describe()"
      ],
      "execution_count": 34,
      "outputs": [
        {
          "output_type": "execute_result",
          "data": {
            "text/plain": [
              "count    768.000000\n",
              "mean      31.992578\n",
              "std        7.884160\n",
              "min        0.000000\n",
              "25%       27.300000\n",
              "50%       32.000000\n",
              "75%       36.600000\n",
              "max       67.100000\n",
              "Name: BMI, dtype: float64"
            ]
          },
          "metadata": {},
          "execution_count": 34
        }
      ]
    },
    {
      "cell_type": "markdown",
      "metadata": {
        "id": "ys3iv5khZAdh"
      },
      "source": [
        "Note your observations. The BMI data is normaly distributed but has some outliers"
      ]
    },
    {
      "cell_type": "code",
      "metadata": {
        "id": "OT1xGAOtZAdl",
        "colab": {
          "base_uri": "https://localhost:8080/",
          "height": 351
        },
        "outputId": "1baff5db-d9ee-4212-e088-890852a1c783"
      },
      "source": [
        "# distribution of DiabetesPedigreeFunction\n",
        "\n",
        "fig, axes = plt.subplots(nrows = 1, ncols = 2, figsize = (12, 4))\n",
        "\n",
        "plt.subplot(1, 2, 1)\n",
        "diabetes.DiabetesPedigreeFunction.hist(color = 'red')\n",
        "plt.title('Histogram of DiabetesPedigreeFunction')\n",
        "\n",
        "plt.subplot(1, 2, 2)\n",
        "sns.boxplot(diabetes.DiabetesPedigreeFunction, color = 'indigo')\n",
        "plt.title('Box plot of DiabetesPedigreeFunction')\n",
        "\n",
        "plt.show()"
      ],
      "execution_count": 35,
      "outputs": [
        {
          "output_type": "stream",
          "name": "stderr",
          "text": [
            "/usr/local/lib/python3.7/dist-packages/seaborn/_decorators.py:43: FutureWarning: Pass the following variable as a keyword arg: x. From version 0.12, the only valid positional argument will be `data`, and passing other arguments without an explicit keyword will result in an error or misinterpretation.\n",
            "  FutureWarning\n"
          ]
        },
        {
          "output_type": "display_data",
          "data": {
            "image/png": "[encoded data removed]",
            "text/plain": [
              "<Figure size 864x288 with 2 Axes>"
            ]
          },
          "metadata": {
            "needs_background": "light"
          }
        }
      ]
    },
    {
      "cell_type": "code",
      "metadata": {
        "id": "L8OBUCJqZAdo",
        "colab": {
          "base_uri": "https://localhost:8080/"
        },
        "outputId": "e96ba4dc-8134-444b-e33d-533c80f573fa"
      },
      "source": [
        "# summary statistics of DiabetesPedigreeFunction\n",
        "\n",
        "diabetes.DiabetesPedigreeFunction.describe()"
      ],
      "execution_count": 36,
      "outputs": [
        {
          "output_type": "execute_result",
          "data": {
            "text/plain": [
              "count    768.000000\n",
              "mean       0.471876\n",
              "std        0.331329\n",
              "min        0.078000\n",
              "25%        0.243750\n",
              "50%        0.372500\n",
              "75%        0.626250\n",
              "max        2.420000\n",
              "Name: DiabetesPedigreeFunction, dtype: float64"
            ]
          },
          "metadata": {},
          "execution_count": 36
        }
      ]
    },
    {
      "cell_type": "markdown",
      "metadata": {
        "id": "_lzYOoTYZAdr"
      },
      "source": [
        "Note your observations. higly posively skewed with most of the data falling as outliers"
      ]
    },
    {
      "cell_type": "code",
      "metadata": {
        "id": "KaAWLP3FZAds"
      },
      "source": [
        ""
      ],
      "execution_count": null,
      "outputs": []
    },
    {
      "cell_type": "code",
      "metadata": {
        "id": "BpRC_5DKZAdy",
        "colab": {
          "base_uri": "https://localhost:8080/",
          "height": 351
        },
        "outputId": "8b6d4e49-4363-410e-8127-1674d544c011"
      },
      "source": [
        "# distribution of Age\n",
        "\n",
        "fig, axes = plt.subplots(nrows = 1, ncols = 2, figsize = (12, 4))\n",
        "\n",
        "plt.subplot(1, 2, 1)\n",
        "diabetes.Age.hist(color = 'red')\n",
        "plt.title('Histogram of Age')\n",
        "\n",
        "plt.subplot(1, 2, 2)\n",
        "sns.boxplot(diabetes.Age, color = 'indigo')\n",
        "plt.title('Box plot of Age')\n",
        "\n",
        "plt.show()"
      ],
      "execution_count": 37,
      "outputs": [
        {
          "output_type": "stream",
          "name": "stderr",
          "text": [
            "/usr/local/lib/python3.7/dist-packages/seaborn/_decorators.py:43: FutureWarning: Pass the following variable as a keyword arg: x. From version 0.12, the only valid positional argument will be `data`, and passing other arguments without an explicit keyword will result in an error or misinterpretation.\n",
            "  FutureWarning\n"
          ]
        },
        {
          "output_type": "display_data",
          "data": {
            "image/png": "[encoded data removed]",
            "text/plain": [
              "<Figure size 864x288 with 2 Axes>"
            ]
          },
          "metadata": {
            "needs_background": "light"
          }
        }
      ]
    },
    {
      "cell_type": "code",
      "metadata": {
        "id": "w3hJyT8XZAd9",
        "colab": {
          "base_uri": "https://localhost:8080/"
        },
        "outputId": "e42852e9-2a90-4763-9e2e-e4127f782f6c"
      },
      "source": [
        "# summary statistics of Age\n",
        "\n",
        "diabetes.Age.describe()"
      ],
      "execution_count": 38,
      "outputs": [
        {
          "output_type": "execute_result",
          "data": {
            "text/plain": [
              "count    768.000000\n",
              "mean      33.240885\n",
              "std       11.760232\n",
              "min       21.000000\n",
              "25%       24.000000\n",
              "50%       29.000000\n",
              "75%       41.000000\n",
              "max       81.000000\n",
              "Name: Age, dtype: float64"
            ]
          },
          "metadata": {},
          "execution_count": 38
        }
      ]
    },
    {
      "cell_type": "code",
      "metadata": {
        "id": "MSgkBWM6ZAeB"
      },
      "source": [
        "Positvely skewed\n",
        "outliers "
      ],
      "execution_count": null,
      "outputs": []
    },
    {
      "cell_type": "code",
      "metadata": {
        "id": "wPEWGehNZAeE"
      },
      "source": [
        "# distribution of outcome - create a pie chart\n",
        "\n",
        "YOUR CODE HERE"
      ],
      "execution_count": null,
      "outputs": []
    },
    {
      "cell_type": "markdown",
      "metadata": {
        "id": "_3RFBJyyZAeG"
      },
      "source": [
        "Note your observations."
      ]
    },
    {
      "cell_type": "markdown",
      "metadata": {
        "id": "3lxiprbCZAeH"
      },
      "source": [
        "### 3.2 Research-Specific Analysis"
      ]
    },
    {
      "cell_type": "markdown",
      "metadata": {
        "id": "Va1fXT7BZAeH"
      },
      "source": [
        "Since our research question requires us to discover the factors that determine whether a patient has diabetes or not, we will make the 'Outcome' variable our main focus during this analysis."
      ]
    },
    {
      "cell_type": "code",
      "metadata": {
        "id": "Xx1ijV3fZAeI",
        "colab": {
          "base_uri": "https://localhost:8080/",
          "height": 351
        },
        "outputId": "9ca4e628-341f-4dfa-a171-05b02f90c87a"
      },
      "source": [
        "# box and bar plots of Pregnancies by Outcome\n",
        "fig, axes = plt.subplots(nrows = 1, ncols = 2, figsize = (12, 4))\n",
        "\n",
        "plt.subplot(1, 2, 1)\n",
        "sns.barplot(data = diabetes, x = 'Outcome', y = 'Pregnancies')\n",
        "plt.title('Bar plot of Outcome by Pregnancies')\n",
        "\n",
        "plt.subplot(1, 2, 2)\n",
        "sns.boxplot(diabetes.Pregnancies, diabetes.Outcome, orient = 'h')\n",
        "plt.title('Box plot of Pregnancies by Outcome')\n",
        "\n",
        "plt.show()"
      ],
      "execution_count": 39,
      "outputs": [
        {
          "output_type": "stream",
          "name": "stderr",
          "text": [
            "/usr/local/lib/python3.7/dist-packages/seaborn/_decorators.py:43: FutureWarning: Pass the following variables as keyword args: x, y. From version 0.12, the only valid positional argument will be `data`, and passing other arguments without an explicit keyword will result in an error or misinterpretation.\n",
            "  FutureWarning\n"
          ]
        },
        {
          "output_type": "display_data",
          "data": {
            "image/png": "[encoded data removed]",
            "text/plain": [
              "<Figure size 864x288 with 2 Axes>"
            ]
          },
          "metadata": {
            "needs_background": "light"
          }
        }
      ]
    },
    {
      "cell_type": "markdown",
      "metadata": {
        "id": "uY8bKfbsZAeN"
      },
      "source": [
        "What do you notice? Majority of the 4th and 5th pregancies will have diabetes"
      ]
    },
    {
      "cell_type": "code",
      "metadata": {
        "id": "8KTAXcdEZAeO"
      },
      "source": [
        ""
      ],
      "execution_count": null,
      "outputs": []
    },
    {
      "cell_type": "code",
      "metadata": {
        "id": "db8v0fvRZAeQ",
        "colab": {
          "base_uri": "https://localhost:8080/",
          "height": 351
        },
        "outputId": "f7540907-7d6e-48c7-c330-1b08cb145901"
      },
      "source": [
        "# box and bar plots of Glucose by Outcome\n",
        "\n",
        "fig, axes = plt.subplots(nrows = 1, ncols = 2, figsize = (12, 4))\n",
        "\n",
        "plt.subplot(1, 2, 1)\n",
        "sns.barplot(data = diabetes, x = 'Outcome', y = 'Glucose')\n",
        "plt.title('Bar plot of Glucose by Outcome')\n",
        "\n",
        "plt.subplot(1, 2, 2)\n",
        "sns.boxplot(diabetes.Glucose, diabetes.Outcome, orient = 'h')\n",
        "plt.title('Box plot of Glucose by Outcome')\n",
        "\n",
        "plt.show()"
      ],
      "execution_count": 44,
      "outputs": [
        {
          "output_type": "stream",
          "name": "stderr",
          "text": [
            "/usr/local/lib/python3.7/dist-packages/seaborn/_decorators.py:43: FutureWarning: Pass the following variables as keyword args: x, y. From version 0.12, the only valid positional argument will be `data`, and passing other arguments without an explicit keyword will result in an error or misinterpretation.\n",
            "  FutureWarning\n"
          ]
        },
        {
          "output_type": "display_data",
          "data": {
            "image/png": "[encoded data removed]",
            "text/plain": [
              "<Figure size 864x288 with 2 Axes>"
            ]
          },
          "metadata": {
            "needs_background": "light"
          }
        }
      ]
    },
    {
      "cell_type": "markdown",
      "metadata": {
        "id": "xneiKQtLZAeT"
      },
      "source": [
        "Note your observartions. When glucose is above 120, diabetes kicks in"
      ]
    },
    {
      "cell_type": "code",
      "metadata": {
        "id": "RIdeopqYZAeb",
        "colab": {
          "base_uri": "https://localhost:8080/",
          "height": 351
        },
        "outputId": "f99717b2-d810-47d4-f578-bf9faaf06c8d"
      },
      "source": [
        "# box and bar plots of BloodPressure by Outcome\n",
        "\n",
        "fig, axes = plt.subplots(nrows = 1, ncols = 2, figsize = (12, 4))\n",
        "\n",
        "plt.subplot(1, 2, 1)\n",
        "sns.barplot(data = diabetes, x = 'Outcome', y = 'BloodPressure')\n",
        "plt.title('Bar plot of BloodPressure by Outcome')\n",
        "\n",
        "plt.subplot(1, 2, 2)\n",
        "sns.boxplot(diabetes.BloodPressure, diabetes.Outcome, orient = 'h')\n",
        "plt.title('Box plot of BloodPressure by Outcome')\n",
        "\n",
        "plt.show()"
      ],
      "execution_count": 45,
      "outputs": [
        {
          "output_type": "stream",
          "name": "stderr",
          "text": [
            "/usr/local/lib/python3.7/dist-packages/seaborn/_decorators.py:43: FutureWarning: Pass the following variables as keyword args: x, y. From version 0.12, the only valid positional argument will be `data`, and passing other arguments without an explicit keyword will result in an error or misinterpretation.\n",
            "  FutureWarning\n"
          ]
        },
        {
          "output_type": "display_data",
          "data": {
            "image/png": "[encoded data removed]",
            "text/plain": [
              "<Figure size 864x288 with 2 Axes>"
            ]
          },
          "metadata": {
            "needs_background": "light"
          }
        }
      ]
    },
    {
      "cell_type": "markdown",
      "metadata": {
        "id": "7B1cClwXZAei"
      },
      "source": [
        "Note your observations. Blood pressuere and diabetes have a direct correlation"
      ]
    },
    {
      "cell_type": "code",
      "metadata": {
        "id": "cLlJfhzjZAei"
      },
      "source": [
        ""
      ],
      "execution_count": null,
      "outputs": []
    },
    {
      "cell_type": "code",
      "metadata": {
        "id": "YSN2Cy6tZAfV",
        "colab": {
          "base_uri": "https://localhost:8080/",
          "height": 351
        },
        "outputId": "79d984f7-42cd-429b-d66e-dd61273280ff"
      },
      "source": [
        "# box and bar plots of SkinThickness by Outcome\n",
        "\n",
        "fig, axes = plt.subplots(nrows = 1, ncols = 2, figsize = (12, 4))\n",
        "\n",
        "plt.subplot(1, 2, 1)\n",
        "sns.barplot(data = diabetes, x = 'Outcome', y = 'SkinThickness')\n",
        "plt.title('Bar plot of SkinThickness by Outcome')\n",
        "\n",
        "plt.subplot(1, 2, 2)\n",
        "sns.boxplot(diabetes.SkinThickness, diabetes.Outcome, orient = 'h')\n",
        "plt.title('Box plot of SkinThickness by Outcome')\n",
        "\n",
        "plt.show()"
      ],
      "execution_count": 47,
      "outputs": [
        {
          "output_type": "stream",
          "name": "stderr",
          "text": [
            "/usr/local/lib/python3.7/dist-packages/seaborn/_decorators.py:43: FutureWarning: Pass the following variables as keyword args: x, y. From version 0.12, the only valid positional argument will be `data`, and passing other arguments without an explicit keyword will result in an error or misinterpretation.\n",
            "  FutureWarning\n"
          ]
        },
        {
          "output_type": "display_data",
          "data": {
            "image/png": "[encoded data removed]",
            "text/plain": [
              "<Figure size 864x288 with 2 Axes>"
            ]
          },
          "metadata": {
            "needs_background": "light"
          }
        }
      ]
    },
    {
      "cell_type": "markdown",
      "metadata": {
        "id": "xUEyx7VVZAfd"
      },
      "source": [
        "Note your observations. Skinthickness only seems to have a positive diabetes outcome where the thickness is less than 40"
      ]
    },
    {
      "cell_type": "code",
      "metadata": {
        "id": "2P-I2UD_ZAfe"
      },
      "source": [
        ""
      ],
      "execution_count": null,
      "outputs": []
    },
    {
      "cell_type": "code",
      "metadata": {
        "id": "TOTTE_rKZAge",
        "colab": {
          "base_uri": "https://localhost:8080/",
          "height": 351
        },
        "outputId": "75947c49-8c88-47fd-967a-9d9ac7049d79"
      },
      "source": [
        "# box and bar plots of Insulin by Outcome\n",
        "fig, axes = plt.subplots(nrows = 1, ncols = 2, figsize = (12, 4))\n",
        "\n",
        "plt.subplot(1, 2, 1)\n",
        "sns.barplot(data = diabetes, x = 'Outcome', y = 'Insulin')\n",
        "plt.title('Bar plot of Insulin by Outcome')\n",
        "\n",
        "plt.subplot(1, 2, 2)\n",
        "sns.boxplot(diabetes.Insulin, diabetes.Outcome, orient = 'h')\n",
        "plt.title('Box plot of Insulin by Outcome')\n",
        "\n",
        "plt.show()"
      ],
      "execution_count": 48,
      "outputs": [
        {
          "output_type": "stream",
          "name": "stderr",
          "text": [
            "/usr/local/lib/python3.7/dist-packages/seaborn/_decorators.py:43: FutureWarning: Pass the following variables as keyword args: x, y. From version 0.12, the only valid positional argument will be `data`, and passing other arguments without an explicit keyword will result in an error or misinterpretation.\n",
            "  FutureWarning\n"
          ]
        },
        {
          "output_type": "display_data",
          "data": {
            "image/png": "[encoded data removed]",
            "text/plain": [
              "<Figure size 864x288 with 2 Axes>"
            ]
          },
          "metadata": {
            "needs_background": "light"
          }
        }
      ]
    },
    {
      "cell_type": "markdown",
      "metadata": {
        "id": "LMptMt3aZAgs"
      },
      "source": [
        "Note your observations. Where insulin is low diabetes is high"
      ]
    },
    {
      "cell_type": "code",
      "metadata": {
        "id": "oxbIJ2H_ZAgv"
      },
      "source": [
        ""
      ],
      "execution_count": null,
      "outputs": []
    },
    {
      "cell_type": "code",
      "metadata": {
        "id": "KZcufW3vZAg4",
        "colab": {
          "base_uri": "https://localhost:8080/",
          "height": 351
        },
        "outputId": "27550270-a9d7-4df3-e8c0-7f33fd92e99d"
      },
      "source": [
        "# box and bar plots of BMI by Outcome\n",
        "\n",
        "fig, axes = plt.subplots(nrows = 1, ncols = 2, figsize = (12, 4))\n",
        "\n",
        "plt.subplot(1, 2, 1)\n",
        "sns.barplot(data = diabetes, x = 'Outcome', y = 'BMI')\n",
        "plt.title('Bar plot of BMI by Outcome')\n",
        "\n",
        "plt.subplot(1, 2, 2)\n",
        "sns.boxplot(diabetes.BMI, diabetes.Outcome, orient = 'h')\n",
        "plt.title('Box plot of BMI by Outcome')\n",
        "\n",
        "plt.show()"
      ],
      "execution_count": 49,
      "outputs": [
        {
          "output_type": "stream",
          "name": "stderr",
          "text": [
            "/usr/local/lib/python3.7/dist-packages/seaborn/_decorators.py:43: FutureWarning: Pass the following variables as keyword args: x, y. From version 0.12, the only valid positional argument will be `data`, and passing other arguments without an explicit keyword will result in an error or misinterpretation.\n",
            "  FutureWarning\n"
          ]
        },
        {
          "output_type": "display_data",
          "data": {
            "image/png": "[encoded data removed]",
            "text/plain": [
              "<Figure size 864x288 with 2 Axes>"
            ]
          },
          "metadata": {
            "needs_background": "light"
          }
        }
      ]
    },
    {
      "cell_type": "markdown",
      "metadata": {
        "id": "Wa86BMksZAg7"
      },
      "source": [
        "Note your observations.The higher the BMI the higher the cases of diabetes"
      ]
    },
    {
      "cell_type": "code",
      "metadata": {
        "id": "YoGE5KOAZAg8"
      },
      "source": [
        ""
      ],
      "execution_count": null,
      "outputs": []
    },
    {
      "cell_type": "code",
      "metadata": {
        "id": "7yT9cCtNZAg_",
        "colab": {
          "base_uri": "https://localhost:8080/",
          "height": 351
        },
        "outputId": "c5ffec27-099c-40c4-eb16-e97a6857c139"
      },
      "source": [
        "# box and bar plots of DiabetesPedigreeFunction by Outcome\n",
        "\n",
        "fig, axes = plt.subplots(nrows = 1, ncols = 2, figsize = (12, 4))\n",
        "\n",
        "plt.subplot(1, 2, 1)\n",
        "sns.barplot(data = diabetes, x = 'Outcome', y = 'DiabetesPedigreeFunction')\n",
        "plt.title('Bar plot of DiabetesPedigreeFunction by Outcome')\n",
        "\n",
        "plt.subplot(1, 2, 2)\n",
        "sns.boxplot(diabetes.DiabetesPedigreeFunction, diabetes.Outcome, orient = 'h')\n",
        "plt.title('Box plot of DiabetesPedigreeFunction by Outcome')\n",
        "\n",
        "plt.show()"
      ],
      "execution_count": 50,
      "outputs": [
        {
          "output_type": "stream",
          "name": "stderr",
          "text": [
            "/usr/local/lib/python3.7/dist-packages/seaborn/_decorators.py:43: FutureWarning: Pass the following variables as keyword args: x, y. From version 0.12, the only valid positional argument will be `data`, and passing other arguments without an explicit keyword will result in an error or misinterpretation.\n",
            "  FutureWarning\n"
          ]
        },
        {
          "output_type": "display_data",
          "data": {
            "image/png": "[encoded data removed]",
            "text/plain": [
              "<Figure size 864x288 with 2 Axes>"
            ]
          },
          "metadata": {
            "needs_background": "light"
          }
        }
      ]
    },
    {
      "cell_type": "markdown",
      "metadata": {
        "id": "_sZMWv-SZAhC"
      },
      "source": [
        "Note your observations.the higher the diabetespedigreefunction the higher the instances of diabets "
      ]
    },
    {
      "cell_type": "code",
      "metadata": {
        "id": "S8eDoOzMZAhN",
        "colab": {
          "base_uri": "https://localhost:8080/",
          "height": 351
        },
        "outputId": "47c0a804-e06c-497f-e912-32893af46779"
      },
      "source": [
        "# box and bar plots of Age by Outcome\n",
        "\n",
        "fig, axes = plt.subplots(nrows = 1, ncols = 2, figsize = (12, 4))\n",
        "\n",
        "plt.subplot(1, 2, 1)\n",
        "sns.barplot(data = diabetes, x = 'Outcome', y = 'Age')\n",
        "plt.title('Bar plot of Age by Outcome')\n",
        "\n",
        "plt.subplot(1, 2, 2)\n",
        "sns.boxplot(diabetes.Age, diabetes.Outcome, orient = 'h')\n",
        "plt.title('Box plot of Age by Outcome')\n",
        "\n",
        "plt.show()"
      ],
      "execution_count": 51,
      "outputs": [
        {
          "output_type": "stream",
          "name": "stderr",
          "text": [
            "/usr/local/lib/python3.7/dist-packages/seaborn/_decorators.py:43: FutureWarning: Pass the following variables as keyword args: x, y. From version 0.12, the only valid positional argument will be `data`, and passing other arguments without an explicit keyword will result in an error or misinterpretation.\n",
            "  FutureWarning\n"
          ]
        },
        {
          "output_type": "display_data",
          "data": {
            "image/png": "[encoded data removed]",
            "text/plain": [
              "<Figure size 864x288 with 2 Axes>"
            ]
          },
          "metadata": {
            "needs_background": "light"
          }
        }
      ]
    },
    {
      "cell_type": "markdown",
      "metadata": {
        "id": "E14nQPS5ZAhW"
      },
      "source": [
        "Note your observations.Diabetes is prevalent for those whose age is above 40"
      ]
    },
    {
      "cell_type": "markdown",
      "metadata": {
        "id": "vTbdjSrhVIiT"
      },
      "source": [
        "## <font color='#2F4F4F'>4. Summary of Findings</font>"
      ]
    },
    {
      "cell_type": "markdown",
      "metadata": {
        "id": "PdHyc8WYHlAG"
      },
      "source": [
        "Interpret and summarize the findings of your analysis."
      ]
    },
    {
      "cell_type": "markdown",
      "metadata": {
        "id": "noZz5YRQXKzi"
      },
      "source": [
        "## <font color='#2F4F4F'>5. Recommendations</font>"
      ]
    },
    {
      "cell_type": "markdown",
      "metadata": {
        "id": "wdMBFVe0XSgf"
      },
      "source": [
        "What would you recommend the NGO Hospital to do based on the findings of your analysis? Monitor the insulin levels and BMI which have a direct impact on diabetes\n",
        "Blood pressure is also another factor that causes high cases of diabetes"
      ]
    },
    {
      "cell_type": "markdown",
      "metadata": {
        "id": "xrmHVMVsVS--"
      },
      "source": [
        "## <font color='#2F4F4F'>6. Challenging your Solution</font>"
      ]
    },
    {
      "cell_type": "markdown",
      "metadata": {
        "id": "HPQviDmNtta8"
      },
      "source": [
        "### a) Did we have the right data?\n"
      ]
    },
    {
      "cell_type": "markdown",
      "metadata": {
        "id": "CbQa-2odZAhb"
      },
      "source": [
        "### b) Did we have the right question?\n",
        "\n"
      ]
    }
  ]
}