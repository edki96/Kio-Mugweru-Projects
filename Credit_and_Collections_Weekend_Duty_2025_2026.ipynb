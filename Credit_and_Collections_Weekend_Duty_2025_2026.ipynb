{
  "nbformat": 4,
  "nbformat_minor": 0,
  "metadata": {
    "colab": {
      "provenance": [],
      "authorship_tag": "ABX9TyPsqRrtHX2jrY8gT2RXXNrv",
      "include_colab_link": true
    },
    "kernelspec": {
      "name": "python3",
      "display_name": "Python 3"
    },
    "language_info": {
      "name": "python"
    }
  },
  "cells": [
    {
      "cell_type": "markdown",
      "metadata": {
        "id": "view-in-github",
        "colab_type": "text"
      },
      "source": [
        "<a href=\"https://colab.research.google.com/github/edki96/Kio-Mugweru-Projects/blob/main/Credit_and_Collections_Weekend_Duty_2025_2026.ipynb\" target=\"_parent\"><img src=\"https://colab.research.google.com/assets/colab-badge.svg\" alt=\"Open In Colab\"/></a>"
      ]
    },
    {
      "cell_type": "code",
      "execution_count": null,
      "metadata": {
        "id": "VYpYX6wJbaN4"
      },
      "outputs": [],
      "source": []
    },
    {
      "cell_type": "code",
      "source": [
        "import pandas as pd\n",
        "from datetime import datetime, timedelta\n",
        "import random\n",
        "\n",
        "# Setup team and Kenyan public holidays\n",
        "team = [f\"Staff {i+1}\" for i in range(20)]\n",
        "public_holidays_str = [\n",
        "    \"2025-01-01\", \"2025-03-31\", \"2025-04-18\", \"2025-04-21\", \"2025-05-01\",\n",
        "    \"2025-06-01\", \"2025-06-07\", \"2025-10-10\", \"2025-10-20\", \"2025-12-12\",\n",
        "    \"2025-12-25\", \"2025-12-26\"\n",
        "]\n",
        "public_holidays = set(datetime.strptime(d, \"%Y-%m-%d\").date() for d in public_holidays_str)\n",
        "\n",
        "# Generate all Saturdays, Sundays, and public holidays in 2025\n",
        "start_date = datetime(2025, 6, 14).date()\n",
        "end_date = datetime(2026, 3, 31).date()\n",
        "\n",
        "all_duty_dates = []\n",
        "cur_date = start_date\n",
        "while cur_date <= end_date:\n",
        "    if cur_date.weekday() in (5, 6) or cur_date in public_holidays:\n",
        "        all_duty_dates.append(cur_date)\n",
        "    cur_date += timedelta(days=1)\n",
        "\n",
        "def day_type(date):\n",
        "    if date in public_holidays:\n",
        "        return \"Public Holiday\"\n",
        "    elif date.weekday() == 5:\n",
        "        return \"Saturday\"\n",
        "    else:\n",
        "        return \"Sunday\"\n",
        "\n",
        "# Tracking assignments\n",
        "staff_total_assignments = {s: 0 for s in team}\n",
        "staff_month_assignments = {s: set() for s in team}\n",
        "\n",
        "# Rotation pool to ensure everyone works once before repeats\n",
        "rotation_pool = team.copy()\n",
        "random.shuffle(rotation_pool)\n",
        "\n",
        "assignments = []\n",
        "\n",
        "for date in sorted(all_duty_dates):\n",
        "    d_type = day_type(date)\n",
        "    needed = 2 if d_type in (\"Saturday\", \"Public Holiday\") else 1\n",
        "\n",
        "    # Eligible staff: in rotation pool and not worked this month\n",
        "    month = date.month\n",
        "    eligible = [s for s in rotation_pool if month not in staff_month_assignments[s]]\n",
        "\n",
        "    # If not enough eligible, reset rotation pool and reshuffle\n",
        "    if len(eligible) < needed:\n",
        "        rotation_pool = team.copy()\n",
        "        random.shuffle(rotation_pool)\n",
        "        eligible = [s for s in rotation_pool if month not in staff_month_assignments[s]]\n",
        "\n",
        "    # Sort eligible by total assignments to balance workload\n",
        "    eligible.sort(key=lambda s: staff_total_assignments[s])\n",
        "\n",
        "    # Randomize the order for fairness\n",
        "    random.shuffle(eligible)\n",
        "\n",
        "    assigned = eligible[:needed]\n",
        "\n",
        "    for s in assigned:\n",
        "        staff_total_assignments[s] += 1\n",
        "        staff_month_assignments[s].add(month)\n",
        "        if s in rotation_pool:\n",
        "            rotation_pool.remove(s)\n",
        "\n",
        "    # Pad assigned list for consistent 2 columns output\n",
        "    while len(assigned) < 2:\n",
        "        assigned.append(\"\")\n",
        "\n",
        "    assignments.append([date.strftime(\"%Y-%m-%d\"), d_type, assigned[0], assigned[1]])\n",
        "\n",
        "# Export to Excel\n",
        "df = pd.DataFrame(assignments, columns=[\"Date\", \"Day Type\", \"Staff 1\", \"Staff 2\"])\n",
        "df.to_excel(\"Credit_and_Collections_Weekend_Duty_2025.xlsx\", index=False)\n",
        "\n",
        "print(\"Schedule saved to 'Credit_and_Collections_Weekend_Duty_2025.xlsx'\")\n"
      ],
      "metadata": {
        "colab": {
          "base_uri": "https://localhost:8080/"
        },
        "id": "7tf6M3ExbetL",
        "outputId": "cf595350-e823-40ec-d9ad-8b2f17bc12a8"
      },
      "execution_count": null,
      "outputs": [
        {
          "output_type": "stream",
          "name": "stdout",
          "text": [
            "Schedule saved to 'Credit_and_Collections_Weekend_Duty_2025.xlsx'\n"
          ]
        }
      ]
    }
  ]
}